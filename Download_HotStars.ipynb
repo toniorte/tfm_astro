{
 "cells": [
  {
   "cell_type": "code",
   "execution_count": 1,
   "metadata": {},
   "outputs": [],
   "source": [
    "from astroquery.vizier import Vizier\n",
    "from astroquery.sdss import SDSS\n",
    "import astropy.units as u\n",
    "from astropy import coordinates as coords\n",
    "from astropy.table import Table, hstack, vstack\n",
    "from astropy.io import fits\n",
    "import matplotlib.pyplot as plt\n",
    "import numpy as np\n",
    "from synphot import SourceSpectrum\n",
    "from synphot.models import Empirical1D\n",
    "from synphot import units\n",
    "import random\n",
    "import os.path\n",
    "from collections import Counter\n",
    "from specutils import Spectrum1D, SpectralRegion\n",
    "from specutils.analysis import snr_derived\n"
   ]
  },
  {
   "cell_type": "code",
   "execution_count": 3,
   "metadata": {},
   "outputs": [],
   "source": [
    "# 164 total subclasses, 58 hot star subclasses:\n",
    "hotClass = [\n",
    "'A0',\n",
    "'A0 (19510)',\n",
    "'A0IVn (25642)',\n",
    "'A0p',\n",
    "'A1Iae (12953)',\n",
    "'A1III (225180)',\n",
    "'A1m (78209)',\n",
    "'A1V (95418)',\n",
    "'A2Ia (14489)',\n",
    "'A2II (39866)',\n",
    "'A3Iae (223385)',\n",
    "'A4 (G_165-39)',\n",
    "'A4p (G_37-26)',\n",
    "'A4V (136729)',\n",
    "'A4V (97603)',\n",
    "'A5Ia (17378)',\n",
    "'A5II (34578)',\n",
    "'A6IV (28527)',\n",
    "'A8V (155514)',\n",
    "'A9V (154660)',\n",
    "'Am (78362)',\n",
    "'B0.5Iae (185859)',\n",
    "'B0.5Ibe... (187459)',\n",
    "'B0IVe (5394)',\n",
    "'B1Ve (212571)',\n",
    "'B2.5V (175426)',\n",
    "'B2.5Ve (187811)',\n",
    "'B2Iaevar (41117)',\n",
    "'B2III (35468)',\n",
    "'B2IV-V (176819)',\n",
    "'B2Ve (164284)',\n",
    "'B2Vne (202904)',\n",
    "'B2Vne (58343)',\n",
    "'B3Ib/II (51309)',\n",
    "'B3II (175156)',\n",
    "'B3V (29763)',\n",
    "'B3Ve (25940)',\n",
    "'B5 (338529)',\n",
    "'B5Ib (191243)',\n",
    "'B5III (209419)',\n",
    "'B5V (173087)',\n",
    "'B6',\n",
    "'B6IIIpe (109387)',\n",
    "'B6IV (174959)',\n",
    "'B7IVe (209409)',\n",
    "'B8Ib (208501)',\n",
    "'B8III (220575)',\n",
    "'B8IV (171301)',\n",
    "'B9',\n",
    "'B9 (105262)',\n",
    "'B9.5V+... (37269)',\n",
    "'B9III (15318)',\n",
    "'B9Vn (177756)',\n",
    "'O',\n",
    "'O8/O9 (167771)',\n",
    "'O8e (188001)',\n",
    "'O9.5Iae (30614)',\n",
    "'OB'\n",
    "]\n"
   ]
  },
  {
   "cell_type": "code",
   "execution_count": 10,
   "metadata": {},
   "outputs": [],
   "source": [
    "hotStars = Table()\n",
    "for x in range(len(hotClass)):\n",
    "    query = \"select specobjid, ra, dec, plate, mjd, fiberid, class, subclass, z from specObj where class='STAR' and subclass = '\"+hotClass[x]+\"'\"\n",
    "    res = SDSS.query_sql(query, data_release=17)\n",
    "    hotStars = vstack([hotStars, res])\n"
   ]
  },
  {
   "cell_type": "code",
   "execution_count": 13,
   "metadata": {},
   "outputs": [],
   "source": [
    "hotStars.write('tables/hotstars.ecsv')\n"
   ]
  },
  {
   "cell_type": "code",
   "execution_count": 4,
   "metadata": {},
   "outputs": [],
   "source": [
    "hotStars=Table.read('tables/hotstars.ecsv')\n"
   ]
  },
  {
   "cell_type": "code",
   "execution_count": 15,
   "metadata": {},
   "outputs": [],
   "source": [
    "# Pick 1000 random stars\n",
    "hotStars_1k = hotStars[random.sample(range(len(hotStars)), 1000)]\n"
   ]
  },
  {
   "cell_type": "code",
   "execution_count": 17,
   "metadata": {},
   "outputs": [],
   "source": [
    "hotStars_1k.write('tables/hotstars_1k.ecsv')\n"
   ]
  },
  {
   "cell_type": "code",
   "execution_count": 2,
   "metadata": {},
   "outputs": [
    {
     "data": {
      "text/html": [
       "<div><i>Table length=1000</i>\n",
       "<table id=\"table2059646929600\" class=\"table-striped table-bordered table-condensed\">\n",
       "<thead><tr><th>specobjid</th><th>ra</th><th>dec</th><th>plate</th><th>mjd</th><th>fiberid</th><th>class</th><th>subclass</th><th>z</th></tr></thead>\n",
       "<thead><tr><th>float64</th><th>float64</th><th>float64</th><th>int32</th><th>int32</th><th>int32</th><th>str4</th><th>str19</th><th>float64</th></tr></thead>\n",
       "<tr><td>3.7312441944093245e+18</td><td>224.98038</td><td>-0.61224314</td><td>3314</td><td>54970</td><td>43</td><td>STAR</td><td>A0</td><td>0.0006146495</td></tr>\n",
       "<tr><td>6.544868909614651e+18</td><td>141.37604</td><td>45.611524</td><td>5813</td><td>56363</td><td>46</td><td>STAR</td><td>A1V (95418)</td><td>0.0003341742</td></tr>\n",
       "<tr><td>7.646035853253564e+18</td><td>235.33571</td><td>56.732179</td><td>6791</td><td>56429</td><td>180</td><td>STAR</td><td>A2II (39866)</td><td>-0.0009936119</td></tr>\n",
       "<tr><td>9.319199541684361e+18</td><td>119.06644</td><td>43.124837</td><td>8277</td><td>57073</td><td>458</td><td>STAR</td><td>A4p (G_37-26)</td><td>0.000177478</td></tr>\n",
       "<tr><td>6.805186529247648e+18</td><td>244.46258</td><td>41.939843</td><td>6044</td><td>56090</td><td>900</td><td>STAR</td><td>A4V (97603)</td><td>-0.0001727998</td></tr>\n",
       "<tr><td>7.076336544668473e+18</td><td>10.994135</td><td>22.565733</td><td>6285</td><td>56248</td><td>202</td><td>STAR</td><td>A8V (155514)</td><td>-0.0002458861</td></tr>\n",
       "<tr><td>2.4871585894965187e+18</td><td>248.24663</td><td>14.754369</td><td>2209</td><td>53907</td><td>166</td><td>STAR</td><td>A0</td><td>-0.0001720352</td></tr>\n",
       "<tr><td>6.811749514137065e+18</td><td>235.41106</td><td>41.823698</td><td>6050</td><td>56089</td><td>200</td><td>STAR</td><td>A9V (154660)</td><td>-0.0008251562</td></tr>\n",
       "<tr><td>3.6445908569309594e+18</td><td>196.41757</td><td>59.455818</td><td>3237</td><td>54883</td><td>192</td><td>STAR</td><td>A0</td><td>0.0001093311</td></tr>\n",
       "<tr><td>4.802203438334368e+18</td><td>36.782771</td><td>3.0916197</td><td>4265</td><td>55505</td><td>874</td><td>STAR</td><td>B5 (338529)</td><td>-0.0006746918</td></tr>\n",
       "<tr><td>...</td><td>...</td><td>...</td><td>...</td><td>...</td><td>...</td><td>...</td><td>...</td><td>...</td></tr>\n",
       "<tr><td>2.4591191125849805e+18</td><td>272.41839</td><td>23.724581</td><td>2184</td><td>53534</td><td>559</td><td>STAR</td><td>B6</td><td>4.209842e-05</td></tr>\n",
       "<tr><td>3.288015575774925e+17</td><td>192.69223</td><td>-0.70316363</td><td>292</td><td>51609</td><td>141</td><td>STAR</td><td>A0</td><td>0.0009300611</td></tr>\n",
       "<tr><td>6.963822419766434e+18</td><td>4.5456059</td><td>16.113381</td><td>6185</td><td>56217</td><td>478</td><td>STAR</td><td>B2Vne (58343)</td><td>3.890623e-05</td></tr>\n",
       "<tr><td>6.099013639557372e+18</td><td>196.24269</td><td>7.4155562</td><td>5417</td><td>55978</td><td>50</td><td>STAR</td><td>A2II (39866)</td><td>6.826117e-06</td></tr>\n",
       "<tr><td>2.8227240402155213e+18</td><td>174.05988</td><td>22.806802</td><td>2507</td><td>53876</td><td>338</td><td>STAR</td><td>A0</td><td>-0.0003583862</td></tr>\n",
       "<tr><td>5.225339500583213e+18</td><td>139.83796</td><td>39.86554</td><td>4641</td><td>55947</td><td>138</td><td>STAR</td><td>A4V (136729)</td><td>-0.0003476935</td></tr>\n",
       "<tr><td>3.312456150774999e+18</td><td>70.93546</td><td>-6.287121</td><td>2942</td><td>54521</td><td>213</td><td>STAR</td><td>A0</td><td>0.0002197366</td></tr>\n",
       "<tr><td>2.6154985424284815e+18</td><td>333.17986</td><td>6.193271</td><td>2323</td><td>54380</td><td>120</td><td>STAR</td><td>A0</td><td>-0.0004861406</td></tr>\n",
       "<tr><td>1.0543170398669003e+19</td><td>114.19265</td><td>33.643137</td><td>9364</td><td>57699</td><td>886</td><td>STAR</td><td>A1V (95418)</td><td>-0.0002543663</td></tr>\n",
       "<tr><td>6.765664862406466e+18</td><td>208.68733</td><td>27.395036</td><td>6009</td><td>56313</td><td>481</td><td>STAR</td><td>A1V (95418)</td><td>0.0007568352</td></tr>\n",
       "</table></div>"
      ],
      "text/plain": [
       "<Table length=1000>\n",
       "      specobjid            ra        dec     ...    subclass         z      \n",
       "       float64          float64    float64   ...     str19        float64   \n",
       "---------------------- --------- ----------- ... ------------- -------------\n",
       "3.7312441944093245e+18 224.98038 -0.61224314 ...            A0  0.0006146495\n",
       " 6.544868909614651e+18 141.37604   45.611524 ...   A1V (95418)  0.0003341742\n",
       " 7.646035853253564e+18 235.33571   56.732179 ...  A2II (39866) -0.0009936119\n",
       " 9.319199541684361e+18 119.06644   43.124837 ... A4p (G_37-26)   0.000177478\n",
       " 6.805186529247648e+18 244.46258   41.939843 ...   A4V (97603) -0.0001727998\n",
       " 7.076336544668473e+18 10.994135   22.565733 ...  A8V (155514) -0.0002458861\n",
       "2.4871585894965187e+18 248.24663   14.754369 ...            A0 -0.0001720352\n",
       " 6.811749514137065e+18 235.41106   41.823698 ...  A9V (154660) -0.0008251562\n",
       "3.6445908569309594e+18 196.41757   59.455818 ...            A0  0.0001093311\n",
       " 4.802203438334368e+18 36.782771   3.0916197 ...   B5 (338529) -0.0006746918\n",
       "                   ...       ...         ... ...           ...           ...\n",
       "2.4591191125849805e+18 272.41839   23.724581 ...            B6  4.209842e-05\n",
       " 3.288015575774925e+17 192.69223 -0.70316363 ...            A0  0.0009300611\n",
       " 6.963822419766434e+18 4.5456059   16.113381 ... B2Vne (58343)  3.890623e-05\n",
       " 6.099013639557372e+18 196.24269   7.4155562 ...  A2II (39866)  6.826117e-06\n",
       "2.8227240402155213e+18 174.05988   22.806802 ...            A0 -0.0003583862\n",
       " 5.225339500583213e+18 139.83796    39.86554 ...  A4V (136729) -0.0003476935\n",
       " 3.312456150774999e+18  70.93546   -6.287121 ...            A0  0.0002197366\n",
       "2.6154985424284815e+18 333.17986    6.193271 ...            A0 -0.0004861406\n",
       "1.0543170398669003e+19 114.19265   33.643137 ...   A1V (95418) -0.0002543663\n",
       " 6.765664862406466e+18 208.68733   27.395036 ...   A1V (95418)  0.0007568352"
      ]
     },
     "execution_count": 2,
     "metadata": {},
     "output_type": "execute_result"
    }
   ],
   "source": [
    "hotStars_1k=Table.read('tables/hotstars_1k.ecsv')\n",
    "hotStars_1k\n"
   ]
  },
  {
   "cell_type": "code",
   "execution_count": 33,
   "metadata": {},
   "outputs": [
    {
     "name": "stderr",
     "output_type": "stream",
     "text": [
      "WARNING: NoResultsWarning: Query returned no results. [astroquery.sdss.core]\n"
     ]
    }
   ],
   "source": [
    "# Download spectrum files:\n",
    "import os.path\n",
    "error = []\n",
    "for l in range(len(hotStars_1k)):\n",
    "        plate = hotStars_1k[l]['plate']\n",
    "        mjd = hotStars_1k[l]['mjd']\n",
    "        fiber = hotStars_1k[l]['fiberid']\n",
    "        filename = 'spec-'+str(plate).zfill(4)+'-'+str(mjd)+'-'+str(fiber).zfill(4)+'.fits'\n",
    "        if not os.path.exists('SDSSspec/'+filename):\n",
    "            try:\n",
    "                spec = SDSS.get_spectra(plate=plate, mjd=mjd, fiberID=fiber, data_release=17)\n",
    "                spec[0].writeto('SDSSspec/'+filename)\n",
    "            except:\n",
    "                csv_row = str(plate).zfill(4)+', '+str(mjd)+', '+str(fiber).zfill(4)\n",
    "                error.append(csv_row)\n",
    "\n",
    "with open('SDSSspec/error.txt', 'w') as f:\n",
    "    for element in error:\n",
    "        f.write(element + \"\\n\")\n"
   ]
  },
  {
   "cell_type": "code",
   "execution_count": null,
   "metadata": {},
   "outputs": [],
   "source": [
    "# Try to \"manually\" download the spectra that gave error \n",
    "from csv import reader\n",
    "from astroquery.utils import commons as acomm\n",
    "with open('SDSSspec/error.txt', 'r') as read_obj:\n",
    "    csv_reader = reader(read_obj)\n",
    "    for row in csv_reader:\n",
    "        p, m, f = row[0].strip(), row[1].strip(), row[2].strip()\n",
    "        filename = 'spec-'+str(p).zfill(4)+'-'+str(m)+'-'+str(f).zfill(4)+'.fits'\n",
    "        query = \"SELECT run2d FROM SpecObjAll WHERE plate=\"+str(p)+\" AND mjd=\"+str(m)+\" AND fiberid=\"+str(f)\n",
    "        res = SDSS.query_sql(query, data_release=17)\n",
    "        r2d = res[0]['run2d']\n",
    "        link = 'https://data.sdss.org/sas/dr17/sdss/spectro/redux/'+str(r2d)+'/spectra/'+str(p).zfill(4)+'/'+filename\n",
    "        try:\n",
    "            spec = acomm.FileContainer(link,encoding='binary',remote_timeout=60,show_progress=True).get_fits()\n",
    "            spec.writeto('SDSSspec/'+filename)\n",
    "        except:\n",
    "            print(link)\n"
   ]
  },
  {
   "cell_type": "code",
   "execution_count": null,
   "metadata": {},
   "outputs": [],
   "source": [
    "# Execute again the download code to create a new error.txt file"
   ]
  },
  {
   "cell_type": "code",
   "execution_count": 49,
   "metadata": {},
   "outputs": [],
   "source": [
    "hotStars_1k_final = hotStars_1k\n",
    "# Remove from table unavailable spectra\n",
    "from astropy.table import Table, setdiff\n",
    "with open('SDSSspec/error.txt', 'r') as read_obj:\n",
    "    csv_reader = reader(read_obj)\n",
    "    for row in csv_reader:\n",
    "        a = hotStars_1k_final[hotStars_1k_final[\"plate\"]==int(row[0].strip())]\n",
    "        b = a[a[\"mjd\"]==int(row[1].strip())]\n",
    "        c = b[b[\"fiberid\"]==int(row[2].strip())]\n",
    "        hotStars_1k_final = setdiff(hotStars_1k_final, c, keys=['plate', 'mjd', 'fiberid'])\n"
   ]
  },
  {
   "cell_type": "code",
   "execution_count": 51,
   "metadata": {},
   "outputs": [],
   "source": [
    "hotStars_1k_final.write('tables/hotstars_1k_final.ecsv', overwrite=True)\n"
   ]
  },
  {
   "cell_type": "code",
   "execution_count": 3,
   "metadata": {},
   "outputs": [
    {
     "data": {
      "text/html": [
       "<div><i>Table length=948</i>\n",
       "<table id=\"table2059647852944\" class=\"table-striped table-bordered table-condensed\">\n",
       "<thead><tr><th>specobjid</th><th>ra</th><th>dec</th><th>plate</th><th>mjd</th><th>fiberid</th><th>class</th><th>subclass</th><th>z</th></tr></thead>\n",
       "<thead><tr><th>float64</th><th>float64</th><th>float64</th><th>int32</th><th>int32</th><th>int32</th><th>str4</th><th>str19</th><th>float64</th></tr></thead>\n",
       "<tr><td>3.1758214174974976e+17</td><td>172.68635</td><td>-1.0265946</td><td>282</td><td>51658</td><td>285</td><td>STAR</td><td>A0p</td><td>0.004037257</td></tr>\n",
       "<tr><td>3.288015575774925e+17</td><td>192.69223</td><td>-0.70316363</td><td>292</td><td>51609</td><td>141</td><td>STAR</td><td>A0</td><td>0.0009300611</td></tr>\n",
       "<tr><td>3.299505485706957e+17</td><td>194.00535</td><td>-0.46516802</td><td>293</td><td>51689</td><td>225</td><td>STAR</td><td>A0</td><td>0.0006853736</td></tr>\n",
       "<tr><td>3.3439697812327014e+17</td><td>202.45764</td><td>-1.0255067</td><td>297</td><td>51959</td><td>17</td><td>STAR</td><td>A0</td><td>-0.003779948</td></tr>\n",
       "<tr><td>3.356259571781079e+17</td><td>202.44555</td><td>0.20447084</td><td>298</td><td>51955</td><td>392</td><td>STAR</td><td>A0</td><td>0.0005138394</td></tr>\n",
       "<tr><td>3.367337103783629e+17</td><td>204.47496</td><td>0.63254522</td><td>299</td><td>51671</td><td>326</td><td>STAR</td><td>A0</td><td>-0.0003830112</td></tr>\n",
       "<tr><td>3.3789947214511514e+17</td><td>206.87608</td><td>0.39599284</td><td>300</td><td>51943</td><td>471</td><td>STAR</td><td>OB</td><td>-0.004011285</td></tr>\n",
       "<tr><td>3.390655042095944e+17</td><td>210.70818</td><td>0.71739591</td><td>301</td><td>51942</td><td>617</td><td>STAR</td><td>A0</td><td>-0.0005463749</td></tr>\n",
       "<tr><td>3.513030643821056e+17</td><td>229.3784</td><td>-1.0178533</td><td>312</td><td>51689</td><td>81</td><td>STAR</td><td>A0</td><td>-0.0002606781</td></tr>\n",
       "<tr><td>3.5470330365479526e+17</td><td>234.95534</td><td>-0.1623651</td><td>315</td><td>51663</td><td>163</td><td>STAR</td><td>A0</td><td>-0.0006196987</td></tr>\n",
       "<tr><td>...</td><td>...</td><td>...</td><td>...</td><td>...</td><td>...</td><td>...</td><td>...</td><td>...</td></tr>\n",
       "<tr><td>1.2085453169674705e+19</td><td>240.00914</td><td>39.436332</td><td>10734</td><td>58280</td><td>158</td><td>STAR</td><td>A2II (39866)</td><td>-0.000723175</td></tr>\n",
       "<tr><td>1.244704351388725e+19</td><td>14.175111</td><td>10.026404</td><td>11055</td><td>58429</td><td>800</td><td>STAR</td><td>B5 (338529)</td><td>-0.001286151</td></tr>\n",
       "<tr><td>1.24570257050947e+19</td><td>16.658815</td><td>8.3553208</td><td>11064</td><td>58430</td><td>251</td><td>STAR</td><td>A9V (154660)</td><td>-2.708704e-05</td></tr>\n",
       "<tr><td>1.2468266288316439e+19</td><td>20.694744</td><td>11.596286</td><td>11074</td><td>58488</td><td>184</td><td>STAR</td><td>A2II (39866)</td><td>-0.0003644398</td></tr>\n",
       "<tr><td>1.2470734141158349e+19</td><td>23.375464</td><td>8.1828102</td><td>11076</td><td>58428</td><td>970</td><td>STAR</td><td>A2II (39866)</td><td>-0.0006585734</td></tr>\n",
       "<tr><td>1.247511047186182e+19</td><td>28.125376</td><td>8.2634375</td><td>11080</td><td>58401</td><td>507</td><td>STAR</td><td>A2II (39866)</td><td>0.0006469723</td></tr>\n",
       "<tr><td>1.2476114325927647e+19</td><td>27.972139</td><td>6.9230195</td><td>11081</td><td>58398</td><td>63</td><td>STAR</td><td>A4V (136729)</td><td>-0.0004840601</td></tr>\n",
       "<tr><td>1.2725133094413425e+19</td><td>347.0974</td><td>5.7764521</td><td>11302</td><td>58436</td><td>772</td><td>STAR</td><td>A2II (39866)</td><td>-0.0009925875</td></tr>\n",
       "<tr><td>1.2733020166063151e+19</td><td>1.686823</td><td>8.0610594</td><td>11309</td><td>58428</td><td>793</td><td>STAR</td><td>B3Ib/II (51309)</td><td>-0.0009468662</td></tr>\n",
       "<tr><td>1.311682641643519e+19</td><td>27.349422</td><td>5.4496956</td><td>11650</td><td>58508</td><td>336</td><td>STAR</td><td>A2II (39866)</td><td>-0.0002674616</td></tr>\n",
       "</table></div>"
      ],
      "text/plain": [
       "<Table length=948>\n",
       "      specobjid            ra        dec     ...     subclass          z      \n",
       "       float64          float64    float64   ...      str19         float64   \n",
       "---------------------- --------- ----------- ... --------------- -------------\n",
       "3.1758214174974976e+17 172.68635  -1.0265946 ...             A0p   0.004037257\n",
       " 3.288015575774925e+17 192.69223 -0.70316363 ...              A0  0.0009300611\n",
       " 3.299505485706957e+17 194.00535 -0.46516802 ...              A0  0.0006853736\n",
       "3.3439697812327014e+17 202.45764  -1.0255067 ...              A0  -0.003779948\n",
       " 3.356259571781079e+17 202.44555  0.20447084 ...              A0  0.0005138394\n",
       " 3.367337103783629e+17 204.47496  0.63254522 ...              A0 -0.0003830112\n",
       "3.3789947214511514e+17 206.87608  0.39599284 ...              OB  -0.004011285\n",
       " 3.390655042095944e+17 210.70818  0.71739591 ...              A0 -0.0005463749\n",
       " 3.513030643821056e+17  229.3784  -1.0178533 ...              A0 -0.0002606781\n",
       "3.5470330365479526e+17 234.95534  -0.1623651 ...              A0 -0.0006196987\n",
       "                   ...       ...         ... ...             ...           ...\n",
       "1.2085453169674705e+19 240.00914   39.436332 ...    A2II (39866)  -0.000723175\n",
       " 1.244704351388725e+19 14.175111   10.026404 ...     B5 (338529)  -0.001286151\n",
       "  1.24570257050947e+19 16.658815   8.3553208 ...    A9V (154660) -2.708704e-05\n",
       "1.2468266288316439e+19 20.694744   11.596286 ...    A2II (39866) -0.0003644398\n",
       "1.2470734141158349e+19 23.375464   8.1828102 ...    A2II (39866) -0.0006585734\n",
       " 1.247511047186182e+19 28.125376   8.2634375 ...    A2II (39866)  0.0006469723\n",
       "1.2476114325927647e+19 27.972139   6.9230195 ...    A4V (136729) -0.0004840601\n",
       "1.2725133094413425e+19  347.0974   5.7764521 ...    A2II (39866) -0.0009925875\n",
       "1.2733020166063151e+19  1.686823   8.0610594 ... B3Ib/II (51309) -0.0009468662\n",
       " 1.311682641643519e+19 27.349422   5.4496956 ...    A2II (39866) -0.0002674616"
      ]
     },
     "execution_count": 3,
     "metadata": {},
     "output_type": "execute_result"
    }
   ],
   "source": [
    "hotStars_1k_final=Table.read('tables/hotstars_1k_final.ecsv')\n",
    "hotStars_1k_final\n"
   ]
  },
  {
   "cell_type": "code",
   "execution_count": 5,
   "metadata": {},
   "outputs": [
    {
     "name": "stderr",
     "output_type": "stream",
     "text": [
      "WARNING: UnitsWarning: '1E-17 erg/cm^2/s/Angstrom' contains multiple slashes, which is discouraged by the FITS standard [astropy.units.format.generic]\n",
      "WARNING: The following header keyword is invalid or follows an unrecognized non-standard convention:\n",
      "MC1TEMDN=-0.00000000000000E+00 / sp1 mech median temp                            [astropy.io.fits.card]\n",
      "WARNING: The following header keyword is invalid or follows an unrecognized non-standard convention:\n",
      "MC1THT  =-0.00000000000000E+00 / sp1 mech Temp_Hartmann_Top                      [astropy.io.fits.card]\n",
      "WARNING: The following header keyword is invalid or follows an unrecognized non-standard convention:\n",
      "MC1TRCB =-0.00000000000000E+00 / sp1 mech Temp_Red_Cam_Bot                       [astropy.io.fits.card]\n",
      "WARNING: The following header keyword is invalid or follows an unrecognized non-standard convention:\n",
      "MC1TBCB =-0.00000000000000E+00 / sp1 mech Temp_Blue_Cam_Bot                      [astropy.io.fits.card]\n",
      "WARNING: The following header keyword is invalid or follows an unrecognized non-standard convention:\n",
      "MC1TRCT =-0.00000000000000E+00 / sp1 mech Temp_Red_Cam_Top                       [astropy.io.fits.card]\n"
     ]
    }
   ],
   "source": [
    "# Joint table, with class and subclass, and snr\n",
    "hotStars_1k_class = Table()\n",
    "obtyp = Table(names=('sppixmask', 'zwarning', 'good', 'snr'), dtype=('S100', 'S100', 'bool', 'f8'))\n",
    "for i in range(len(hotStars_1k_final)):\n",
    "    bitset_m = set()\n",
    "    bitset_z = set()\n",
    "    p = hotStars_1k_final[i]['plate']\n",
    "    m = hotStars_1k_final[i]['mjd']\n",
    "    f = hotStars_1k_final[i]['fiberid']\n",
    "    filename = 'spec-'+str(p).zfill(4)+'-'+str(m)+'-'+str(f).zfill(4)+'.fits'\n",
    "    spec1d = Spectrum1D.read('hotstars_1k/'+filename)\n",
    "    snrval = snr_derived(spec1d, SpectralRegion(4000*u.AA, 9000*u.AA))\n",
    "    hdul = fits.open('hotstars_1k/'+filename)\n",
    "    andmk = hdul[1].data['and_mask']\n",
    "    zwarn = hdul[2].data['ZWARNING']\n",
    "    counter = 0\n",
    "    for v in range(len(zwarn)):\n",
    "        bits = [bit for bit in range(0, 32) if (zwarn[v] & 1 << bit) > 0]\n",
    "        if bits!=[]:\n",
    "            bitset_z.update(bits)\n",
    "    for v in range(len(andmk)):\n",
    "        bits = [bit for bit in range(0, 32) if (andmk[v] & 1 << bit) > 0]\n",
    "        if bits!=[]:\n",
    "            if bits!=[]: counter=counter+1\n",
    "            bitset_m.update(bits)\n",
    "    badpct = counter/len(andmk)\n",
    "    goodfl = True\n",
    "    if badpct>0.1:\n",
    "        goodfl = False\n",
    "    obtyp.add_row((str(bitset_m), str(bitset_z), goodfl, snrval))\n",
    "hotStars_1k_class = hstack([hotStars_1k_final, obtyp])\n"
   ]
  },
  {
   "cell_type": "code",
   "execution_count": 6,
   "metadata": {},
   "outputs": [],
   "source": [
    "hotStars_1k_class.write('tables/hotstars_1k_class.ecsv', overwrite=True)\n"
   ]
  },
  {
   "cell_type": "code",
   "execution_count": 7,
   "metadata": {},
   "outputs": [
    {
     "data": {
      "text/html": [
       "<div><i>Table length=948</i>\n",
       "<table id=\"table2059638973296\" class=\"table-striped table-bordered table-condensed\">\n",
       "<thead><tr><th>specobjid</th><th>ra</th><th>dec</th><th>plate</th><th>mjd</th><th>fiberid</th><th>class</th><th>subclass</th><th>z</th><th>sppixmask</th><th>zwarning</th><th>good</th><th>snr</th></tr></thead>\n",
       "<thead><tr><th>float64</th><th>float64</th><th>float64</th><th>int32</th><th>int32</th><th>int32</th><th>str4</th><th>str19</th><th>float64</th><th>str33</th><th>str9</th><th>bool</th><th>float64</th></tr></thead>\n",
       "<tr><td>3.1758214174974976e+17</td><td>172.68635</td><td>-1.0265946</td><td>282</td><td>51658</td><td>285</td><td>STAR</td><td>A0p</td><td>0.004037257</td><td>{27, 23}</td><td>{0, 2, 3}</td><td>True</td><td>0.21499054778525192</td></tr>\n",
       "<tr><td>3.288015575774925e+17</td><td>192.69223</td><td>-0.70316363</td><td>292</td><td>51609</td><td>141</td><td>STAR</td><td>A0</td><td>0.0009300611</td><td>{26, 23}</td><td>set()</td><td>True</td><td>11.22601111188681</td></tr>\n",
       "<tr><td>3.299505485706957e+17</td><td>194.00535</td><td>-0.46516802</td><td>293</td><td>51689</td><td>225</td><td>STAR</td><td>A0</td><td>0.0006853736</td><td>{27, 23}</td><td>set()</td><td>True</td><td>17.312818751503926</td></tr>\n",
       "<tr><td>3.3439697812327014e+17</td><td>202.45764</td><td>-1.0255067</td><td>297</td><td>51959</td><td>17</td><td>STAR</td><td>A0</td><td>-0.003779948</td><td>{16, 27, 23}</td><td>{0, 2, 3}</td><td>True</td><td>0.2249877483188382</td></tr>\n",
       "<tr><td>3.356259571781079e+17</td><td>202.44555</td><td>0.20447084</td><td>298</td><td>51955</td><td>392</td><td>STAR</td><td>A0</td><td>0.0005138394</td><td>{23}</td><td>set()</td><td>True</td><td>8.40511395524878</td></tr>\n",
       "<tr><td>3.367337103783629e+17</td><td>204.47496</td><td>0.63254522</td><td>299</td><td>51671</td><td>326</td><td>STAR</td><td>A0</td><td>-0.0003830112</td><td>{23}</td><td>set()</td><td>True</td><td>70.80057919833389</td></tr>\n",
       "<tr><td>3.3789947214511514e+17</td><td>206.87608</td><td>0.39599284</td><td>300</td><td>51943</td><td>471</td><td>STAR</td><td>OB</td><td>-0.004011285</td><td>{16, 20, 23}</td><td>{0, 2}</td><td>True</td><td>0.1448772163491223</td></tr>\n",
       "<tr><td>3.390655042095944e+17</td><td>210.70818</td><td>0.71739591</td><td>301</td><td>51942</td><td>617</td><td>STAR</td><td>A0</td><td>-0.0005463749</td><td>{23}</td><td>set()</td><td>True</td><td>12.561142501196196</td></tr>\n",
       "<tr><td>3.513030643821056e+17</td><td>229.3784</td><td>-1.0178533</td><td>312</td><td>51689</td><td>81</td><td>STAR</td><td>A0</td><td>-0.0002606781</td><td>{16, 17, 18, 19, 20, 23, 27}</td><td>set()</td><td>True</td><td>35.545191935047505</td></tr>\n",
       "<tr><td>3.5470330365479526e+17</td><td>234.95534</td><td>-0.1623651</td><td>315</td><td>51663</td><td>163</td><td>STAR</td><td>A0</td><td>-0.0006196987</td><td>{16, 26, 27, 23}</td><td>set()</td><td>True</td><td>10.02915524993467</td></tr>\n",
       "<tr><td>...</td><td>...</td><td>...</td><td>...</td><td>...</td><td>...</td><td>...</td><td>...</td><td>...</td><td>...</td><td>...</td><td>...</td><td>...</td></tr>\n",
       "<tr><td>1.2085453169674705e+19</td><td>240.00914</td><td>39.436332</td><td>10734</td><td>58280</td><td>158</td><td>STAR</td><td>A2II (39866)</td><td>-0.000723175</td><td>{18, 23}</td><td>set()</td><td>True</td><td>33.95559111866394</td></tr>\n",
       "<tr><td>1.244704351388725e+19</td><td>14.175111</td><td>10.026404</td><td>11055</td><td>58429</td><td>800</td><td>STAR</td><td>B5 (338529)</td><td>-0.001286151</td><td>{16, 27, 19, 23}</td><td>set()</td><td>True</td><td>5.523016613663131</td></tr>\n",
       "<tr><td>1.24570257050947e+19</td><td>16.658815</td><td>8.3553208</td><td>11064</td><td>58430</td><td>251</td><td>STAR</td><td>A9V (154660)</td><td>-2.708704e-05</td><td>{23}</td><td>set()</td><td>True</td><td>26.82470493645998</td></tr>\n",
       "<tr><td>1.2468266288316439e+19</td><td>20.694744</td><td>11.596286</td><td>11074</td><td>58488</td><td>184</td><td>STAR</td><td>A2II (39866)</td><td>-0.0003644398</td><td>{23}</td><td>set()</td><td>True</td><td>70.42597636825884</td></tr>\n",
       "<tr><td>1.2470734141158349e+19</td><td>23.375464</td><td>8.1828102</td><td>11076</td><td>58428</td><td>970</td><td>STAR</td><td>A2II (39866)</td><td>-0.0006585734</td><td>{16, 19, 23}</td><td>set()</td><td>True</td><td>4.693981070856936</td></tr>\n",
       "<tr><td>1.247511047186182e+19</td><td>28.125376</td><td>8.2634375</td><td>11080</td><td>58401</td><td>507</td><td>STAR</td><td>A2II (39866)</td><td>0.0006469723</td><td>{16, 19, 23}</td><td>set()</td><td>True</td><td>4.360134365396227</td></tr>\n",
       "<tr><td>1.2476114325927647e+19</td><td>27.972139</td><td>6.9230195</td><td>11081</td><td>58398</td><td>63</td><td>STAR</td><td>A4V (136729)</td><td>-0.0004840601</td><td>{23}</td><td>set()</td><td>True</td><td>12.162734374816036</td></tr>\n",
       "<tr><td>1.2725133094413425e+19</td><td>347.0974</td><td>5.7764521</td><td>11302</td><td>58436</td><td>772</td><td>STAR</td><td>A2II (39866)</td><td>-0.0009925875</td><td>{16, 19, 23}</td><td>set()</td><td>True</td><td>74.60058299574138</td></tr>\n",
       "<tr><td>1.2733020166063151e+19</td><td>1.686823</td><td>8.0610594</td><td>11309</td><td>58428</td><td>793</td><td>STAR</td><td>B3Ib/II (51309)</td><td>-0.0009468662</td><td>{23}</td><td>{2}</td><td>True</td><td>2.6466003067495136</td></tr>\n",
       "<tr><td>1.311682641643519e+19</td><td>27.349422</td><td>5.4496956</td><td>11650</td><td>58508</td><td>336</td><td>STAR</td><td>A2II (39866)</td><td>-0.0002674616</td><td>{16, 19, 23}</td><td>{2}</td><td>True</td><td>2.8986450005199655</td></tr>\n",
       "</table></div>"
      ],
      "text/plain": [
       "<Table length=948>\n",
       "      specobjid            ra        dec     ... good         snr        \n",
       "       float64          float64    float64   ... bool       float64      \n",
       "---------------------- --------- ----------- ... ---- -------------------\n",
       "3.1758214174974976e+17 172.68635  -1.0265946 ... True 0.21499054778525192\n",
       " 3.288015575774925e+17 192.69223 -0.70316363 ... True   11.22601111188681\n",
       " 3.299505485706957e+17 194.00535 -0.46516802 ... True  17.312818751503926\n",
       "3.3439697812327014e+17 202.45764  -1.0255067 ... True  0.2249877483188382\n",
       " 3.356259571781079e+17 202.44555  0.20447084 ... True    8.40511395524878\n",
       " 3.367337103783629e+17 204.47496  0.63254522 ... True   70.80057919833389\n",
       "3.3789947214511514e+17 206.87608  0.39599284 ... True  0.1448772163491223\n",
       " 3.390655042095944e+17 210.70818  0.71739591 ... True  12.561142501196196\n",
       " 3.513030643821056e+17  229.3784  -1.0178533 ... True  35.545191935047505\n",
       "3.5470330365479526e+17 234.95534  -0.1623651 ... True   10.02915524993467\n",
       "                   ...       ...         ... ...  ...                 ...\n",
       "1.2085453169674705e+19 240.00914   39.436332 ... True   33.95559111866394\n",
       " 1.244704351388725e+19 14.175111   10.026404 ... True   5.523016613663131\n",
       "  1.24570257050947e+19 16.658815   8.3553208 ... True   26.82470493645998\n",
       "1.2468266288316439e+19 20.694744   11.596286 ... True   70.42597636825884\n",
       "1.2470734141158349e+19 23.375464   8.1828102 ... True   4.693981070856936\n",
       " 1.247511047186182e+19 28.125376   8.2634375 ... True   4.360134365396227\n",
       "1.2476114325927647e+19 27.972139   6.9230195 ... True  12.162734374816036\n",
       "1.2725133094413425e+19  347.0974   5.7764521 ... True   74.60058299574138\n",
       "1.2733020166063151e+19  1.686823   8.0610594 ... True  2.6466003067495136\n",
       " 1.311682641643519e+19 27.349422   5.4496956 ... True  2.8986450005199655"
      ]
     },
     "execution_count": 7,
     "metadata": {},
     "output_type": "execute_result"
    }
   ],
   "source": [
    "hotStars_1k_class=Table.read('tables/hotstars_1k_class.ecsv')\n",
    "hotStars_1k_class\n"
   ]
  },
  {
   "cell_type": "code",
   "execution_count": 10,
   "metadata": {},
   "outputs": [],
   "source": [
    "def plotspecstar(plate, mjd, fiber, direc, title, g, c, save=False):\n",
    "    filename = 'spec-'+str(plate).zfill(4)+'-'+str(mjd)+'-'+str(fiber).zfill(4)+'.fits'\n",
    "    hdul = fits.open(direc+filename)\n",
    "    flux = hdul[1].data['flux']*1e-17*units.FLAM\n",
    "    loglam = hdul[1].data['loglam']\n",
    "    wave = 10 ** loglam\n",
    "\n",
    "    sp = SourceSpectrum(Empirical1D, points=wave, lookup_table=flux, keep_neg=False)\n",
    "    spu = units.convert_flux(sp.waveset, sp(sp.waveset), units.FLAM)\n",
    "\n",
    "    plt.figure(figsize=(16,4))\n",
    "    plt.plot(sp.waveset.value, spu.value)\n",
    "    plt.xlabel('Wavelength [Ångströms]')\n",
    "    plt.ylabel('Flux [erg/cm²/s/Å]')\n",
    "    plt.title(title+' ; '+hdul[2].data['CLASS'][0]+' '+hdul[2].data['SUBCLASS'][0])\n",
    "    if save==True:\n",
    "        if g==False:\n",
    "            folderout='bad/'\n",
    "        else:\n",
    "            if c!='STAR':\n",
    "                folderout='other/'\n",
    "            else:\n",
    "                folderout='spec/'\n",
    "        plt.savefig(folderout+'spec-'+str(plate).zfill(4)+'-'+str(mjd)+'-'+str(fiber).zfill(4)+'.png', facecolor='white', edgecolor='none')\n",
    "    else:\n",
    "        plt.show()\n",
    "\n",
    "def plotspec_star(object, save=False):\n",
    "    p=object['plate']\n",
    "    m=object['mjd']\n",
    "    f=object['fiberid']\n",
    "    g=object['good']\n",
    "    c=str(object['class'])\n",
    "    plotspecstar(p, m, f, 'hotstars_1k/', str(p)+'-'+str(m)+'-'+str(f), g, c, save)\n"
   ]
  },
  {
   "cell_type": "code",
   "execution_count": 11,
   "metadata": {},
   "outputs": [],
   "source": [
    "%%capture\n",
    "# Plot (and save) spectrum loop\n",
    "for l in range(len(hotStars_1k_class)):\n",
    "    plotspec_star(hotStars_1k_class[l], save=True)\n"
   ]
  },
  {
   "cell_type": "code",
   "execution_count": 9,
   "metadata": {},
   "outputs": [
    {
     "name": "stderr",
     "output_type": "stream",
     "text": [
      "WARNING: 1 bin(s) contained negative flux or throughput; it/they will be set to zero.\n",
      "  points: [5578.2764]\n",
      "  lookup_table: [-1.11858297e-05] [synphot.models]\n"
     ]
    },
    {
     "data": {
      "image/png": "[encoded data removed]",
      "text/plain": [
       "<Figure size 1152x288 with 1 Axes>"
      ]
     },
     "metadata": {
      "needs_background": "light"
     },
     "output_type": "display_data"
    }
   ],
   "source": [
    "plotspec_star(hotStars_1k_class[2], save=False)\n"
   ]
  },
  {
   "cell_type": "code",
   "execution_count": null,
   "metadata": {},
   "outputs": [],
   "source": []
  }
 ],
 "metadata": {
  "interpreter": {
   "hash": "3df98a109a5cc23581108261c6c72118143224d8842a21ce60f5415bfb914c48"
  },
  "kernelspec": {
   "display_name": "Python 3.9.9 64-bit",
   "language": "python",
   "name": "python3"
  },
  "language_info": {
   "codemirror_mode": {
    "name": "ipython",
    "version": 3
   },
   "file_extension": ".py",
   "mimetype": "text/x-python",
   "name": "python",
   "nbconvert_exporter": "python",
   "pygments_lexer": "ipython3",
   "version": "3.9.10"
  },
  "orig_nbformat": 4
 },
 "nbformat": 4,
 "nbformat_minor": 2
}
