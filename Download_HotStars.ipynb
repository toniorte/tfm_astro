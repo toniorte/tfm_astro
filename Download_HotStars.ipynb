{
 "cells": [
  {
   "cell_type": "code",
   "execution_count": 1,
   "metadata": {},
   "outputs": [],
   "source": [
    "from astroquery.vizier import Vizier\n",
    "from astroquery.sdss import SDSS\n",
    "import astropy.units as u\n",
    "from astropy import coordinates as coords\n",
    "from astropy.table import Table, hstack, vstack\n",
    "from astropy.io import fits\n",
    "import matplotlib.pyplot as plt\n",
    "import numpy as np\n",
    "from synphot import SourceSpectrum\n",
    "from synphot.models import Empirical1D\n",
    "from synphot import units\n",
    "import random\n",
    "import os.path\n",
    "from collections import Counter\n",
    "from specutils import Spectrum1D, SpectralRegion\n",
    "from specutils.analysis import snr_derived\n"
   ]
  },
  {
   "cell_type": "code",
   "execution_count": 3,
   "metadata": {},
   "outputs": [],
   "source": [
    "# 164 total subclasses, 58 hot star subclasses:\n",
    "hotClass = [\n",
    "'A0',\n",
    "'A0 (19510)',\n",
    "'A0IVn (25642)',\n",
    "'A0p',\n",
    "'A1Iae (12953)',\n",
    "'A1III (225180)',\n",
    "'A1m (78209)',\n",
    "'A1V (95418)',\n",
    "'A2Ia (14489)',\n",
    "'A2II (39866)',\n",
    "'A3Iae (223385)',\n",
    "'A4 (G_165-39)',\n",
    "'A4p (G_37-26)',\n",
    "'A4V (136729)',\n",
    "'A4V (97603)',\n",
    "'A5Ia (17378)',\n",
    "'A5II (34578)',\n",
    "'A6IV (28527)',\n",
    "'A8V (155514)',\n",
    "'A9V (154660)',\n",
    "'Am (78362)',\n",
    "'B0.5Iae (185859)',\n",
    "'B0.5Ibe... (187459)',\n",
    "'B0IVe (5394)',\n",
    "'B1Ve (212571)',\n",
    "'B2.5V (175426)',\n",
    "'B2.5Ve (187811)',\n",
    "'B2Iaevar (41117)',\n",
    "'B2III (35468)',\n",
    "'B2IV-V (176819)',\n",
    "'B2Ve (164284)',\n",
    "'B2Vne (202904)',\n",
    "'B2Vne (58343)',\n",
    "'B3Ib/II (51309)',\n",
    "'B3II (175156)',\n",
    "'B3V (29763)',\n",
    "'B3Ve (25940)',\n",
    "'B5 (338529)',\n",
    "'B5Ib (191243)',\n",
    "'B5III (209419)',\n",
    "'B5V (173087)',\n",
    "'B6',\n",
    "'B6IIIpe (109387)',\n",
    "'B6IV (174959)',\n",
    "'B7IVe (209409)',\n",
    "'B8Ib (208501)',\n",
    "'B8III (220575)',\n",
    "'B8IV (171301)',\n",
    "'B9',\n",
    "'B9 (105262)',\n",
    "'B9.5V+... (37269)',\n",
    "'B9III (15318)',\n",
    "'B9Vn (177756)',\n",
    "'O',\n",
    "'O8/O9 (167771)',\n",
    "'O8e (188001)',\n",
    "'O9.5Iae (30614)',\n",
    "'OB'\n",
    "]\n"
   ]
  },
  {
   "cell_type": "code",
   "execution_count": 10,
   "metadata": {},
   "outputs": [],
   "source": [
    "hotStars = Table()\n",
    "for x in range(len(hotClass)):\n",
    "    query = \"select specobjid, ra, dec, plate, mjd, fiberid, class, subclass, z from specObj where class='STAR' and subclass = '\"+hotClass[x]+\"'\"\n",
    "    res = SDSS.query_sql(query, data_release=17)\n",
    "    hotStars = vstack([hotStars, res])\n"
   ]
  },
  {
   "cell_type": "code",
   "execution_count": 13,
   "metadata": {},
   "outputs": [],
   "source": [
    "hotStars.write('tables/hotstars.ecsv')\n"
   ]
  },
  {
   "cell_type": "code",
   "execution_count": 14,
   "metadata": {},
   "outputs": [],
   "source": [
    "hotStars=Table.read('tables/hotstars.ecsv')\n"
   ]
  },
  {
   "cell_type": "code",
   "execution_count": 15,
   "metadata": {},
   "outputs": [],
   "source": [
    "# Pick 1000 random stars\n",
    "hotStars_1k = hotStars[random.sample(range(len(hotStars)), 1000)]\n"
   ]
  },
  {
   "cell_type": "code",
   "execution_count": 17,
   "metadata": {},
   "outputs": [],
   "source": [
    "hotStars_1k.write('tables/hotstars_1k.ecsv')\n"
   ]
  },
  {
   "cell_type": "code",
   "execution_count": 2,
   "metadata": {},
   "outputs": [
    {
     "data": {
      "text/html": [
       "<div><i>Table length=1000</i>\n",
       "<table id=\"table2043298775488\" class=\"table-striped table-bordered table-condensed\">\n",
       "<thead><tr><th>specobjid</th><th>ra</th><th>dec</th><th>plate</th><th>mjd</th><th>fiberid</th><th>class</th><th>subclass</th><th>z</th></tr></thead>\n",
       "<thead><tr><th>float64</th><th>float64</th><th>float64</th><th>int32</th><th>int32</th><th>int32</th><th>str4</th><th>str19</th><th>float64</th></tr></thead>\n",
       "<tr><td>3.7312441944093245e+18</td><td>224.98038</td><td>-0.61224314</td><td>3314</td><td>54970</td><td>43</td><td>STAR</td><td>A0</td><td>0.0006146495</td></tr>\n",
       "<tr><td>6.544868909614651e+18</td><td>141.37604</td><td>45.611524</td><td>5813</td><td>56363</td><td>46</td><td>STAR</td><td>A1V (95418)</td><td>0.0003341742</td></tr>\n",
       "<tr><td>7.646035853253564e+18</td><td>235.33571</td><td>56.732179</td><td>6791</td><td>56429</td><td>180</td><td>STAR</td><td>A2II (39866)</td><td>-0.0009936119</td></tr>\n",
       "<tr><td>9.319199541684361e+18</td><td>119.06644</td><td>43.124837</td><td>8277</td><td>57073</td><td>458</td><td>STAR</td><td>A4p (G_37-26)</td><td>0.000177478</td></tr>\n",
       "<tr><td>6.805186529247648e+18</td><td>244.46258</td><td>41.939843</td><td>6044</td><td>56090</td><td>900</td><td>STAR</td><td>A4V (97603)</td><td>-0.0001727998</td></tr>\n",
       "<tr><td>7.076336544668473e+18</td><td>10.994135</td><td>22.565733</td><td>6285</td><td>56248</td><td>202</td><td>STAR</td><td>A8V (155514)</td><td>-0.0002458861</td></tr>\n",
       "<tr><td>2.4871585894965187e+18</td><td>248.24663</td><td>14.754369</td><td>2209</td><td>53907</td><td>166</td><td>STAR</td><td>A0</td><td>-0.0001720352</td></tr>\n",
       "<tr><td>6.811749514137065e+18</td><td>235.41106</td><td>41.823698</td><td>6050</td><td>56089</td><td>200</td><td>STAR</td><td>A9V (154660)</td><td>-0.0008251562</td></tr>\n",
       "<tr><td>3.6445908569309594e+18</td><td>196.41757</td><td>59.455818</td><td>3237</td><td>54883</td><td>192</td><td>STAR</td><td>A0</td><td>0.0001093311</td></tr>\n",
       "<tr><td>4.802203438334368e+18</td><td>36.782771</td><td>3.0916197</td><td>4265</td><td>55505</td><td>874</td><td>STAR</td><td>B5 (338529)</td><td>-0.0006746918</td></tr>\n",
       "<tr><td>...</td><td>...</td><td>...</td><td>...</td><td>...</td><td>...</td><td>...</td><td>...</td><td>...</td></tr>\n",
       "<tr><td>2.4591191125849805e+18</td><td>272.41839</td><td>23.724581</td><td>2184</td><td>53534</td><td>559</td><td>STAR</td><td>B6</td><td>4.209842e-05</td></tr>\n",
       "<tr><td>3.288015575774925e+17</td><td>192.69223</td><td>-0.70316363</td><td>292</td><td>51609</td><td>141</td><td>STAR</td><td>A0</td><td>0.0009300611</td></tr>\n",
       "<tr><td>6.963822419766434e+18</td><td>4.5456059</td><td>16.113381</td><td>6185</td><td>56217</td><td>478</td><td>STAR</td><td>B2Vne (58343)</td><td>3.890623e-05</td></tr>\n",
       "<tr><td>6.099013639557372e+18</td><td>196.24269</td><td>7.4155562</td><td>5417</td><td>55978</td><td>50</td><td>STAR</td><td>A2II (39866)</td><td>6.826117e-06</td></tr>\n",
       "<tr><td>2.8227240402155213e+18</td><td>174.05988</td><td>22.806802</td><td>2507</td><td>53876</td><td>338</td><td>STAR</td><td>A0</td><td>-0.0003583862</td></tr>\n",
       "<tr><td>5.225339500583213e+18</td><td>139.83796</td><td>39.86554</td><td>4641</td><td>55947</td><td>138</td><td>STAR</td><td>A4V (136729)</td><td>-0.0003476935</td></tr>\n",
       "<tr><td>3.312456150774999e+18</td><td>70.93546</td><td>-6.287121</td><td>2942</td><td>54521</td><td>213</td><td>STAR</td><td>A0</td><td>0.0002197366</td></tr>\n",
       "<tr><td>2.6154985424284815e+18</td><td>333.17986</td><td>6.193271</td><td>2323</td><td>54380</td><td>120</td><td>STAR</td><td>A0</td><td>-0.0004861406</td></tr>\n",
       "<tr><td>1.0543170398669003e+19</td><td>114.19265</td><td>33.643137</td><td>9364</td><td>57699</td><td>886</td><td>STAR</td><td>A1V (95418)</td><td>-0.0002543663</td></tr>\n",
       "<tr><td>6.765664862406466e+18</td><td>208.68733</td><td>27.395036</td><td>6009</td><td>56313</td><td>481</td><td>STAR</td><td>A1V (95418)</td><td>0.0007568352</td></tr>\n",
       "</table></div>"
      ],
      "text/plain": [
       "<Table length=1000>\n",
       "      specobjid            ra        dec     ...    subclass         z      \n",
       "       float64          float64    float64   ...     str19        float64   \n",
       "---------------------- --------- ----------- ... ------------- -------------\n",
       "3.7312441944093245e+18 224.98038 -0.61224314 ...            A0  0.0006146495\n",
       " 6.544868909614651e+18 141.37604   45.611524 ...   A1V (95418)  0.0003341742\n",
       " 7.646035853253564e+18 235.33571   56.732179 ...  A2II (39866) -0.0009936119\n",
       " 9.319199541684361e+18 119.06644   43.124837 ... A4p (G_37-26)   0.000177478\n",
       " 6.805186529247648e+18 244.46258   41.939843 ...   A4V (97603) -0.0001727998\n",
       " 7.076336544668473e+18 10.994135   22.565733 ...  A8V (155514) -0.0002458861\n",
       "2.4871585894965187e+18 248.24663   14.754369 ...            A0 -0.0001720352\n",
       " 6.811749514137065e+18 235.41106   41.823698 ...  A9V (154660) -0.0008251562\n",
       "3.6445908569309594e+18 196.41757   59.455818 ...            A0  0.0001093311\n",
       " 4.802203438334368e+18 36.782771   3.0916197 ...   B5 (338529) -0.0006746918\n",
       "                   ...       ...         ... ...           ...           ...\n",
       "2.4591191125849805e+18 272.41839   23.724581 ...            B6  4.209842e-05\n",
       " 3.288015575774925e+17 192.69223 -0.70316363 ...            A0  0.0009300611\n",
       " 6.963822419766434e+18 4.5456059   16.113381 ... B2Vne (58343)  3.890623e-05\n",
       " 6.099013639557372e+18 196.24269   7.4155562 ...  A2II (39866)  6.826117e-06\n",
       "2.8227240402155213e+18 174.05988   22.806802 ...            A0 -0.0003583862\n",
       " 5.225339500583213e+18 139.83796    39.86554 ...  A4V (136729) -0.0003476935\n",
       " 3.312456150774999e+18  70.93546   -6.287121 ...            A0  0.0002197366\n",
       "2.6154985424284815e+18 333.17986    6.193271 ...            A0 -0.0004861406\n",
       "1.0543170398669003e+19 114.19265   33.643137 ...   A1V (95418) -0.0002543663\n",
       " 6.765664862406466e+18 208.68733   27.395036 ...   A1V (95418)  0.0007568352"
      ]
     },
     "execution_count": 2,
     "metadata": {},
     "output_type": "execute_result"
    }
   ],
   "source": [
    "hotStars_1k=Table.read('tables/hotstars_1k.ecsv')\n",
    "hotStars_1k\n"
   ]
  },
  {
   "cell_type": "code",
   "execution_count": 3,
   "metadata": {},
   "outputs": [
    {
     "name": "stderr",
     "output_type": "stream",
     "text": [
      "C:\\Users\\AntonioOrtega\\AppData\\Local\\Programs\\Python\\Python39\\lib\\site-packages\\astroquery\\sdss\\core.py:867: VisibleDeprecationWarning: Reading unicode strings without specifying the encoding argument is deprecated. Set the encoding, use None for the system default.\n",
      "  arr = np.atleast_1d(np.genfromtxt(io.BytesIO(response.content),\n",
      "WARNING: NoResultsWarning: Query returned no results. [astroquery.sdss.core]\n",
      "WARNING: The following header keyword is invalid or follows an unrecognized non-standard convention:\n",
      "MC1TRCT =-0.00000000000000E+00 / sp1 mech Temp_Red_Cam_Top                       [astropy.io.fits.card]\n"
     ]
    }
   ],
   "source": [
    "# Download spectrum files:\n",
    "import os.path\n",
    "error = []\n",
    "for l in range(len(hotStars_1k)):\n",
    "        plate = hotStars_1k[l]['plate']\n",
    "        mjd = hotStars_1k[l]['mjd']\n",
    "        fiber = hotStars_1k[l]['fiberid']\n",
    "        filename = 'spec-'+str(plate).zfill(4)+'-'+str(mjd)+'-'+str(fiber).zfill(4)+'.fits'\n",
    "        if not os.path.exists('SDSSspec/'+filename):\n",
    "            try:\n",
    "                spec = SDSS.get_spectra(plate=plate, mjd=mjd, fiberID=fiber, data_release=17)\n",
    "                spec[0].writeto('SDSSspec/'+filename)\n",
    "            except:\n",
    "                csv_row = str(plate).zfill(4)+', '+str(mjd)+', '+str(fiber).zfill(4)\n",
    "                error.append(csv_row)\n",
    "\n",
    "with open('SDSSspec/error.txt', 'w') as f:\n",
    "    for element in error:\n",
    "        f.write(element + \"\\n\")\n"
   ]
  },
  {
   "cell_type": "code",
   "execution_count": null,
   "metadata": {},
   "outputs": [],
   "source": []
  }
 ],
 "metadata": {
  "interpreter": {
   "hash": "3df98a109a5cc23581108261c6c72118143224d8842a21ce60f5415bfb914c48"
  },
  "kernelspec": {
   "display_name": "Python 3.9.9 64-bit",
   "language": "python",
   "name": "python3"
  },
  "language_info": {
   "codemirror_mode": {
    "name": "ipython",
    "version": 3
   },
   "file_extension": ".py",
   "mimetype": "text/x-python",
   "name": "python",
   "nbconvert_exporter": "python",
   "pygments_lexer": "ipython3",
   "version": "3.9.10"
  },
  "orig_nbformat": 4
 },
 "nbformat": 4,
 "nbformat_minor": 2
}
