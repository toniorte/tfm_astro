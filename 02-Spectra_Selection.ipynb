{
 "cells": [
  {
   "cell_type": "code",
   "execution_count": 5,
   "metadata": {},
   "outputs": [],
   "source": [
    "import numpy as np\n",
    "from astropy.table import Table\n"
   ]
  },
  {
   "cell_type": "code",
   "execution_count": 6,
   "metadata": {},
   "outputs": [],
   "source": [
    "snr_crit = []\n"
   ]
  },
  {
   "cell_type": "code",
   "execution_count": 7,
   "metadata": {},
   "outputs": [
    {
     "name": "stdout",
     "output_type": "stream",
     "text": [
      "318 - 9\n"
     ]
    }
   ],
   "source": [
    "# Remove from CVs the bad spectra\n",
    "\n",
    "RKcat_cb_spec_class=Table.read('tables/cbdata_w_spec_class.ecsv')\n",
    "\n",
    "my_list = ['690-52261-568', '1085-52531-175', '1192-52649-343', '1205-52670-188', '2161-53878-189', '2193-53888-381', \n",
    "'2613-54481-523', '5334-55928-884', '6700-56384-434']\n",
    "\n",
    "print(str(len(RKcat_cb_spec_class)) + ' - ' + str(len(my_list)))\n",
    "\n",
    "for value in my_list:\n",
    "    for row in enumerate(RKcat_cb_spec_class):\n",
    "        if value == str(row[1][-11])+'-'+str(row[1][-10])+'-'+str(row[1][-9]):\n",
    "            RKcat_cb_spec_class.remove_row(row[0])\n"
   ]
  },
  {
   "cell_type": "code",
   "execution_count": 8,
   "metadata": {},
   "outputs": [],
   "source": [
    "# Get SNR mean (CVs)\n",
    "\n",
    "t = Table(RKcat_cb_spec_class, copy=True)\n",
    "t.sort('snr')\n",
    "signoise = t['snr']\n",
    "signoise[signoise==0]=np.NaN\n",
    "snrmean = np.nanmean(signoise)\n",
    "snr_crit.append(snrmean*0.1)\n"
   ]
  },
  {
   "cell_type": "code",
   "execution_count": 9,
   "metadata": {},
   "outputs": [
    {
     "name": "stdout",
     "output_type": "stream",
     "text": [
      "1000 - 8\n"
     ]
    }
   ],
   "source": [
    "# Remove from QSOs the bad spectra\n",
    "\n",
    "DR16Q_1k_class=Table.read('tables/dr16q_1k_class.ecsv')\n",
    "\n",
    "my_list = ['666-52149-47', '1877-54464-47', '2010-53495-137', '2081-53357-375', '4214-55451-740', '7580-56955-876',\n",
    "'8869-57481-884', '10663-58162-378']\n",
    "\n",
    "print(str(len(DR16Q_1k_class)) + ' - ' + str(len(my_list)))\n",
    "\n",
    "for value in my_list:\n",
    "    for row in enumerate(DR16Q_1k_class):\n",
    "        if value == str(row[1][4])+'-'+str(row[1][5])+'-'+str(row[1][6]):\n",
    "            DR16Q_1k_class.remove_row(row[0])\n"
   ]
  },
  {
   "cell_type": "code",
   "execution_count": 10,
   "metadata": {},
   "outputs": [],
   "source": [
    "# Get SNR mean (QSOs)\n",
    "\n",
    "t = Table(DR16Q_1k_class, copy=True)\n",
    "t.sort('snr')\n",
    "signoise = t['snr']\n",
    "signoise[signoise==0]=np.NaN\n",
    "snrmean = np.nanmean(signoise)\n",
    "snr_crit.append(snrmean*0.1)\n"
   ]
  },
  {
   "cell_type": "code",
   "execution_count": 11,
   "metadata": {},
   "outputs": [
    {
     "name": "stdout",
     "output_type": "stream",
     "text": [
      "545 - 12\n"
     ]
    }
   ],
   "source": [
    "# Remove from WDMSs the bad spectra\n",
    "\n",
    "WDMS_1k_spec_t_class=Table.read('tables/wdms_1k_w_spec_class.ecsv')\n",
    "\n",
    "my_list = ['352-51789-45', '424-51893-491', '505-52317-146', '574-52355-505', '690-52261-189', '1068-52614-298',\n",
    "'1192-52649-343', '1221-52751-145', '1240-52734-104', '2092-53460-382', '2662-54505-568', '2756-54508-105']\n",
    "\n",
    "print(str(len(WDMS_1k_spec_t_class)) + ' - ' + str(len(my_list)))\n",
    "\n",
    "for value in my_list:\n",
    "    for row in enumerate(WDMS_1k_spec_t_class):\n",
    "        if value == str(row[1][-11])+'-'+str(row[1][-10])+'-'+str(row[1][-9]):\n",
    "            WDMS_1k_spec_t_class.remove_row(row[0])\n"
   ]
  },
  {
   "cell_type": "code",
   "execution_count": 12,
   "metadata": {},
   "outputs": [],
   "source": [
    "# Get SNR mean (WDMSs)\n",
    "\n",
    "t = Table(WDMS_1k_spec_t_class, copy=True)\n",
    "t.sort('snr')\n",
    "signoise = t['snr']\n",
    "signoise[signoise==0]=np.NaN\n",
    "snrmean = np.nanmean(signoise)\n",
    "snr_crit.append(snrmean*0.1)\n"
   ]
  },
  {
   "cell_type": "code",
   "execution_count": 13,
   "metadata": {},
   "outputs": [
    {
     "name": "stdout",
     "output_type": "stream",
     "text": [
      "948 - 26\n"
     ]
    }
   ],
   "source": [
    "# Remove from Hot Stars the bad spectra\n",
    "\n",
    "hotStars_1k_class=Table.read('tables/hotstars_1k_class.ecsv')\n",
    "\n",
    "my_list = ['544-52201-105', '690-52261-217', '1065-52586-138', '1254-52972-375', '1257-52944-550', '1362-53050-218', '1463-53063-639',\n",
    "'1466-53083-504', '1852-53534-639', '2256-53859-490', '2261-53612-596', '2262-54623-106', '2400-53765-12', '2424-54448-596', '3146-54773-269',\n",
    "'3297-54941-250', '3305-54945-104', '3305-54945-280', '3384-54948-138', '3466-54998-101', '3478-55008-176', '3986-55329-884', '4754-55649-834',\n",
    "'4979-56045-506', '5370-56003-834', '9364-57699-886']\n",
    "\n",
    "print(str(len(hotStars_1k_class)) + ' - ' + str(len(my_list)))\n",
    "\n",
    "for value in my_list:\n",
    "    for row in enumerate(hotStars_1k_class):\n",
    "        if value == str(row[1][-10])+'-'+str(row[1][-9])+'-'+str(row[1][-8]):\n",
    "            hotStars_1k_class.remove_row(row[0])\n"
   ]
  },
  {
   "cell_type": "code",
   "execution_count": 14,
   "metadata": {},
   "outputs": [],
   "source": [
    "# Get SNR mean (Hot Stars)\n",
    "\n",
    "t = Table(hotStars_1k_class, copy=True)\n",
    "t.sort('snr')\n",
    "signoise = t['snr']\n",
    "signoise[signoise==0]=np.NaN\n",
    "snrmean = np.nanmean(signoise)\n",
    "snr_crit.append(snrmean*0.1)\n"
   ]
  },
  {
   "cell_type": "code",
   "execution_count": 19,
   "metadata": {},
   "outputs": [
    {
     "name": "stdout",
     "output_type": "stream",
     "text": [
      "[2.1076818955410537, 0.6005780954768052, 1.7009530508950395, 2.0331880729430782]\n"
     ]
    }
   ],
   "source": [
    "# Choose max SNR mean\n",
    "\n",
    "print(snr_crit)\n",
    "snr_final_crit = np.max(snr_crit)\n"
   ]
  },
  {
   "cell_type": "code",
   "execution_count": 34,
   "metadata": {},
   "outputs": [
    {
     "name": "stdout",
     "output_type": "stream",
     "text": [
      "294\n"
     ]
    }
   ],
   "source": [
    "# Remove from CVs bad SNR\n",
    "\n",
    "while True:\n",
    "    counter = 0\n",
    "    for row in enumerate(RKcat_cb_spec_class):\n",
    "        if (row[1][-1]) < snr_final_crit:\n",
    "            counter = counter+1\n",
    "            RKcat_cb_spec_class.remove_row(row[0])\n",
    "    if counter==0: break\n",
    "\n",
    "print(len(RKcat_cb_spec_class))\n",
    "\n",
    "RKcat_cb_spec_class.write('tables/cbdata_pre_final.ecsv', overwrite=False)\n"
   ]
  },
  {
   "cell_type": "code",
   "execution_count": 32,
   "metadata": {},
   "outputs": [
    {
     "name": "stdout",
     "output_type": "stream",
     "text": [
      "790\n"
     ]
    }
   ],
   "source": [
    "# Remove from QSOs bad SNR\n",
    "\n",
    "while True:\n",
    "    counter = 0\n",
    "    for row in enumerate(DR16Q_1k_class):\n",
    "        if (row[1][-1]) < snr_final_crit:\n",
    "            counter = counter+1\n",
    "            DR16Q_1k_class.remove_row(row[0])\n",
    "    if counter==0: break\n",
    "\n",
    "print(len(DR16Q_1k_class))\n",
    "\n",
    "DR16Q_1k_class.write('tables/dr16q_pre_final.ecsv', overwrite=False)\n"
   ]
  },
  {
   "cell_type": "code",
   "execution_count": 30,
   "metadata": {},
   "outputs": [
    {
     "name": "stdout",
     "output_type": "stream",
     "text": [
      "510\n"
     ]
    }
   ],
   "source": [
    "# Remove from WDMSs bad SNR\n",
    "\n",
    "while True:\n",
    "    counter = 0\n",
    "    for row in enumerate(WDMS_1k_spec_t_class):\n",
    "        if (row[1][-1]) < snr_final_crit:\n",
    "            counter = counter+1\n",
    "            WDMS_1k_spec_t_class.remove_row(row[0])\n",
    "    if counter==0: break\n",
    "\n",
    "print(len(WDMS_1k_spec_t_class))\n",
    "\n",
    "WDMS_1k_spec_t_class.write('tables/wdms_pre_final.ecsv', overwrite=False)\n"
   ]
  },
  {
   "cell_type": "code",
   "execution_count": 29,
   "metadata": {},
   "outputs": [
    {
     "name": "stdout",
     "output_type": "stream",
     "text": [
      "812\n"
     ]
    }
   ],
   "source": [
    "# Remove from Hot Stars bad SNR\n",
    "\n",
    "while True:\n",
    "    counter = 0\n",
    "    for row in enumerate(hotStars_1k_class):\n",
    "        if (row[1][-1]) < snr_final_crit:\n",
    "            counter = counter+1\n",
    "            hotStars_1k_class.remove_row(row[0])\n",
    "    if counter==0: break\n",
    "\n",
    "print(len(hotStars_1k_class))\n",
    "\n",
    "hotStars_1k_class.write('tables/hotstars_pre_final.ecsv', overwrite=False)\n"
   ]
  },
  {
   "cell_type": "code",
   "execution_count": null,
   "metadata": {},
   "outputs": [],
   "source": []
  }
 ],
 "metadata": {
  "interpreter": {
   "hash": "3df98a109a5cc23581108261c6c72118143224d8842a21ce60f5415bfb914c48"
  },
  "kernelspec": {
   "display_name": "Python 3.9.9 64-bit",
   "language": "python",
   "name": "python3"
  },
  "language_info": {
   "codemirror_mode": {
    "name": "ipython",
    "version": 3
   },
   "file_extension": ".py",
   "mimetype": "text/x-python",
   "name": "python",
   "nbconvert_exporter": "python",
   "pygments_lexer": "ipython3",
   "version": "3.10.2"
  },
  "orig_nbformat": 4
 },
 "nbformat": 4,
 "nbformat_minor": 2
}
