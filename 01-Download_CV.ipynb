{
 "cells": [
  {
   "cell_type": "code",
   "execution_count": 1,
   "metadata": {},
   "outputs": [],
   "source": [
    "from astroquery.vizier import Vizier\n",
    "from astroquery.sdss import SDSS\n",
    "import astropy.units as u\n",
    "from astropy import coordinates as coords\n",
    "from astropy.table import Table, hstack, vstack\n",
    "from astropy.io import fits\n",
    "import matplotlib.pyplot as plt\n",
    "import numpy as np\n",
    "from synphot import SourceSpectrum\n",
    "from synphot.models import Empirical1D\n",
    "from synphot import units\n",
    "import random\n",
    "import os.path\n",
    "from collections import Counter\n",
    "from specutils import Spectrum1D, SpectralRegion\n",
    "from specutils.analysis import snr_derived\n"
   ]
  },
  {
   "cell_type": "code",
   "execution_count": 2,
   "metadata": {},
   "outputs": [
    {
     "name": "stderr",
     "output_type": "stream",
     "text": [
      "WARNING: UnitsWarning: Unit 'Msun' not supported by the VOUnit standard.  [astropy.units.format.vounit]\n",
      "WARNING: UnitsWarning: Unit 'Rsun' not supported by the VOUnit standard.  [astropy.units.format.vounit]\n"
     ]
    },
    {
     "name": "stdout",
     "output_type": "stream",
     "text": [
      "{'B/cb': 'Cataclysmic Binaries, LMXBs, and related objects (Ritter+, 2004)', 'J/ApJ/763/L33': 'Be-B concentrations in rare CB/CH chondrite (Gounelle+, 2013)'}\n"
     ]
    }
   ],
   "source": [
    "# Search Vizier for Ritter-Kolb 'B/cb': 'Cataclysmic Binaries, LMXBs, and related objects (Ritter+, 2004)'\n",
    "catalog_list = Vizier.find_catalogs('B/cb')\n",
    "print({k:v.description for k,v in catalog_list.items()})\n"
   ]
  },
  {
   "cell_type": "code",
   "execution_count": 70,
   "metadata": {},
   "outputs": [
    {
     "name": "stdout",
     "output_type": "stream",
     "text": [
      "TableList with 11 tables:\n",
      "\t'0:B/cb/cbdata' with 11 column(s) and 1429 row(s) \n",
      "\t'1:B/cb/lmxbdata' with 11 column(s) and 108 row(s) \n",
      "\t'2:B/cb/pcbdata' with 11 column(s) and 619 row(s) \n",
      "\t'3:B/cb/findrefs' with 3 column(s) and 4858 row(s) \n",
      "\t'4:B/cb/cbrefs' with 3 column(s) and 2953 row(s) \n",
      "\t'5:B/cb/lmxbrefs' with 3 column(s) and 310 row(s) \n",
      "\t'6:B/cb/pcbrefs' with 3 column(s) and 1201 row(s) \n",
      "\t'7:B/cb/whoswho1' with 3 column(s) and 12814 row(s) \n",
      "\t'8:B/cb/whoswho2' with 3 column(s) and 7307 row(s) \n",
      "\t'9:B/cb/whoswho5' with 2 column(s) and 1543 row(s) \n",
      "\t'10:J/ApJ/763/L33/table1' with 13 column(s) and 74 row(s) \n"
     ]
    }
   ],
   "source": [
    "# Check index of 'B/cb/cbdata: Catalogue of Cataclysmic Binaries (1429 rows)'\n",
    "Vizier.ROW_LIMIT = -1\n",
    "catalogs = Vizier.get_catalogs(catalog_list.keys())\n",
    "print(catalogs)\n"
   ]
  },
  {
   "cell_type": "code",
   "execution_count": 4,
   "metadata": {},
   "outputs": [
    {
     "name": "stdout",
     "output_type": "stream",
     "text": [
      "CBdata objects: 1429\n"
     ]
    }
   ],
   "source": [
    "# Finally get the CBdata\n",
    "RKcat_cb = catalogs[0]\n",
    "print(\"CBdata objects:\", len(RKcat_cb))\n"
   ]
  },
  {
   "cell_type": "code",
   "execution_count": null,
   "metadata": {},
   "outputs": [],
   "source": [
    "RKcat_cb.write('tables/cbdata.ecsv')\n"
   ]
  },
  {
   "cell_type": "code",
   "execution_count": 2,
   "metadata": {},
   "outputs": [],
   "source": [
    "RKcat_cb = Table.read('tables/cbdata.ecsv')\n"
   ]
  },
  {
   "cell_type": "code",
   "execution_count": 107,
   "metadata": {},
   "outputs": [
    {
     "data": {
      "text/html": [
       "<div><i>Table length=2</i>\n",
       "<table id=\"table2132574835760\" class=\"table-striped table-bordered table-condensed\">\n",
       "<thead><tr><th>Name</th><th>AltName</th><th>RAJ2000</th><th>DEJ2000</th><th>Type1</th><th>Type2</th><th>mag1</th><th>Orb.Per</th><th>SpType2</th><th>SpType1</th><th>Refs</th></tr></thead>\n",
       "<thead><tr><th></th><th></th><th>&quot;h:m:s&quot;</th><th>&quot;d:m:s&quot;</th><th></th><th></th><th>mag</th><th>d</th><th></th><th></th><th></th></tr></thead>\n",
       "<thead><tr><th>str12</th><th>str12</th><th>str10</th><th>str9</th><th>str2</th><th>str2</th><th>float32</th><th>float64</th><th>str7</th><th>str7</th><th>str4</th></tr></thead>\n",
       "<tr><td>V1017 Sgr</td><td>N Sgr 1919</td><td>18 32 04.5</td><td>-29 23 12</td><td>Nb</td><td>DN</td><td>13.7</td><td>5.714000</td><td>G5/3p</td><td>--</td><td>Refs</td></tr>\n",
       "<tr><td>MR Vel</td><td>0925-4758</td><td>09 25 45.9</td><td>-47 58 18</td><td>SS</td><td>--</td><td>17.0</td><td>4.028782</td><td>--</td><td>--</td><td>Refs</td></tr>\n",
       "</table></div>"
      ],
      "text/plain": [
       "<Table length=2>\n",
       "   Name    AltName    RAJ2000    DEJ2000  ...  Orb.Per  SpType2 SpType1 Refs\n",
       "                      \"h:m:s\"    \"d:m:s\"  ...     d                         \n",
       "  str12     str12      str10       str9   ...  float64    str7    str7  str4\n",
       "--------- ---------- ---------- --------- ... --------- ------- ------- ----\n",
       "V1017 Sgr N Sgr 1919 18 32 04.5 -29 23 12 ...  5.714000   G5/3p      -- Refs\n",
       "   MR Vel  0925-4758 09 25 45.9 -47 58 18 ...  4.028782      --      -- Refs"
      ]
     },
     "execution_count": 107,
     "metadata": {},
     "output_type": "execute_result"
    }
   ],
   "source": [
    "# Example\n",
    "RKcat_cb[0:2]\n"
   ]
  },
  {
   "cell_type": "code",
   "execution_count": 4,
   "metadata": {},
   "outputs": [
    {
     "name": "stderr",
     "output_type": "stream",
     "text": [
      "C:\\Users\\AntonioOrtega\\AppData\\Local\\Programs\\Python\\Python39\\lib\\site-packages\\astropy\\table\\table.py:3486: FutureWarning: elementwise == comparison failed and returning scalar instead; this will raise an error or perform elementwise comparison in the future.\n",
      "  result = self.as_array() == other\n",
      "C:\\Users\\AntonioOrtega\\AppData\\Local\\Programs\\Python\\Python39\\lib\\site-packages\\astroquery\\sdss\\core.py:867: VisibleDeprecationWarning: Reading unicode strings without specifying the encoding argument is deprecated. Set the encoding, use None for the system default.\n",
      "  arr = np.atleast_1d(np.genfromtxt(io.BytesIO(response.content),\n"
     ]
    },
    {
     "name": "stdout",
     "output_type": "stream",
     "text": [
      "Objects with SDSS spectrum: 220\n"
     ]
    }
   ],
   "source": [
    "# Dictionary with objects with available SDSS spectrum\n",
    "RKcb_spec = {}\n",
    "for i in range(len(RKcat_cb)):\n",
    "    coord = RKcat_cb[i]['RAJ2000']+\" \"+RKcat_cb[i]['DEJ2000']\n",
    "    pos = coords.SkyCoord(coord, unit=(u.hourangle, u.deg))\n",
    "    # Query SDSS, default 2 arcsec radio\n",
    "    xid = SDSS.query_region(pos, spectro=True, data_release=17)\n",
    "    if xid!=None:\n",
    "        RKcb_spec[RKcat_cb[i]['Name']] = xid\n",
    "print(\"Objects with SDSS spectrum:\", len(RKcb_spec))\n"
   ]
  },
  {
   "cell_type": "code",
   "execution_count": 7,
   "metadata": {},
   "outputs": [
    {
     "data": {
      "text/plain": [
       "'J2044-0459'"
      ]
     },
     "execution_count": 7,
     "metadata": {},
     "output_type": "execute_result"
    }
   ],
   "source": [
    "# Example\n",
    "list(RKcb_spec)[0]\n"
   ]
  },
  {
   "cell_type": "code",
   "execution_count": 5,
   "metadata": {},
   "outputs": [
    {
     "data": {
      "text/html": [
       "<div><i>Table length=2</i>\n",
       "<table id=\"table1312645896992\" class=\"table-striped table-bordered table-condensed\">\n",
       "<thead><tr><th>ra</th><th>dec</th><th>objid</th><th>run</th><th>rerun</th><th>camcol</th><th>field</th><th>z</th><th>plate</th><th>mjd</th><th>fiberID</th><th>specobjid</th><th>run2d</th></tr></thead>\n",
       "<thead><tr><th>float64</th><th>float64</th><th>int64</th><th>int32</th><th>int32</th><th>int32</th><th>int32</th><th>float64</th><th>int32</th><th>int32</th><th>int32</th><th>int64</th><th>int32</th></tr></thead>\n",
       "<tr><td>311.203848782275</td><td>-4.99134390921089</td><td>1237652936177811877</td><td>1737</td><td>301</td><td>6</td><td>25</td><td>-3.872241e-05</td><td>1916</td><td>53269</td><td>424</td><td>2157340824587757568</td><td>26</td></tr>\n",
       "<tr><td>311.203848782275</td><td>-4.99134390921089</td><td>1237652936177811877</td><td>1737</td><td>301</td><td>6</td><td>25</td><td>-4.329716e-05</td><td>635</td><td>52145</td><td>387</td><td>715052854582208512</td><td>26</td></tr>\n",
       "</table></div>"
      ],
      "text/plain": [
       "<Table length=2>\n",
       "       ra               dec        ...      specobjid      run2d\n",
       "    float64           float64      ...        int64        int32\n",
       "---------------- ----------------- ... ------------------- -----\n",
       "311.203848782275 -4.99134390921089 ... 2157340824587757568    26\n",
       "311.203848782275 -4.99134390921089 ...  715052854582208512    26"
      ]
     },
     "execution_count": 5,
     "metadata": {},
     "output_type": "execute_result"
    }
   ],
   "source": [
    "RKcb_spec['J2044-0459']\n"
   ]
  },
  {
   "cell_type": "code",
   "execution_count": 278,
   "metadata": {},
   "outputs": [],
   "source": [
    "# 1st round for joint table (CV table + spectrum dictionary)\n",
    "RKcat_cb_spec = Table()\n",
    "for i in range(len(list(RKcb_spec))):\n",
    "    t1 = RKcat_cb[RKcat_cb['Name']==list(RKcb_spec)[i]]\n",
    "    t2 = RKcb_spec[list(RKcb_spec)[i]]\n",
    "    t2p = Table()\n",
    "    t1p = Table()\n",
    "    for j in range(len(t2)):\n",
    "        t2t = Table(t2[j], copy=True, dtype=('float64', 'float64', 'int64', 'int32', 'int32', 'int32', 'int32', 'float64', 'int32', 'int32', 'int32', 'int64', 'S7'))\n",
    "        t2p = vstack([t2p, t2t])\n",
    "        t1p = vstack([t1p, t1])\n",
    "    o = hstack([t1p, t2p])\n",
    "    RKcat_cb_spec = vstack([RKcat_cb_spec, o])\n"
   ]
  },
  {
   "cell_type": "code",
   "execution_count": 276,
   "metadata": {},
   "outputs": [],
   "source": [
    "RKcat_cb_spec.write('tables/cbdata_w_spec.ecsv')\n"
   ]
  },
  {
   "cell_type": "code",
   "execution_count": 6,
   "metadata": {},
   "outputs": [],
   "source": [
    "RKcat_cb_spec=Table.read('tables/cbdata_w_spec.ecsv')\n"
   ]
  },
  {
   "cell_type": "code",
   "execution_count": 3,
   "metadata": {},
   "outputs": [
    {
     "name": "stderr",
     "output_type": "stream",
     "text": [
      "C:\\Users\\AntonioOrtega\\AppData\\Local\\Programs\\Python\\Python39\\lib\\site-packages\\astroquery\\sdss\\core.py:867: VisibleDeprecationWarning: Reading unicode strings without specifying the encoding argument is deprecated. Set the encoding, use None for the system default.\n",
      "  arr = np.atleast_1d(np.genfromtxt(io.BytesIO(response.content),\n",
      "WARNING: The following header keyword is invalid or follows an unrecognized non-standard convention:\n",
      "MC1TRCT =-0.00000000000000E+00 / sp1 mech Temp_Red_Cam_Top                       [astropy.io.fits.card]\n"
     ]
    }
   ],
   "source": [
    "# Download spectrum files:\n",
    "error = []\n",
    "for l in range(len(RKcat_cb_spec)):\n",
    "    plate = RKcat_cb_spec[l]['plate']\n",
    "    mjd = RKcat_cb_spec[l]['mjd']\n",
    "    fiber = RKcat_cb_spec[l]['fiberID']\n",
    "    filename = 'spec-'+str(plate).zfill(4)+'-'+str(mjd)+'-'+str(fiber).zfill(4)+'.fits'\n",
    "    if not os.path.exists('SDSSspec/'+filename):\n",
    "        try:\n",
    "            spec = SDSS.get_spectra(plate=plate, mjd=mjd, fiberID=fiber, data_release=17)\n",
    "            spec[0].writeto('SDSSspec/'+filename)\n",
    "        except:\n",
    "            csv_row = str(plate).zfill(4)+', '+str(mjd)+', '+str(fiber).zfill(4)\n",
    "            error.append(csv_row)\n",
    "\n",
    "with open('SDSSspec/error.txt', 'w') as f:\n",
    "    for element in error:\n",
    "        f.write(element + \"\\n\")\n"
   ]
  },
  {
   "cell_type": "code",
   "execution_count": 11,
   "metadata": {},
   "outputs": [
    {
     "name": "stderr",
     "output_type": "stream",
     "text": [
      "WARNING: UnitsWarning: '1E-17 erg/cm^2/s/Angstrom' contains multiple slashes, which is discouraged by the FITS standard [astropy.units.format.generic]\n",
      "WARNING: The following header keyword is invalid or follows an unrecognized non-standard convention:\n",
      "MC1TRCT =-0.00000000000000E+00 / sp1 mech Temp_Red_Cam_Top                       [astropy.io.fits.card]\n"
     ]
    }
   ],
   "source": [
    "# 2nd round for joint table, with class and subclass (from .fits) and SNR\n",
    "RKcat_cb_spec_class = Table()\n",
    "obtyp = Table(names=('class', 'subclass', 'sppixmask', 'zwarning', 'good', 'snr'), dtype=('S10', 'S10', 'S100', 'S100', 'bool', 'f8'))\n",
    "for i in range(len(RKcat_cb_spec)):\n",
    "    bitset_m = set()\n",
    "    bitset_z = set()\n",
    "    p = RKcat_cb_spec[i]['plate']\n",
    "    m = RKcat_cb_spec[i]['mjd']\n",
    "    f = RKcat_cb_spec[i]['fiberID']\n",
    "    filename = 'spec-'+str(p).zfill(4)+'-'+str(m)+'-'+str(f).zfill(4)+'.fits'\n",
    "    spec1d = Spectrum1D.read('cbdata_w_spec/'+filename)\n",
    "    snrval = snr_derived(spec1d, SpectralRegion(4000*u.AA, 9000*u.AA))\n",
    "    hdul = fits.open('cbdata_w_spec/'+filename)\n",
    "    andmk = hdul[1].data['and_mask']\n",
    "    zwarn = hdul[2].data['ZWARNING']\n",
    "    counter = 0\n",
    "    for v in range(len(zwarn)):\n",
    "        bits = [bit for bit in range(0, 32) if (zwarn[v] & 1 << bit) > 0]\n",
    "        if bits!=[]:\n",
    "            bitset_z.update(bits)\n",
    "    for v in range(len(andmk)):\n",
    "        bits = [bit for bit in range(0, 32) if (andmk[v] & 1 << bit) > 0]\n",
    "        if bits!=[]:\n",
    "            # if 23 in bits: bits.remove(23)\n",
    "            if bits!=[]: counter=counter+1\n",
    "            bitset_m.update(bits)\n",
    "    #goodpct = Counter(andmk)[0]/len(andmk)\n",
    "    badpct = counter/len(andmk)\n",
    "    goodfl = True\n",
    "    if badpct>0.1:\n",
    "        goodfl = False\n",
    "    #zztop = False\n",
    "    #if zwarn==0:\n",
    "    #    zztop=True\n",
    "    obtyp.add_row((hdul[2].data['CLASS'][0], hdul[2].data['SUBCLASS'][0], str(bitset_m), str(bitset_z), goodfl, snrval))\n",
    "RKcat_cb_spec_class = hstack([RKcat_cb_spec, obtyp])\n"
   ]
  },
  {
   "cell_type": "code",
   "execution_count": 13,
   "metadata": {},
   "outputs": [],
   "source": [
    "RKcat_cb_spec_class.write('tables/cbdata_w_spec_class.ecsv', overwrite=True)\n"
   ]
  },
  {
   "cell_type": "code",
   "execution_count": 44,
   "metadata": {},
   "outputs": [],
   "source": [
    "RKcat_cb_spec_class=Table.read('tables/cbdata_w_spec_class.ecsv')\n"
   ]
  },
  {
   "cell_type": "code",
   "execution_count": 14,
   "metadata": {},
   "outputs": [
    {
     "data": {
      "text/html": [
       "<div><i>Table length=318</i>\n",
       "<table id=\"table1312648842640\" class=\"table-striped table-bordered table-condensed\">\n",
       "<thead><tr><th>Name</th><th>AltName</th><th>RAJ2000</th><th>DEJ2000</th><th>Type1</th><th>Type2</th><th>mag1</th><th>Orb.Per</th><th>SpType2</th><th>SpType1</th><th>Refs</th><th>ra</th><th>dec</th><th>objid</th><th>run</th><th>rerun</th><th>camcol</th><th>field</th><th>z</th><th>plate</th><th>mjd</th><th>fiberID</th><th>specobjid</th><th>run2d</th><th>class</th><th>subclass</th><th>sppixmask</th><th>zwarning</th><th>good</th><th>snr</th></tr></thead>\n",
       "<thead><tr><th></th><th></th><th>&quot;h:m:s&quot;</th><th>&quot;d:m:s&quot;</th><th></th><th></th><th>mag</th><th>d</th><th></th><th></th><th></th><th></th><th></th><th></th><th></th><th></th><th></th><th></th><th></th><th></th><th></th><th></th><th></th><th></th><th></th><th></th><th></th><th></th><th></th><th></th></tr></thead>\n",
       "<thead><tr><th>str10</th><th>str11</th><th>str10</th><th>str9</th><th>str2</th><th>str2</th><th>float32</th><th>float64</th><th>str7</th><th>str6</th><th>str4</th><th>float64</th><th>float64</th><th>int64</th><th>int32</th><th>int32</th><th>int32</th><th>int32</th><th>float64</th><th>int32</th><th>int32</th><th>int32</th><th>int64</th><th>str7</th><th>bytes10</th><th>bytes14</th><th>bytes100</th><th>bytes100</th><th>bool</th><th>float64</th></tr></thead>\n",
       "<tr><td>J2044-0459</td><td>--</td><td>20 44 48.9</td><td>-04 59 29</td><td>DN</td><td>UG</td><td>16.7</td><td>1.680000</td><td>K4-5</td><td>--</td><td>Refs</td><td>311.203848782275</td><td>-4.99134390921089</td><td>1237652936177811877</td><td>1737</td><td>301</td><td>6</td><td>25</td><td>-3.872241e-05</td><td>1916</td><td>53269</td><td>424</td><td>2157340824587757568</td><td>26</td><td>STAR</td><td>CV</td><td>{16, 23}</td><td>set()</td><td>True</td><td>38.6765724791674</td></tr>\n",
       "<tr><td>J2044-0459</td><td>--</td><td>20 44 48.9</td><td>-04 59 29</td><td>DN</td><td>UG</td><td>16.7</td><td>1.680000</td><td>K4-5</td><td>--</td><td>Refs</td><td>311.203848782275</td><td>-4.99134390921089</td><td>1237652936177811877</td><td>1737</td><td>301</td><td>6</td><td>25</td><td>-4.329716e-05</td><td>635</td><td>52145</td><td>387</td><td>715052854582208512</td><td>0</td><td>STAR</td><td>CV</td><td>{27, 23}</td><td>set()</td><td>True</td><td>32.95863805140221</td></tr>\n",
       "<tr><td>V479 And</td><td>--</td><td>00 18 56.9</td><td>+34 54 44</td><td>NL</td><td>AM</td><td>17.5</td><td>0.594093</td><td>G8-K0/4</td><td>--</td><td>Refs</td><td>4.73724197215756</td><td>34.9122818603356</td><td>1237659888119578900</td><td>3356</td><td>301</td><td>3</td><td>30</td><td>-0.0002891821</td><td>1468</td><td>52999</td><td>163</td><td>1652865918658701312</td><td>26</td><td>STAR</td><td>CV</td><td>{23}</td><td>{4}</td><td>True</td><td>43.71896416570083</td></tr>\n",
       "<tr><td>FH Lyn</td><td>--</td><td>08 13 21.9</td><td>+45 28 10</td><td>DN</td><td>UG</td><td>18.3</td><td>0.289000</td><td>K5-7/5</td><td>--</td><td>Refs</td><td>123.341349362666</td><td>45.4692502685502</td><td>1237651250945392740</td><td>1345</td><td>301</td><td>3</td><td>107</td><td>-0.0003028748</td><td>439</td><td>51877</td><td>582</td><td>494430069536614400</td><td>26</td><td>STAR</td><td>CV</td><td>{16, 27, 23}</td><td>set()</td><td>True</td><td>18.607032618991305</td></tr>\n",
       "<tr><td>FH Lyn</td><td>--</td><td>08 13 21.9</td><td>+45 28 10</td><td>DN</td><td>UG</td><td>18.3</td><td>0.289000</td><td>K5-7/5</td><td>--</td><td>Refs</td><td>123.341349362666</td><td>45.4692502685502</td><td>1237651250945392740</td><td>1345</td><td>301</td><td>3</td><td>107</td><td>0.0001062983</td><td>3686</td><td>55268</td><td>46</td><td>4150079789389338624</td><td>v5_13_2</td><td>STAR</td><td>CV</td><td>{23}</td><td>set()</td><td>True</td><td>29.79928728439274</td></tr>\n",
       "<tr><td>J1619+1351</td><td>--</td><td>16 19 09.1</td><td>+13 51 46</td><td>DN</td><td>UG</td><td>19.1</td><td>0.286500</td><td>K2-6/5</td><td>--</td><td>Refs</td><td>244.787925329688</td><td>13.8626610537507</td><td>1237668337399234623</td><td>5323</td><td>301</td><td>5</td><td>110</td><td>0.0003715811</td><td>2530</td><td>53881</td><td>327</td><td>2848616714499811328</td><td>26</td><td>STAR</td><td>CV</td><td>{16, 23}</td><td>set()</td><td>True</td><td>20.887518488235695</td></tr>\n",
       "<tr><td>U Leo</td><td>N Leo 1855</td><td>10 24 03.9</td><td>+14 00 26</td><td>N</td><td>--</td><td>17.3</td><td>0.267400</td><td>--</td><td>--</td><td>Refs</td><td>156.01610595075</td><td>14.006983990989</td><td>1237664106855006340</td><td>4338</td><td>301</td><td>5</td><td>88</td><td>-0.0009487064</td><td>5340</td><td>56011</td><td>358</td><td>6012404009679476736</td><td>v5_13_2</td><td>STAR</td><td>F3/F5V (30743)</td><td>{23}</td><td>set()</td><td>True</td><td>50.59864571401881</td></tr>\n",
       "<tr><td>J1544+2553</td><td>--</td><td>15 44 53.6</td><td>+25 53 49</td><td>CV</td><td>--</td><td>16.6</td><td>0.251282</td><td>M1.5/5</td><td>--</td><td>Refs</td><td>236.223359844373</td><td>25.8969095422513</td><td>1237662697573056566</td><td>4010</td><td>301</td><td>4</td><td>152</td><td>0.0001735896</td><td>1849</td><td>53846</td><td>74</td><td>2081809333242324992</td><td>26</td><td>STAR</td><td>CV</td><td>{23}</td><td>set()</td><td>True</td><td>37.368734319118595</td></tr>\n",
       "<tr><td>DO Leo</td><td>PG 1038+155</td><td>10 40 51.2</td><td>+15 11 34</td><td>NL</td><td>--</td><td>16.5</td><td>0.234515</td><td>--</td><td>--</td><td>Refs</td><td>160.213504498531</td><td>15.1926843606644</td><td>1237668494701494279</td><td>5360</td><td>301</td><td>2</td><td>96</td><td>-0.0001534609</td><td>2594</td><td>54177</td><td>26</td><td>2920591575253805056</td><td>26</td><td>STAR</td><td>WD</td><td>{23}</td><td>{3}</td><td>True</td><td>74.88845213396128</td></tr>\n",
       "<tr><td>...</td><td>...</td><td>...</td><td>...</td><td>...</td><td>...</td><td>...</td><td>...</td><td>...</td><td>...</td><td>...</td><td>...</td><td>...</td><td>...</td><td>...</td><td>...</td><td>...</td><td>...</td><td>...</td><td>...</td><td>...</td><td>...</td><td>...</td><td>...</td><td>...</td><td>...</td><td>...</td><td>...</td><td>...</td><td>...</td></tr>\n",
       "<tr><td>J1208+3550</td><td>--</td><td>12 08 42.0</td><td>+35 50 25</td><td>AC</td><td>NL</td><td>18.8</td><td>0.036800</td><td>--</td><td>--</td><td>Refs</td><td>182.174849343093</td><td>35.8403167850412</td><td>1237665129616703504</td><td>4576</td><td>301</td><td>6</td><td>433</td><td>0.07622771</td><td>4613</td><td>55591</td><td>512</td><td>5193917101556127744</td><td>v5_13_2</td><td>QSO</td><td></td><td>{23}</td><td>set()</td><td>True</td><td>13.514559387209951</td></tr>\n",
       "<tr><td>J1505+0659</td><td>--</td><td>15 05 51.6</td><td>+06 59 49</td><td>AC</td><td>NL</td><td>19.1</td><td>0.035000</td><td>--</td><td>--</td><td>Refs</td><td>226.464929003896</td><td>6.99688363912239</td><td>1237662236947579045</td><td>3903</td><td>301</td><td>2</td><td>301</td><td>0.01734898</td><td>4856</td><td>55712</td><td>812</td><td>5467593244321011712</td><td>v5_13_2</td><td>QSO</td><td>BROADLINE</td><td>{16, 27, 19, 23}</td><td>{2}</td><td>True</td><td>13.257644101653758</td></tr>\n",
       "<tr><td>J1411+4812</td><td>--</td><td>14 11 18.3</td><td>+48 12 58</td><td>AC</td><td>NL</td><td>19.4</td><td>0.032000</td><td>--</td><td>--</td><td>Refs</td><td>212.826310930943</td><td>48.2160074765248</td><td>1237661957761269768</td><td>3838</td><td>301</td><td>2</td><td>96</td><td>0.1347418</td><td>1671</td><td>53446</td><td>10</td><td>1881381550927407104</td><td>26</td><td>GALAXY</td><td></td><td>{16, 23}</td><td>set()</td><td>True</td><td>5.011095670023549</td></tr>\n",
       "<tr><td>J2348+2502</td><td>--</td><td>23 48 43.2</td><td>+25 02 50</td><td>AC</td><td>DN</td><td>20.2</td><td>0.032000</td><td>--</td><td>--</td><td>Refs</td><td>357.179781444585</td><td>25.0472062176836</td><td>1237678541701906723</td><td>7699</td><td>301</td><td>4</td><td>68</td><td>-0.003684683</td><td>7667</td><td>57580</td><td>158</td><td>8632318143644325888</td><td>v5_13_2</td><td>STAR</td><td>WDmagnetic</td><td>{23}</td><td>{2}</td><td>True</td><td>9.391350815660118</td></tr>\n",
       "<tr><td>J0804+1616</td><td>--</td><td>08 04 49.5</td><td>+16 16 25</td><td>AC</td><td>NL</td><td>18.0</td><td>0.030900</td><td>--</td><td>--</td><td>Refs</td><td>121.206217369966</td><td>16.2735695647069</td><td>1237667109034983560</td><td>5037</td><td>301</td><td>5</td><td>55</td><td>1.344874</td><td>4494</td><td>55569</td><td>72</td><td>5059814065993701376</td><td>v5_13_2</td><td>QSO</td><td>BROADLINE</td><td>{16, 19, 23}</td><td>{2}</td><td>False</td><td>24.139971090666823</td></tr>\n",
       "<tr><td>J1721+2733</td><td>--</td><td>17 21 02.5</td><td>+27 33 01</td><td>AC</td><td>DN</td><td>21.6</td><td>0.027000</td><td>--</td><td>--</td><td>Refs</td><td>260.260335644474</td><td>27.5503404340968</td><td>1237655502427783604</td><td>2335</td><td>301</td><td>2</td><td>132</td><td>0.5916396</td><td>2193</td><td>53888</td><td>381</td><td>2469203289418262528</td><td>26</td><td>QSO</td><td></td><td>{4, 16, 17, 20, 23}</td><td>{2, 6}</td><td>False</td><td>3.3007459528452587</td></tr>\n",
       "<tr><td>V744 And</td><td>--</td><td>01 29 40.1</td><td>+38 42 10</td><td>AC</td><td>DN</td><td>21.0</td><td>0.026080</td><td>--</td><td>--</td><td>Refs</td><td>22.4169102333466</td><td>38.7029064890104</td><td>1237671066844660247</td><td>5959</td><td>301</td><td>1</td><td>14</td><td>1.354307</td><td>2062</td><td>53381</td><td>22</td><td>2321611711947237376</td><td>26</td><td>QSO</td><td></td><td>{23}</td><td>{2}</td><td>True</td><td>5.544034755802529</td></tr>\n",
       "<tr><td>J1240-0159</td><td>--</td><td>12 40 58.0</td><td>-01 59 19</td><td>AC</td><td>NL</td><td>19.7</td><td>0.025941</td><td>--</td><td>DB</td><td>Refs</td><td>190.241800866299</td><td>-1.98868654908255</td><td>1237671765322563851</td><td>6121</td><td>301</td><td>6</td><td>149</td><td>0.0002076632</td><td>2922</td><td>54612</td><td>406</td><td>3289991205600913408</td><td>26</td><td>STAR</td><td>OB</td><td>{23}</td><td>{2, 3}</td><td>True</td><td>11.784004224891085</td></tr>\n",
       "<tr><td>J1240-0159</td><td>--</td><td>12 40 58.0</td><td>-01 59 19</td><td>AC</td><td>NL</td><td>19.7</td><td>0.025941</td><td>--</td><td>DB</td><td>Refs</td><td>190.241800866299</td><td>-1.98868654908255</td><td>1237671765322563851</td><td>6121</td><td>301</td><td>6</td><td>149</td><td>0.4115233</td><td>336</td><td>51999</td><td>358</td><td>378400808527489024</td><td>26</td><td>QSO</td><td></td><td>{27, 23}</td><td>{2, 6}</td><td>True</td><td>4.285791493307955</td></tr>\n",
       "<tr><td>YZ LMi</td><td>--</td><td>09 26 38.7</td><td>+36 24 02</td><td>AC</td><td>DN</td><td>20.3</td><td>0.019661</td><td>--</td><td>--</td><td>Refs</td><td>141.661310383651</td><td>36.4006722292245</td><td>1237660962404171962</td><td>3606</td><td>301</td><td>4</td><td>120</td><td>2.026347</td><td>1274</td><td>52995</td><td>505</td><td>1434535344908298240</td><td>26</td><td>QSO</td><td>BROADLINE</td><td>{23}</td><td>{2, 6}</td><td>True</td><td>24.25037207000877</td></tr>\n",
       "</table></div>"
      ],
      "text/plain": [
       "<Table length=318>\n",
       "   Name      AltName    RAJ2000   ... zwarning  good        snr        \n",
       "                        \"h:m:s\"   ...                                  \n",
       "  str10       str11      str10    ... bytes100  bool      float64      \n",
       "---------- ----------- ---------- ... -------- ----- ------------------\n",
       "J2044-0459          -- 20 44 48.9 ...    set()  True   38.6765724791674\n",
       "J2044-0459          -- 20 44 48.9 ...    set()  True  32.95863805140221\n",
       "  V479 And          -- 00 18 56.9 ...      {4}  True  43.71896416570083\n",
       "    FH Lyn          -- 08 13 21.9 ...    set()  True 18.607032618991305\n",
       "    FH Lyn          -- 08 13 21.9 ...    set()  True  29.79928728439274\n",
       "J1619+1351          -- 16 19 09.1 ...    set()  True 20.887518488235695\n",
       "     U Leo  N Leo 1855 10 24 03.9 ...    set()  True  50.59864571401881\n",
       "J1544+2553          -- 15 44 53.6 ...    set()  True 37.368734319118595\n",
       "    DO Leo PG 1038+155 10 40 51.2 ...      {3}  True  74.88845213396128\n",
       "       ...         ...        ... ...      ...   ...                ...\n",
       "J1208+3550          -- 12 08 42.0 ...    set()  True 13.514559387209951\n",
       "J1505+0659          -- 15 05 51.6 ...      {2}  True 13.257644101653758\n",
       "J1411+4812          -- 14 11 18.3 ...    set()  True  5.011095670023549\n",
       "J2348+2502          -- 23 48 43.2 ...      {2}  True  9.391350815660118\n",
       "J0804+1616          -- 08 04 49.5 ...      {2} False 24.139971090666823\n",
       "J1721+2733          -- 17 21 02.5 ...   {2, 6} False 3.3007459528452587\n",
       "  V744 And          -- 01 29 40.1 ...      {2}  True  5.544034755802529\n",
       "J1240-0159          -- 12 40 58.0 ...   {2, 3}  True 11.784004224891085\n",
       "J1240-0159          -- 12 40 58.0 ...   {2, 6}  True  4.285791493307955\n",
       "    YZ LMi          -- 09 26 38.7 ...   {2, 6}  True  24.25037207000877"
      ]
     },
     "execution_count": 14,
     "metadata": {},
     "output_type": "execute_result"
    }
   ],
   "source": [
    "RKcat_cb_spec_class\n"
   ]
  },
  {
   "cell_type": "code",
   "execution_count": 16,
   "metadata": {},
   "outputs": [],
   "source": [
    "# Plot, probably simpler & better with specutils.Spectrum1D when loading the .fits file, instead of synphot.SourceSpectrum\n",
    "def plotspec(plate, mjd, fiber, direc, title, g, c, save=False):\n",
    "    filename = 'spec-'+str(plate).zfill(4)+'-'+str(mjd)+'-'+str(fiber).zfill(4)+'.fits'\n",
    "    hdul = fits.open(direc+filename)\n",
    "    #hdul.info()\n",
    "    flux = hdul[1].data['flux']*1e-17*units.FLAM\n",
    "    loglam = hdul[1].data['loglam']\n",
    "    wave = 10 ** loglam\n",
    "\n",
    "    sp = SourceSpectrum(Empirical1D, points=wave, lookup_table=flux, keep_neg=False)\n",
    "    spu = units.convert_flux(sp.waveset, sp(sp.waveset), units.FLAM)\n",
    "\n",
    "    plt.figure(figsize=(16,4))\n",
    "    #plt.plot(sp.waveset.value, sp(sp.waveset).value)\n",
    "    plt.plot(sp.waveset.value, spu.value)\n",
    "    plt.xlabel('Wavelength [Ångströms]')\n",
    "    plt.ylabel('Flux [erg/cm²/s/Å]')\n",
    "    plt.title(title+' ; '+hdul[2].data['CLASS'][0]+' '+hdul[2].data['SUBCLASS'][0])\n",
    "    if save==True:\n",
    "        if g==False:\n",
    "            folderout='bad/'\n",
    "        else:\n",
    "            if c!='STAR CV':\n",
    "                folderout='other/'\n",
    "            else:\n",
    "                folderout='spec/'\n",
    "        plt.savefig(folderout+'spec-'+str(plate).zfill(4)+'-'+str(mjd)+'-'+str(fiber).zfill(4)+'.png', facecolor='white', edgecolor='none')\n",
    "    else:\n",
    "        plt.show()\n",
    "\n",
    "def plotspec_ob(object, save=False):\n",
    "    p=object['plate']\n",
    "    m=object['mjd']\n",
    "    f=object['fiberID']\n",
    "    t=object['Name']\n",
    "    g=object['good']\n",
    "    c=str(object['class'])+' '+str(object['subclass'])\n",
    "    print(t+' ; '+str(p)+'-'+str(m)+'-'+str(f))\n",
    "    plotspec(p, m, f, 'cbdata_w_spec/', t+' ; '+str(p)+'-'+str(m)+'-'+str(f), g, c, save)\n"
   ]
  },
  {
   "cell_type": "code",
   "execution_count": 12,
   "metadata": {},
   "outputs": [],
   "source": [
    "# Just out of curiosity\n",
    "def plotspecmask(plate, mjd, fiber, direc, title, save=False):\n",
    "    filename = 'spec-'+str(plate).zfill(4)+'-'+str(mjd)+'-'+str(fiber).zfill(4)+'.fits'\n",
    "    hdul = fits.open(direc+filename)\n",
    "    andmk = hdul[1].data['and_mask']\n",
    "    loglam = hdul[1].data['loglam']\n",
    "    wave = 10 ** loglam\n",
    "\n",
    "    plt.figure(figsize=(16,4))\n",
    "    plt.plot(wave, andmk)\n",
    "    plt.xlabel('Wavelength [Ångströms]')\n",
    "    plt.ylabel('Mask')\n",
    "    plt.title(title+' ; '+hdul[2].data['CLASS'][0]+' '+hdul[2].data['SUBCLASS'][0])\n",
    "    plt.show()\n",
    "\n",
    "def plotspec_obmask(object, save=False):\n",
    "    p=object['plate']\n",
    "    m=object['mjd']\n",
    "    f=object['fiberID']\n",
    "    t=object['Name']\n",
    "    print(t+' ; '+str(p)+'-'+str(m)+'-'+str(f))\n",
    "    plotspecmask(p, m, f, 'cbdata_w_spec/', t+' ; '+str(p)+'-'+str(m)+'-'+str(f), save)\n"
   ]
  },
  {
   "cell_type": "code",
   "execution_count": null,
   "metadata": {},
   "outputs": [],
   "source": [
    "# Plot (and save) spectrum loop\n",
    "for l in range(len(RKcat_cb_spec_class)):\n",
    "    plotspec_ob(RKcat_cb_spec_class[l], save=True)\n"
   ]
  },
  {
   "cell_type": "code",
   "execution_count": 17,
   "metadata": {},
   "outputs": [
    {
     "name": "stdout",
     "output_type": "stream",
     "text": [
      "J0043-0037 ; 1085-52531-175\n"
     ]
    },
    {
     "name": "stderr",
     "output_type": "stream",
     "text": [
      "WARNING: 40 bin(s) contained negative flux or throughput; it/they will be set to zero.\n",
      "  points: [3845.9182 5578.2764 7316.4434 8639.729  8651.67   8721.676  8753.867\n",
      " 8767.988  8786.178  8792.247  8832.833  8887.919  8889.964  8892.009\n",
      " 8900.204  8902.256  8904.304  8910.456  8926.887  8939.226  8943.344\n",
      " 8951.586  8953.6455 8957.7705 8963.964  8968.089  8972.221  8988.766\n",
      " 8992.907  8994.976  9042.739  9044.819  9084.48   9097.037  9101.229\n",
      " 9109.616  9151.661  9157.988  9160.096  9185.439 ]\n",
      "  lookup_table: [-3.25668648e-06 -1.94963338e-05 -8.72763549e-07 -3.81171093e-06\n",
      " -2.64513537e-06 -3.06165375e-06 -3.60491129e-07 -3.92126980e-06\n",
      " -1.63856818e-06 -2.47586588e-06 -4.13931448e-06 -9.23577247e-07\n",
      " -3.50127021e-06 -1.98364370e-06 -1.20365936e-06 -2.67000725e-06\n",
      " -5.33019978e-06 -2.27960268e-07 -8.19904070e-07 -1.39385261e-06\n",
      " -6.28006214e-06 -7.12697463e-07 -3.61821034e-06 -6.19155658e-06\n",
      " -1.40635169e-05 -4.35480933e-06 -9.55982386e-06 -7.83519543e-06\n",
      " -1.43106561e-05 -2.34553988e-07 -3.09284670e-07 -4.19990455e-07\n",
      " -1.46300820e-06 -1.65641419e-06 -6.01578919e-06 -4.04328876e-07\n",
      " -8.47961441e-07 -2.65292464e-06 -3.65159664e-06 -4.12421941e-07] [synphot.models]\n"
     ]
    },
    {
     "data": {
      "image/png": "[encoded data removed]",
      "text/plain": [
       "<Figure size 1152x288 with 1 Axes>"
      ]
     },
     "metadata": {
      "needs_background": "light"
     },
     "output_type": "display_data"
    }
   ],
   "source": [
    "plotspec_ob(RKcat_cb_spec_class[269])\n"
   ]
  },
  {
   "cell_type": "code",
   "execution_count": 15,
   "metadata": {},
   "outputs": [],
   "source": [
    "#plotspec_obmask(RKcat_cb_spec_class[269])\n"
   ]
  }
 ],
 "metadata": {
  "interpreter": {
   "hash": "3df98a109a5cc23581108261c6c72118143224d8842a21ce60f5415bfb914c48"
  },
  "kernelspec": {
   "display_name": "Python 3.9.9 64-bit",
   "language": "python",
   "name": "python3"
  },
  "language_info": {
   "codemirror_mode": {
    "name": "ipython",
    "version": 3
   },
   "file_extension": ".py",
   "mimetype": "text/x-python",
   "name": "python",
   "nbconvert_exporter": "python",
   "pygments_lexer": "ipython3",
   "version": "3.9.10"
  },
  "orig_nbformat": 4
 },
 "nbformat": 4,
 "nbformat_minor": 2
}
