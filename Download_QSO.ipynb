{
 "cells": [
  {
   "cell_type": "code",
   "execution_count": 1,
   "metadata": {},
   "outputs": [],
   "source": [
    "from astroquery.vizier import Vizier\n",
    "from astroquery.sdss import SDSS\n",
    "import astropy.units as u\n",
    "from astropy import coordinates as coords\n",
    "from astropy.table import Table, hstack, vstack\n",
    "from astropy.io import fits\n",
    "import matplotlib.pyplot as plt\n",
    "import numpy as np\n",
    "from synphot import SourceSpectrum\n",
    "from synphot.models import Empirical1D\n",
    "from synphot import units\n",
    "import random\n",
    "import os.path\n",
    "from collections import Counter\n",
    "from specutils import Spectrum1D, SpectralRegion\n",
    "from specutils.analysis import snr_derived\n"
   ]
  },
  {
   "cell_type": "code",
   "execution_count": 344,
   "metadata": {},
   "outputs": [
    {
     "name": "stdout",
     "output_type": "stream",
     "text": [
      "{'VII/289': 'SDSS quasar catalog, sixteenth data release (DR16Q) (Lyke+, 2020)'}\n"
     ]
    }
   ],
   "source": [
    "# Search Vizier for latest SDSS quasar catalog 'DR16Q': (Lyke+, 2020)'\n",
    "catalog_list = Vizier.find_catalogs('DR16Q')\n",
    "print({k:v.description for k,v in catalog_list.items()})\n"
   ]
  },
  {
   "cell_type": "code",
   "execution_count": 345,
   "metadata": {},
   "outputs": [
    {
     "name": "stdout",
     "output_type": "stream",
     "text": [
      "TableList with 2 tables:\n",
      "\t'0:VII/289/dr16q' with 39 column(s) and 50 row(s) \n",
      "\t'1:VII/289/superset' with 12 column(s) and 50 row(s) \n"
     ]
    }
   ],
   "source": [
    "# Check index/name of quasar-only\n",
    "Vizier.ROW_LIMIT = 50\n",
    "catalogs = Vizier.get_catalogs(catalog_list.keys())\n",
    "print(catalogs)\n"
   ]
  },
  {
   "cell_type": "code",
   "execution_count": 346,
   "metadata": {},
   "outputs": [
    {
     "name": "stdout",
     "output_type": "stream",
     "text": [
      "750414\n"
     ]
    }
   ],
   "source": [
    "# Get 'SDSS quasar-only catalog (750414 rows)'\n",
    "Vizier.ROW_LIMIT = -1\n",
    "DR16Q = Vizier.get_catalogs('VII/289/dr16q')[0]\n",
    "print(len(DR16Q))\n"
   ]
  },
  {
   "cell_type": "code",
   "execution_count": 348,
   "metadata": {},
   "outputs": [],
   "source": [
    "DR16Q.write('tables/dr16q.ecsv')\n"
   ]
  },
  {
   "cell_type": "code",
   "execution_count": 350,
   "metadata": {},
   "outputs": [
    {
     "name": "stderr",
     "output_type": "stream",
     "text": [
      "WARNING: UnitsWarning: 'W/m2/Hz' contains multiple slashes, which is discouraged by the FITS standard [astropy.units.format.generic]\n"
     ]
    }
   ],
   "source": [
    "DR16Q=Table.read('tables/dr16q.ecsv')\n"
   ]
  },
  {
   "cell_type": "code",
   "execution_count": 347,
   "metadata": {},
   "outputs": [
    {
     "data": {
      "text/html": [
       "<div><i>Table length=2</i>\n",
       "<table id=\"table1739576922992\" class=\"table-striped table-bordered table-condensed\">\n",
       "<thead><tr><th>SDSS</th><th>RAJ2000</th><th>DEJ2000</th><th>Plate</th><th>_tab1_5</th><th>Fiber</th><th>Class</th><th>QSO</th><th>z</th><th>r_z</th><th>umag</th><th>gmag</th><th>rmag</th><th>imag</th><th>zmag</th><th>e_umag</th><th>e_gmag</th><th>e_rmag</th><th>e_imag</th><th>e_zmag</th><th>Extu</th><th>Extg</th><th>Extr</th><th>Exti</th><th>Extz</th><th>FFUV</th><th>FNUV</th><th>FY</th><th>FJ</th><th>FH</th><th>FK</th><th>FW1</th><th>fracW1</th><th>FW2</th><th>fracW2</th><th>_2RXS</th><th>Gaia</th><th>Sp</th><th>Simbad</th></tr></thead>\n",
       "<thead><tr><th></th><th>deg</th><th>deg</th><th></th><th></th><th></th><th></th><th></th><th></th><th></th><th>mag</th><th>mag</th><th>mag</th><th>mag</th><th>mag</th><th>mag</th><th>mag</th><th>mag</th><th>mag</th><th>mag</th><th>mag</th><th>mag</th><th>mag</th><th>mag</th><th>mag</th><th>3.63 uJy</th><th>3.63 uJy</th><th>W/m2/Hz</th><th>W/m2/Hz</th><th>W/m2/Hz</th><th>W/m2/Hz</th><th>309.05 nJy</th><th></th><th>167.66 nJy</th><th></th><th></th><th></th><th></th><th></th></tr></thead>\n",
       "<thead><tr><th>str18</th><th>float64</th><th>float64</th><th>int32</th><th>int32</th><th>int16</th><th>int16</th><th>uint8</th><th>float64</th><th>str9</th><th>float64</th><th>float64</th><th>float64</th><th>float64</th><th>float64</th><th>float64</th><th>float64</th><th>float64</th><th>float64</th><th>float64</th><th>float64</th><th>float64</th><th>float64</th><th>float64</th><th>float64</th><th>float64</th><th>float64</th><th>float64</th><th>float64</th><th>float64</th><th>float64</th><th>float64</th><th>float64</th><th>float64</th><th>float64</th><th>str16</th><th>int64</th><th>str2</th><th>str6</th></tr></thead>\n",
       "<tr><td>000000.15+353104.2</td><td>0.000629</td><td>35.517841</td><td>7750</td><td>58402</td><td>802</td><td>0</td><td>1</td><td>0.845435</td><td>PIPE</td><td>18.9640</td><td>18.6307</td><td>18.4295</td><td>18.4118</td><td>18.2555</td><td>0.024823</td><td>0.013814</td><td>0.017368</td><td>0.017177</td><td>0.028182</td><td>0.343751</td><td>0.267848</td><td>0.185296</td><td>0.137695</td><td>0.102420</td><td>4.1486</td><td>14.4419</td><td>--</td><td>--</td><td>--</td><td>--</td><td>1663.6</td><td>0.839185</td><td>4714.7</td><td>0.853671</td><td></td><td>2875546163053982464</td><td>Sp</td><td>Simbad</td></tr>\n",
       "<tr><td>000000.33+310325.3</td><td>0.001415</td><td>31.057048</td><td>7749</td><td>58073</td><td>660</td><td>0</td><td>1</td><td>2.035491</td><td>PIPE</td><td>22.0825</td><td>21.7871</td><td>21.5621</td><td>21.3595</td><td>20.9340</td><td>0.13819</td><td>0.046183</td><td>0.050452</td><td>0.060369</td><td>0.18578</td><td>0.198869</td><td>0.154957</td><td>0.107199</td><td>0.079660</td><td>0.059253</td><td>0.2793</td><td>0.1652</td><td>--</td><td>--</td><td>--</td><td>--</td><td>126.42</td><td>0.843524</td><td>267.47</td><td>0.855141</td><td></td><td>--</td><td>Sp</td><td>Simbad</td></tr>\n",
       "</table></div>"
      ],
      "text/plain": [
       "<Table length=2>\n",
       "       SDSS         RAJ2000    DEJ2000   ...         Gaia         Sp  Simbad\n",
       "                      deg        deg     ...                                \n",
       "      str18         float64    float64   ...        int64        str2  str6 \n",
       "------------------ ---------- ---------- ... ------------------- ---- ------\n",
       "000000.15+353104.2   0.000629  35.517841 ... 2875546163053982464   Sp Simbad\n",
       "000000.33+310325.3   0.001415  31.057048 ...                  --   Sp Simbad"
      ]
     },
     "execution_count": 347,
     "metadata": {},
     "output_type": "execute_result"
    }
   ],
   "source": [
    "# Example, _tab1_5 = MJD\n",
    "DR16Q[0:2]\n"
   ]
  },
  {
   "cell_type": "code",
   "execution_count": null,
   "metadata": {},
   "outputs": [],
   "source": [
    "# Pick 1000 random objects from the catalog\n",
    "DR16Q_1k = DR16Q[random.sample(range(len(DR16Q)), 1000)]\n"
   ]
  },
  {
   "cell_type": "code",
   "execution_count": 352,
   "metadata": {},
   "outputs": [],
   "source": [
    "DR16Q_1k.write('tables/dr16q_1k.ecsv')\n"
   ]
  },
  {
   "cell_type": "code",
   "execution_count": 2,
   "metadata": {},
   "outputs": [
    {
     "data": {
      "text/html": [
       "<div><i>Table length=1000</i>\n",
       "<table id=\"table2632239174368\" class=\"table-striped table-bordered table-condensed\">\n",
       "<thead><tr><th>SDSS</th><th>RAJ2000</th><th>DEJ2000</th><th>Plate</th><th>_tab1_5</th><th>Fiber</th><th>Class</th><th>QSO</th><th>z</th><th>r_z</th><th>umag</th><th>gmag</th><th>rmag</th><th>imag</th><th>zmag</th><th>e_umag</th><th>e_gmag</th><th>e_rmag</th><th>e_imag</th><th>e_zmag</th><th>Extu</th><th>Extg</th><th>Extr</th><th>Exti</th><th>Extz</th><th>FFUV</th><th>FNUV</th><th>FY</th><th>FJ</th><th>FH</th><th>FK</th><th>FW1</th><th>fracW1</th><th>FW2</th><th>fracW2</th><th>_2RXS</th><th>Gaia</th><th>Sp</th><th>Simbad</th></tr></thead>\n",
       "<thead><tr><th></th><th>deg</th><th>deg</th><th></th><th></th><th></th><th></th><th></th><th></th><th></th><th>mag</th><th>mag</th><th>mag</th><th>mag</th><th>mag</th><th>mag</th><th>mag</th><th>mag</th><th>mag</th><th>mag</th><th>mag</th><th>mag</th><th>mag</th><th>mag</th><th>mag</th><th>3.63 uJy</th><th>3.63 uJy</th><th>W / (Hz m2)</th><th>W / (Hz m2)</th><th>W / (Hz m2)</th><th>W / (Hz m2)</th><th>309.05 nJy</th><th></th><th>167.66 nJy</th><th></th><th></th><th></th><th></th><th></th></tr></thead>\n",
       "<thead><tr><th>str18</th><th>float64</th><th>float64</th><th>int32</th><th>int32</th><th>int16</th><th>int16</th><th>uint8</th><th>float64</th><th>str9</th><th>float64</th><th>float64</th><th>float64</th><th>float64</th><th>float64</th><th>float64</th><th>float64</th><th>float64</th><th>float64</th><th>float64</th><th>float64</th><th>float64</th><th>float64</th><th>float64</th><th>float64</th><th>float64</th><th>float64</th><th>float64</th><th>float64</th><th>float64</th><th>float64</th><th>float64</th><th>float64</th><th>float64</th><th>float64</th><th>str16</th><th>int64</th><th>str2</th><th>str6</th></tr></thead>\n",
       "<tr><td>011038.20-004750.2</td><td>17.659192</td><td>-0.797284</td><td>7875</td><td>56980</td><td>606</td><td>0</td><td>1</td><td>1.454324</td><td>PIPE</td><td>21.6054</td><td>21.4195</td><td>21.1258</td><td>20.7786</td><td>20.6651</td><td>0.10724</td><td>0.041826</td><td>0.043071</td><td>0.045918</td><td>0.11896</td><td>0.133143</td><td>0.103744</td><td>0.071770</td><td>0.053333</td><td>0.039670</td><td>0.1217</td><td>0.9385</td><td>1.516e-31</td><td>2.3558e-31</td><td>3.0187e-31</td><td>3.249e-31</td><td>133.49</td><td>0.848283</td><td>533.37</td><td>0.891650</td><td>--</td><td>2532986787069382144</td><td>Sp</td><td>Simbad</td></tr>\n",
       "<tr><td>074325.64+325500.5</td><td>115.856870</td><td>32.916821</td><td>9365</td><td>57749</td><td>385</td><td>3</td><td>1</td><td>1.085000</td><td>VI</td><td>22.4927</td><td>22.2074</td><td>21.6756</td><td>21.6030</td><td>21.0151</td><td>0.19685</td><td>0.064317</td><td>0.058972</td><td>0.070352</td><td>0.14409</td><td>0.180757</td><td>0.140845</td><td>0.097436</td><td>0.072405</td><td>0.053856</td><td>0.2427</td><td>0.3749</td><td>--</td><td>--</td><td>--</td><td>--</td><td>242.8</td><td>0.846516</td><td>415.84</td><td>0.853221</td><td>--</td><td>--</td><td>Sp</td><td>Simbad</td></tr>\n",
       "<tr><td>144300.02+551002.3</td><td>220.750085</td><td>55.167310</td><td>6711</td><td>56388</td><td>716</td><td>3</td><td>1</td><td>2.293000</td><td>VI</td><td>22.1664</td><td>21.3038</td><td>21.1089</td><td>21.2856</td><td>20.9127</td><td>0.16168</td><td>0.043441</td><td>0.055145</td><td>0.10665</td><td>0.25181</td><td>0.066725</td><td>0.051991</td><td>0.035967</td><td>0.026728</td><td>0.019880</td><td>-0.2282</td><td>0.1613</td><td>--</td><td>--</td><td>--</td><td>--</td><td>67.5</td><td>0.848067</td><td>287.2</td><td>0.857085</td><td>--</td><td>--</td><td>Sp</td><td>Simbad</td></tr>\n",
       "<tr><td>001506.86+021047.6</td><td>3.778608</td><td>2.179915</td><td>7853</td><td>56988</td><td>898</td><td>0</td><td>1</td><td>1.238905</td><td>PIPE</td><td>20.0844</td><td>20.2391</td><td>19.8392</td><td>19.8148</td><td>19.8975</td><td>0.041342</td><td>0.024518</td><td>0.02335</td><td>0.025087</td><td>0.071048</td><td>0.129162</td><td>0.100642</td><td>0.069624</td><td>0.051738</td><td>0.038483</td><td>0.7273</td><td>4.8683</td><td>4.3129e-31</td><td>4.8232e-31</td><td>7.6595e-31</td><td>6.8314e-31</td><td>784.36</td><td>0.928406</td><td>2392.3</td><td>0.937647</td><td>--</td><td>2548232546580924672</td><td>Sp</td><td>Simbad</td></tr>\n",
       "<tr><td>231212.46+312253.4</td><td>348.051944</td><td>31.381527</td><td>7764</td><td>58042</td><td>69</td><td>0</td><td>1</td><td>1.352666</td><td>PIPE</td><td>20.3849</td><td>20.3479</td><td>19.7603</td><td>19.6188</td><td>19.5765</td><td>0.046156</td><td>0.018157</td><td>0.0178</td><td>0.025056</td><td>0.068251</td><td>0.319405</td><td>0.248878</td><td>0.172173</td><td>0.127943</td><td>0.095166</td><td>1.2545</td><td>3.0857</td><td>--</td><td>--</td><td>--</td><td>--</td><td>264.82</td><td>0.882234</td><td>909.13</td><td>0.895280</td><td>--</td><td>1909842871291273984</td><td>Sp</td><td>Simbad</td></tr>\n",
       "<tr><td>125650.85+574700.1</td><td>194.211891</td><td>57.783376</td><td>8213</td><td>58487</td><td>292</td><td>0</td><td>1</td><td>0.540363</td><td>PIPE</td><td>21.6130</td><td>21.3419</td><td>21.0642</td><td>20.5918</td><td>20.2888</td><td>0.12798</td><td>0.047145</td><td>0.047549</td><td>0.047931</td><td>0.11926</td><td>0.052457</td><td>0.040874</td><td>0.028277</td><td>0.021013</td><td>0.015630</td><td>2.4283</td><td>2.7247</td><td>--</td><td>--</td><td>--</td><td>--</td><td>369.59</td><td>0.924773</td><td>706.22</td><td>0.921861</td><td>--</td><td>--</td><td>Sp</td><td>Simbad</td></tr>\n",
       "<tr><td>102816.32+302945.9</td><td>157.068004</td><td>30.496086</td><td>11383</td><td>58485</td><td>387</td><td>0</td><td>1</td><td>1.612184</td><td>PIPE</td><td>21.6755</td><td>21.5629</td><td>21.6922</td><td>21.7425</td><td>21.5773</td><td>0.13466</td><td>0.063853</td><td>0.086073</td><td>0.21935</td><td>0.38832</td><td>0.075934</td><td>0.059167</td><td>0.040932</td><td>0.030417</td><td>0.022624</td><td>1.2347</td><td>1.7088</td><td>--</td><td>--</td><td>--</td><td>--</td><td>111.06</td><td>0.843342</td><td>345.3</td><td>0.854877</td><td>--</td><td>--</td><td>Sp</td><td>Simbad</td></tr>\n",
       "<tr><td>141907.66+350900.1</td><td>214.781948</td><td>35.150050</td><td>3859</td><td>55246</td><td>356</td><td>3</td><td>1</td><td>1.436000</td><td>VI</td><td>20.6336</td><td>20.2456</td><td>19.6718</td><td>19.3594</td><td>19.2067</td><td>0.052708</td><td>0.022351</td><td>0.018836</td><td>0.020635</td><td>0.054709</td><td>0.070443</td><td>0.054888</td><td>0.037972</td><td>0.028217</td><td>0.020988</td><td>0.1579</td><td>0.9151</td><td>--</td><td>--</td><td>--</td><td>--</td><td>502.97</td><td>0.927103</td><td>1452.9</td><td>0.936341</td><td>--</td><td>1480660322842263424</td><td>Sp</td><td>Simbad</td></tr>\n",
       "<tr><td>222452.89+081621.2</td><td>336.220402</td><td>8.272581</td><td>5069</td><td>56211</td><td>966</td><td>3</td><td>1</td><td>2.540000</td><td>VI</td><td>20.3856</td><td>19.7475</td><td>19.6501</td><td>19.6564</td><td>19.3652</td><td>0.054224</td><td>0.022999</td><td>0.021798</td><td>0.025558</td><td>0.064192</td><td>0.433263</td><td>0.337595</td><td>0.233547</td><td>0.173550</td><td>0.129090</td><td>0.1306</td><td>0.4609</td><td>--</td><td>--</td><td>--</td><td>--</td><td>209.77</td><td>0.846098</td><td>579.27</td><td>0.890608</td><td>--</td><td>2710599249721097344</td><td>Sp</td><td>Simbad</td></tr>\n",
       "<tr><td>...</td><td>...</td><td>...</td><td>...</td><td>...</td><td>...</td><td>...</td><td>...</td><td>...</td><td>...</td><td>...</td><td>...</td><td>...</td><td>...</td><td>...</td><td>...</td><td>...</td><td>...</td><td>...</td><td>...</td><td>...</td><td>...</td><td>...</td><td>...</td><td>...</td><td>...</td><td>...</td><td>...</td><td>...</td><td>...</td><td>...</td><td>...</td><td>...</td><td>...</td><td>...</td><td>...</td><td>...</td><td>...</td><td>...</td></tr>\n",
       "<tr><td>160838.30+205806.0</td><td>242.159610</td><td>20.968342</td><td>3924</td><td>55332</td><td>792</td><td>3</td><td>1</td><td>2.390000</td><td>VI</td><td>22.2292</td><td>21.2717</td><td>21.5198</td><td>21.4463</td><td>20.7589</td><td>0.19189</td><td>0.036764</td><td>0.060575</td><td>0.081147</td><td>0.18222</td><td>0.343229</td><td>0.267441</td><td>0.185015</td><td>0.137486</td><td>0.102264</td><td>-0.2797</td><td>-0.0669</td><td>--</td><td>--</td><td>--</td><td>--</td><td>47.531</td><td>0.845212</td><td>84.963</td><td>0.853574</td><td>--</td><td>1204958370588833152</td><td>Sp</td><td>Simbad</td></tr>\n",
       "<tr><td>140601.80+110038.6</td><td>211.507534</td><td>11.010734</td><td>5450</td><td>55986</td><td>874</td><td>3</td><td>1</td><td>0.630000</td><td>VI</td><td>21.4353</td><td>20.4891</td><td>20.0142</td><td>19.5317</td><td>19.5129</td><td>0.10585</td><td>0.026117</td><td>0.022628</td><td>0.024026</td><td>0.066577</td><td>0.101444</td><td>0.079045</td><td>0.054683</td><td>0.040635</td><td>0.030225</td><td>0.2529</td><td>1.0833</td><td>6.7548e-31</td><td>6.7051e-31</td><td>1.0189e-30</td><td>1.5019e-30</td><td>1011.4</td><td>0.939280</td><td>2296</td><td>0.945967</td><td>--</td><td>3724178374428508800</td><td>Sp</td><td>Simbad</td></tr>\n",
       "<tr><td>163159.73+335113.1</td><td>247.998913</td><td>33.853662</td><td>5188</td><td>55803</td><td>390</td><td>3</td><td>1</td><td>2.980000</td><td>VI</td><td>24.3971</td><td>21.8542</td><td>21.5401</td><td>21.7099</td><td>21.4318</td><td>0.5711</td><td>0.057083</td><td>0.051388</td><td>0.092608</td><td>0.28878</td><td>0.088908</td><td>0.069276</td><td>0.047925</td><td>0.035613</td><td>0.026490</td><td>-0.3590</td><td>0.6857</td><td>--</td><td>--</td><td>--</td><td>--</td><td>55.737</td><td>0.844748</td><td>65.88</td><td>0.852809</td><td>--</td><td>--</td><td>Sp</td><td>Simbad</td></tr>\n",
       "<tr><td>160000.50+454047.5</td><td>240.002097</td><td>45.679872</td><td>8506</td><td>57893</td><td>220</td><td>0</td><td>1</td><td>1.309353</td><td>PIPE</td><td>22.0135</td><td>21.7515</td><td>21.4679</td><td>21.5795</td><td>20.8184</td><td>0.22735</td><td>0.069741</td><td>0.07175</td><td>0.12541</td><td>0.18793</td><td>0.048713</td><td>0.037957</td><td>0.026259</td><td>0.019513</td><td>0.014514</td><td>0.0000</td><td>0.0000</td><td>--</td><td>--</td><td>--</td><td>--</td><td>94.896</td><td>0.845478</td><td>292.75</td><td>0.889735</td><td>--</td><td>--</td><td>Sp</td><td>Simbad</td></tr>\n",
       "<tr><td>012229.93+034640.9</td><td>20.624711</td><td>3.778032</td><td>8762</td><td>57693</td><td>422</td><td>0</td><td>1</td><td>0.753252</td><td>PIPE</td><td>22.2912</td><td>20.9585</td><td>20.4040</td><td>20.2432</td><td>19.8185</td><td>0.18152</td><td>0.042632</td><td>0.033584</td><td>0.04113</td><td>0.088642</td><td>0.132629</td><td>0.103344</td><td>0.071493</td><td>0.053127</td><td>0.039516</td><td>0.0704</td><td>0.5806</td><td>--</td><td>--</td><td>--</td><td>--</td><td>941.97</td><td>0.938479</td><td>2783.9</td><td>0.947592</td><td>--</td><td>2562756923384798336</td><td>Sp</td><td>Simbad</td></tr>\n",
       "<tr><td>233417.15+234749.8</td><td>353.571469</td><td>23.797175</td><td>6519</td><td>56566</td><td>762</td><td>3</td><td>1</td><td>2.138000</td><td>VI</td><td>20.7238</td><td>20.3023</td><td>20.1882</td><td>20.1151</td><td>19.8984</td><td>0.078609</td><td>0.026198</td><td>0.025554</td><td>0.034357</td><td>0.099783</td><td>0.283021</td><td>0.220528</td><td>0.152560</td><td>0.113369</td><td>0.084326</td><td>0.0315</td><td>-0.0823</td><td>--</td><td>--</td><td>--</td><td>--</td><td>162.05</td><td>0.848546</td><td>564.28</td><td>0.896217</td><td>--</td><td>2828116667404972544</td><td>Sp</td><td>Simbad</td></tr>\n",
       "<tr><td>111330.03+422145.9</td><td>168.375151</td><td>42.362771</td><td>8367</td><td>57429</td><td>718</td><td>0</td><td>1</td><td>1.096543</td><td>PIPE</td><td>20.2221</td><td>20.1188</td><td>19.9356</td><td>19.9753</td><td>19.9863</td><td>0.04438</td><td>0.032869</td><td>0.027115</td><td>0.028242</td><td>0.080515</td><td>0.062853</td><td>0.048974</td><td>0.033880</td><td>0.025177</td><td>0.018727</td><td>0.2686</td><td>10.0871</td><td>--</td><td>--</td><td>--</td><td>--</td><td>418.55</td><td>0.910030</td><td>1093.8</td><td>0.920668</td><td>--</td><td>777708561718804480</td><td>Sp</td><td>Simbad</td></tr>\n",
       "<tr><td>001259.34+044039.7</td><td>3.247273</td><td>4.677710</td><td>8745</td><td>57391</td><td>558</td><td>0</td><td>1</td><td>1.371022</td><td>PIPE</td><td>20.6285</td><td>20.7014</td><td>20.4025</td><td>20.1729</td><td>20.2121</td><td>0.079597</td><td>0.033772</td><td>0.032263</td><td>0.037525</td><td>0.15699</td><td>0.094037</td><td>0.073273</td><td>0.050690</td><td>0.037668</td><td>0.028018</td><td>0.5370</td><td>0.9230</td><td>3.1814e-31</td><td>3.8788e-31</td><td>4.1991e-31</td><td>5.109e-31</td><td>317.43</td><td>0.883450</td><td>1160.3</td><td>0.918824</td><td>--</td><td>2741359427537140864</td><td>Sp</td><td>Simbad</td></tr>\n",
       "<tr><td>142016.78+422246.7</td><td>215.069941</td><td>42.379664</td><td>8504</td><td>57518</td><td>871</td><td>3</td><td>1</td><td>0.797000</td><td>VI</td><td>22.4498</td><td>21.9124</td><td>21.6639</td><td>21.5374</td><td>21.2625</td><td>0.19189</td><td>0.055765</td><td>0.060027</td><td>0.079433</td><td>0.23165</td><td>0.049589</td><td>0.038640</td><td>0.026731</td><td>0.019864</td><td>0.014775</td><td>-0.2323</td><td>0.7090</td><td>--</td><td>--</td><td>--</td><td>--</td><td>100.11</td><td>0.843825</td><td>131.22</td><td>0.857223</td><td>--</td><td>--</td><td>Sp</td><td>Simbad</td></tr>\n",
       "<tr><td>135244.57+463438.8</td><td>208.185720</td><td>46.577455</td><td>7428</td><td>56781</td><td>729</td><td>3</td><td>1</td><td>1.649000</td><td>VI</td><td>22.1786</td><td>21.9483</td><td>22.0205</td><td>21.6925</td><td>21.4764</td><td>0.15735</td><td>0.069863</td><td>0.088798</td><td>0.11299</td><td>0.35319</td><td>0.087797</td><td>0.068410</td><td>0.047326</td><td>0.035168</td><td>0.026159</td><td>-0.2691</td><td>1.0000</td><td>--</td><td>--</td><td>--</td><td>--</td><td>74.763</td><td>0.844095</td><td>141.65</td><td>0.858053</td><td>--</td><td>--</td><td>Sp</td><td>Simbad</td></tr>\n",
       "</table></div>"
      ],
      "text/plain": [
       "<Table length=1000>\n",
       "       SDSS         RAJ2000    DEJ2000   ...         Gaia         Sp  Simbad\n",
       "                      deg        deg     ...                                \n",
       "      str18         float64    float64   ...        int64        str2  str6 \n",
       "------------------ ---------- ---------- ... ------------------- ---- ------\n",
       "011038.20-004750.2  17.659192  -0.797284 ... 2532986787069382144   Sp Simbad\n",
       "074325.64+325500.5 115.856870  32.916821 ...                  --   Sp Simbad\n",
       "144300.02+551002.3 220.750085  55.167310 ...                  --   Sp Simbad\n",
       "001506.86+021047.6   3.778608   2.179915 ... 2548232546580924672   Sp Simbad\n",
       "231212.46+312253.4 348.051944  31.381527 ... 1909842871291273984   Sp Simbad\n",
       "125650.85+574700.1 194.211891  57.783376 ...                  --   Sp Simbad\n",
       "102816.32+302945.9 157.068004  30.496086 ...                  --   Sp Simbad\n",
       "141907.66+350900.1 214.781948  35.150050 ... 1480660322842263424   Sp Simbad\n",
       "222452.89+081621.2 336.220402   8.272581 ... 2710599249721097344   Sp Simbad\n",
       "               ...        ...        ... ...                 ...  ...    ...\n",
       "160838.30+205806.0 242.159610  20.968342 ... 1204958370588833152   Sp Simbad\n",
       "140601.80+110038.6 211.507534  11.010734 ... 3724178374428508800   Sp Simbad\n",
       "163159.73+335113.1 247.998913  33.853662 ...                  --   Sp Simbad\n",
       "160000.50+454047.5 240.002097  45.679872 ...                  --   Sp Simbad\n",
       "012229.93+034640.9  20.624711   3.778032 ... 2562756923384798336   Sp Simbad\n",
       "233417.15+234749.8 353.571469  23.797175 ... 2828116667404972544   Sp Simbad\n",
       "111330.03+422145.9 168.375151  42.362771 ...  777708561718804480   Sp Simbad\n",
       "001259.34+044039.7   3.247273   4.677710 ... 2741359427537140864   Sp Simbad\n",
       "142016.78+422246.7 215.069941  42.379664 ...                  --   Sp Simbad\n",
       "135244.57+463438.8 208.185720  46.577455 ...                  --   Sp Simbad"
      ]
     },
     "execution_count": 2,
     "metadata": {},
     "output_type": "execute_result"
    }
   ],
   "source": [
    "DR16Q_1k=Table.read('tables/dr16q_1k.ecsv')\n",
    "DR16Q_1k\n"
   ]
  },
  {
   "cell_type": "code",
   "execution_count": 20,
   "metadata": {},
   "outputs": [
    {
     "name": "stderr",
     "output_type": "stream",
     "text": [
      "C:\\Users\\AntonioOrtega\\AppData\\Local\\Programs\\Python\\Python39\\lib\\site-packages\\astroquery\\sdss\\core.py:867: VisibleDeprecationWarning: Reading unicode strings without specifying the encoding argument is deprecated. Set the encoding, use None for the system default.\n",
      "  arr = np.atleast_1d(np.genfromtxt(io.BytesIO(response.content),\n",
      "WARNING: NoResultsWarning: Query returned no results. [astroquery.sdss.core]\n"
     ]
    }
   ],
   "source": [
    "# Download QSO spectrum files:\n",
    "import os.path\n",
    "error = []\n",
    "for l in range(len(DR16Q_1k)):\n",
    "        plate = DR16Q_1k[l]['Plate']\n",
    "        mjd = DR16Q_1k[l]['_tab1_5']\n",
    "        fiber = DR16Q_1k[l]['Fiber']\n",
    "        filename = 'spec-'+str(plate).zfill(4)+'-'+str(mjd)+'-'+str(fiber).zfill(4)+'.fits'\n",
    "        if not os.path.exists('SDSSspec/'+filename):\n",
    "            try:\n",
    "                spec = SDSS.get_spectra(plate=plate, mjd=mjd, fiberID=fiber, data_release=17)\n",
    "                spec[0].writeto('SDSSspec/'+filename)\n",
    "            except:\n",
    "                csv_row = str(plate).zfill(4)+', '+str(mjd)+', '+str(fiber).zfill(4)\n",
    "                error.append(csv_row)\n",
    "\n",
    "with open('SDSSspec/error.txt', 'w') as f:\n",
    "    for element in error:\n",
    "        f.write(element + \"\\n\")\n"
   ]
  },
  {
   "cell_type": "code",
   "execution_count": 29,
   "metadata": {},
   "outputs": [],
   "source": [
    "# Download Error because of internal query. Direct HTTP download\n",
    "# SELECT DISTINCT s.run2d, s.plate, s.mjd, s.fiberID FROM PhotoObjAll AS p JOIN SpecObjAll s ON p.objID = s.bestObjID \n",
    "# WHERE (s.plate= AND s.mjd= AND s.fiberid=)'\n",
    "p, m, f = 1435, 52996, 426\n",
    "\n",
    "from astroquery.utils import commons as acomm\n",
    "filename = 'spec-'+str(p).zfill(4)+'-'+str(m)+'-'+str(f).zfill(4)+'.fits'\n",
    "query = \"SELECT run2d FROM SpecObjAll WHERE plate=\"+str(p)+\" AND mjd=\"+str(m)+\" AND fiberid=\"+str(f)\n",
    "res = SDSS.query_sql(query, data_release=17)\n",
    "r2d = res[0]['run2d']\n",
    "link = 'https://data.sdss.org/sas/dr17/sdss/spectro/redux/'+str(r2d)+'/spectra/'+str(p).zfill(4)+'/'+filename\n",
    "spec = acomm.FileContainer(link,encoding='binary',remote_timeout=60,show_progress=True).get_fits()\n",
    "spec.writeto('SDSSspec/'+filename)\n"
   ]
  },
  {
   "cell_type": "code",
   "execution_count": 4,
   "metadata": {},
   "outputs": [
    {
     "name": "stderr",
     "output_type": "stream",
     "text": [
      "WARNING: UnitsWarning: '1E-17 erg/cm^2/s/Angstrom' contains multiple slashes, which is discouraged by the FITS standard [astropy.units.format.generic]\n"
     ]
    }
   ],
   "source": [
    "# Joint table, with class and subclass, and snr\n",
    "DR16Q_1k_class = Table()\n",
    "obtyp = Table(names=('class', 'subclass', 'sppixmask', 'zwarning', 'good', 'snr'), dtype=('S10', 'S10', 'S100', 'S100', 'bool', 'f8'))\n",
    "for i in range(len(DR16Q_1k)):\n",
    "    bitset_m = set()\n",
    "    bitset_z = set()\n",
    "    p = DR16Q_1k[i]['Plate']\n",
    "    m = DR16Q_1k[i]['_tab1_5']\n",
    "    f = DR16Q_1k[i]['Fiber']\n",
    "    filename = 'spec-'+str(p).zfill(4)+'-'+str(m)+'-'+str(f).zfill(4)+'.fits'\n",
    "    spec1d = Spectrum1D.read('dr16q_1k/'+filename)\n",
    "    snrval = snr_derived(spec1d, SpectralRegion(4000*u.AA, 9000*u.AA))\n",
    "    hdul = fits.open('dr16q_1k/'+filename)\n",
    "    andmk = hdul[1].data['and_mask']\n",
    "    zwarn = hdul[2].data['ZWARNING']\n",
    "    counter = 0\n",
    "    for v in range(len(zwarn)):\n",
    "        bits = [bit for bit in range(0, 32) if (zwarn[v] & 1 << bit) > 0]\n",
    "        if bits!=[]:\n",
    "            bitset_z.update(bits)\n",
    "    for v in range(len(andmk)):\n",
    "        bits = [bit for bit in range(0, 32) if (andmk[v] & 1 << bit) > 0]\n",
    "        if bits!=[]:\n",
    "            if bits!=[]: counter=counter+1\n",
    "            bitset_m.update(bits)\n",
    "    badpct = counter/len(andmk)\n",
    "    goodfl = True\n",
    "    if badpct>0.1:\n",
    "        goodfl = False\n",
    "    obtyp.add_row((hdul[2].data['CLASS'][0], hdul[2].data['SUBCLASS'][0], str(bitset_m), str(bitset_z), goodfl, snrval))\n",
    "DR16Q_1k_class = hstack([DR16Q_1k, obtyp])\n"
   ]
  },
  {
   "cell_type": "code",
   "execution_count": 5,
   "metadata": {},
   "outputs": [],
   "source": [
    "DR16Q_1k_class.write('tables/dr16q_1k_class.ecsv', overwrite=True)\n"
   ]
  },
  {
   "cell_type": "code",
   "execution_count": 6,
   "metadata": {},
   "outputs": [
    {
     "data": {
      "text/html": [
       "<div><i>Table length=1000</i>\n",
       "<table id=\"table2632255587808\" class=\"table-striped table-bordered table-condensed\">\n",
       "<thead><tr><th>SDSS</th><th>RAJ2000</th><th>DEJ2000</th><th>Plate</th><th>_tab1_5</th><th>Fiber</th><th>Class</th><th>QSO</th><th>z</th><th>r_z</th><th>umag</th><th>gmag</th><th>rmag</th><th>imag</th><th>zmag</th><th>e_umag</th><th>e_gmag</th><th>e_rmag</th><th>e_imag</th><th>e_zmag</th><th>Extu</th><th>Extg</th><th>Extr</th><th>Exti</th><th>Extz</th><th>FFUV</th><th>FNUV</th><th>FY</th><th>FJ</th><th>FH</th><th>FK</th><th>FW1</th><th>fracW1</th><th>FW2</th><th>fracW2</th><th>_2RXS</th><th>Gaia</th><th>Sp</th><th>Simbad</th><th>class</th><th>subclass</th><th>sppixmask</th><th>zwarning</th><th>good</th><th>snr</th></tr></thead>\n",
       "<thead><tr><th></th><th>deg</th><th>deg</th><th></th><th></th><th></th><th></th><th></th><th></th><th></th><th>mag</th><th>mag</th><th>mag</th><th>mag</th><th>mag</th><th>mag</th><th>mag</th><th>mag</th><th>mag</th><th>mag</th><th>mag</th><th>mag</th><th>mag</th><th>mag</th><th>mag</th><th>3.63 uJy</th><th>3.63 uJy</th><th>W / (Hz m2)</th><th>W / (Hz m2)</th><th>W / (Hz m2)</th><th>W / (Hz m2)</th><th>309.05 nJy</th><th></th><th>167.66 nJy</th><th></th><th></th><th></th><th></th><th></th><th></th><th></th><th></th><th></th><th></th><th></th></tr></thead>\n",
       "<thead><tr><th>str18</th><th>float64</th><th>float64</th><th>int32</th><th>int32</th><th>int16</th><th>int16</th><th>uint8</th><th>float64</th><th>str9</th><th>float64</th><th>float64</th><th>float64</th><th>float64</th><th>float64</th><th>float64</th><th>float64</th><th>float64</th><th>float64</th><th>float64</th><th>float64</th><th>float64</th><th>float64</th><th>float64</th><th>float64</th><th>float64</th><th>float64</th><th>float64</th><th>float64</th><th>float64</th><th>float64</th><th>float64</th><th>float64</th><th>float64</th><th>float64</th><th>str16</th><th>int64</th><th>str2</th><th>str6</th><th>str6</th><th>str19</th><th>str28</th><th>str6</th><th>bool</th><th>float64</th></tr></thead>\n",
       "<tr><td>011038.20-004750.2</td><td>17.659192</td><td>-0.797284</td><td>7875</td><td>56980</td><td>606</td><td>0</td><td>1</td><td>1.454324</td><td>PIPE</td><td>21.6054</td><td>21.4195</td><td>21.1258</td><td>20.7786</td><td>20.6651</td><td>0.10724</td><td>0.041826</td><td>0.043071</td><td>0.045918</td><td>0.11896</td><td>0.133143</td><td>0.103744</td><td>0.071770</td><td>0.053333</td><td>0.039670</td><td>0.1217</td><td>0.9385</td><td>1.516e-31</td><td>2.3558e-31</td><td>3.0187e-31</td><td>3.249e-31</td><td>133.49</td><td>0.848283</td><td>533.37</td><td>0.891650</td><td>--</td><td>2532986787069382144</td><td>Sp</td><td>Simbad</td><td>QSO</td><td>BROADLINE</td><td>{27, 23}</td><td>set()</td><td>True</td><td>3.5506450787574013</td></tr>\n",
       "<tr><td>074325.64+325500.5</td><td>115.856870</td><td>32.916821</td><td>9365</td><td>57749</td><td>385</td><td>3</td><td>1</td><td>1.085000</td><td>VI</td><td>22.4927</td><td>22.2074</td><td>21.6756</td><td>21.6030</td><td>21.0151</td><td>0.19685</td><td>0.064317</td><td>0.058972</td><td>0.070352</td><td>0.14409</td><td>0.180757</td><td>0.140845</td><td>0.097436</td><td>0.072405</td><td>0.053856</td><td>0.2427</td><td>0.3749</td><td>--</td><td>--</td><td>--</td><td>--</td><td>242.8</td><td>0.846516</td><td>415.84</td><td>0.853221</td><td>--</td><td>--</td><td>Sp</td><td>Simbad</td><td>QSO</td><td>--</td><td>{23}</td><td>{2}</td><td>True</td><td>1.1169608473719579</td></tr>\n",
       "<tr><td>144300.02+551002.3</td><td>220.750085</td><td>55.167310</td><td>6711</td><td>56388</td><td>716</td><td>3</td><td>1</td><td>2.293000</td><td>VI</td><td>22.1664</td><td>21.3038</td><td>21.1089</td><td>21.2856</td><td>20.9127</td><td>0.16168</td><td>0.043441</td><td>0.055145</td><td>0.10665</td><td>0.25181</td><td>0.066725</td><td>0.051991</td><td>0.035967</td><td>0.026728</td><td>0.019880</td><td>-0.2282</td><td>0.1613</td><td>--</td><td>--</td><td>--</td><td>--</td><td>67.5</td><td>0.848067</td><td>287.2</td><td>0.857085</td><td>--</td><td>--</td><td>Sp</td><td>Simbad</td><td>QSO</td><td>BROADLINE</td><td>{16, 19, 23}</td><td>set()</td><td>True</td><td>3.9312597494296577</td></tr>\n",
       "<tr><td>001506.86+021047.6</td><td>3.778608</td><td>2.179915</td><td>7853</td><td>56988</td><td>898</td><td>0</td><td>1</td><td>1.238905</td><td>PIPE</td><td>20.0844</td><td>20.2391</td><td>19.8392</td><td>19.8148</td><td>19.8975</td><td>0.041342</td><td>0.024518</td><td>0.02335</td><td>0.025087</td><td>0.071048</td><td>0.129162</td><td>0.100642</td><td>0.069624</td><td>0.051738</td><td>0.038483</td><td>0.7273</td><td>4.8683</td><td>4.3129e-31</td><td>4.8232e-31</td><td>7.6595e-31</td><td>6.8314e-31</td><td>784.36</td><td>0.928406</td><td>2392.3</td><td>0.937647</td><td>--</td><td>2548232546580924672</td><td>Sp</td><td>Simbad</td><td>QSO</td><td>BROADLINE</td><td>{27, 23}</td><td>set()</td><td>True</td><td>9.415525186909598</td></tr>\n",
       "<tr><td>231212.46+312253.4</td><td>348.051944</td><td>31.381527</td><td>7764</td><td>58042</td><td>69</td><td>0</td><td>1</td><td>1.352666</td><td>PIPE</td><td>20.3849</td><td>20.3479</td><td>19.7603</td><td>19.6188</td><td>19.5765</td><td>0.046156</td><td>0.018157</td><td>0.0178</td><td>0.025056</td><td>0.068251</td><td>0.319405</td><td>0.248878</td><td>0.172173</td><td>0.127943</td><td>0.095166</td><td>1.2545</td><td>3.0857</td><td>--</td><td>--</td><td>--</td><td>--</td><td>264.82</td><td>0.882234</td><td>909.13</td><td>0.895280</td><td>--</td><td>1909842871291273984</td><td>Sp</td><td>Simbad</td><td>QSO</td><td>BROADLINE</td><td>{18, 23}</td><td>set()</td><td>True</td><td>10.432438984992652</td></tr>\n",
       "<tr><td>125650.85+574700.1</td><td>194.211891</td><td>57.783376</td><td>8213</td><td>58487</td><td>292</td><td>0</td><td>1</td><td>0.540363</td><td>PIPE</td><td>21.6130</td><td>21.3419</td><td>21.0642</td><td>20.5918</td><td>20.2888</td><td>0.12798</td><td>0.047145</td><td>0.047549</td><td>0.047931</td><td>0.11926</td><td>0.052457</td><td>0.040874</td><td>0.028277</td><td>0.021013</td><td>0.015630</td><td>2.4283</td><td>2.7247</td><td>--</td><td>--</td><td>--</td><td>--</td><td>369.59</td><td>0.924773</td><td>706.22</td><td>0.921861</td><td>--</td><td>--</td><td>Sp</td><td>Simbad</td><td>QSO</td><td>--</td><td>{23}</td><td>set()</td><td>True</td><td>2.8094791557669834</td></tr>\n",
       "<tr><td>102816.32+302945.9</td><td>157.068004</td><td>30.496086</td><td>11383</td><td>58485</td><td>387</td><td>0</td><td>1</td><td>1.612184</td><td>PIPE</td><td>21.6755</td><td>21.5629</td><td>21.6922</td><td>21.7425</td><td>21.5773</td><td>0.13466</td><td>0.063853</td><td>0.086073</td><td>0.21935</td><td>0.38832</td><td>0.075934</td><td>0.059167</td><td>0.040932</td><td>0.030417</td><td>0.022624</td><td>1.2347</td><td>1.7088</td><td>--</td><td>--</td><td>--</td><td>--</td><td>111.06</td><td>0.843342</td><td>345.3</td><td>0.854877</td><td>--</td><td>--</td><td>Sp</td><td>Simbad</td><td>QSO</td><td>--</td><td>{23}</td><td>set()</td><td>True</td><td>1.6567472481501833</td></tr>\n",
       "<tr><td>141907.66+350900.1</td><td>214.781948</td><td>35.150050</td><td>3859</td><td>55246</td><td>356</td><td>3</td><td>1</td><td>1.436000</td><td>VI</td><td>20.6336</td><td>20.2456</td><td>19.6718</td><td>19.3594</td><td>19.2067</td><td>0.052708</td><td>0.022351</td><td>0.018836</td><td>0.020635</td><td>0.054709</td><td>0.070443</td><td>0.054888</td><td>0.037972</td><td>0.028217</td><td>0.020988</td><td>0.1579</td><td>0.9151</td><td>--</td><td>--</td><td>--</td><td>--</td><td>502.97</td><td>0.927103</td><td>1452.9</td><td>0.936341</td><td>--</td><td>1480660322842263424</td><td>Sp</td><td>Simbad</td><td>QSO</td><td>--</td><td>{23}</td><td>set()</td><td>True</td><td>11.524729690957919</td></tr>\n",
       "<tr><td>222452.89+081621.2</td><td>336.220402</td><td>8.272581</td><td>5069</td><td>56211</td><td>966</td><td>3</td><td>1</td><td>2.540000</td><td>VI</td><td>20.3856</td><td>19.7475</td><td>19.6501</td><td>19.6564</td><td>19.3652</td><td>0.054224</td><td>0.022999</td><td>0.021798</td><td>0.025558</td><td>0.064192</td><td>0.433263</td><td>0.337595</td><td>0.233547</td><td>0.173550</td><td>0.129090</td><td>0.1306</td><td>0.4609</td><td>--</td><td>--</td><td>--</td><td>--</td><td>209.77</td><td>0.846098</td><td>579.27</td><td>0.890608</td><td>--</td><td>2710599249721097344</td><td>Sp</td><td>Simbad</td><td>QSO</td><td>BROADLINE</td><td>{16, 27, 19, 23}</td><td>set()</td><td>True</td><td>7.254851393255419</td></tr>\n",
       "<tr><td>...</td><td>...</td><td>...</td><td>...</td><td>...</td><td>...</td><td>...</td><td>...</td><td>...</td><td>...</td><td>...</td><td>...</td><td>...</td><td>...</td><td>...</td><td>...</td><td>...</td><td>...</td><td>...</td><td>...</td><td>...</td><td>...</td><td>...</td><td>...</td><td>...</td><td>...</td><td>...</td><td>...</td><td>...</td><td>...</td><td>...</td><td>...</td><td>...</td><td>...</td><td>...</td><td>...</td><td>...</td><td>...</td><td>...</td><td>...</td><td>...</td><td>...</td><td>...</td><td>...</td><td>...</td></tr>\n",
       "<tr><td>160838.30+205806.0</td><td>242.159610</td><td>20.968342</td><td>3924</td><td>55332</td><td>792</td><td>3</td><td>1</td><td>2.390000</td><td>VI</td><td>22.2292</td><td>21.2717</td><td>21.5198</td><td>21.4463</td><td>20.7589</td><td>0.19189</td><td>0.036764</td><td>0.060575</td><td>0.081147</td><td>0.18222</td><td>0.343229</td><td>0.267441</td><td>0.185015</td><td>0.137486</td><td>0.102264</td><td>-0.2797</td><td>-0.0669</td><td>--</td><td>--</td><td>--</td><td>--</td><td>47.531</td><td>0.845212</td><td>84.963</td><td>0.853574</td><td>--</td><td>1204958370588833152</td><td>Sp</td><td>Simbad</td><td>QSO</td><td>BROADLINE</td><td>{23}</td><td>set()</td><td>True</td><td>2.0835626862177006</td></tr>\n",
       "<tr><td>140601.80+110038.6</td><td>211.507534</td><td>11.010734</td><td>5450</td><td>55986</td><td>874</td><td>3</td><td>1</td><td>0.630000</td><td>VI</td><td>21.4353</td><td>20.4891</td><td>20.0142</td><td>19.5317</td><td>19.5129</td><td>0.10585</td><td>0.026117</td><td>0.022628</td><td>0.024026</td><td>0.066577</td><td>0.101444</td><td>0.079045</td><td>0.054683</td><td>0.040635</td><td>0.030225</td><td>0.2529</td><td>1.0833</td><td>6.7548e-31</td><td>6.7051e-31</td><td>1.0189e-30</td><td>1.5019e-30</td><td>1011.4</td><td>0.939280</td><td>2296</td><td>0.945967</td><td>--</td><td>3724178374428508800</td><td>Sp</td><td>Simbad</td><td>QSO</td><td>BROADLINE</td><td>{16, 18, 19, 23}</td><td>set()</td><td>True</td><td>7.215752618494352</td></tr>\n",
       "<tr><td>163159.73+335113.1</td><td>247.998913</td><td>33.853662</td><td>5188</td><td>55803</td><td>390</td><td>3</td><td>1</td><td>2.980000</td><td>VI</td><td>24.3971</td><td>21.8542</td><td>21.5401</td><td>21.7099</td><td>21.4318</td><td>0.5711</td><td>0.057083</td><td>0.051388</td><td>0.092608</td><td>0.28878</td><td>0.088908</td><td>0.069276</td><td>0.047925</td><td>0.035613</td><td>0.026490</td><td>-0.3590</td><td>0.6857</td><td>--</td><td>--</td><td>--</td><td>--</td><td>55.737</td><td>0.844748</td><td>65.88</td><td>0.852809</td><td>--</td><td>--</td><td>Sp</td><td>Simbad</td><td>QSO</td><td>--</td><td>{18, 23}</td><td>set()</td><td>True</td><td>1.7001062078383926</td></tr>\n",
       "<tr><td>160000.50+454047.5</td><td>240.002097</td><td>45.679872</td><td>8506</td><td>57893</td><td>220</td><td>0</td><td>1</td><td>1.309353</td><td>PIPE</td><td>22.0135</td><td>21.7515</td><td>21.4679</td><td>21.5795</td><td>20.8184</td><td>0.22735</td><td>0.069741</td><td>0.07175</td><td>0.12541</td><td>0.18793</td><td>0.048713</td><td>0.037957</td><td>0.026259</td><td>0.019513</td><td>0.014514</td><td>0.0000</td><td>0.0000</td><td>--</td><td>--</td><td>--</td><td>--</td><td>94.896</td><td>0.845478</td><td>292.75</td><td>0.889735</td><td>--</td><td>--</td><td>Sp</td><td>Simbad</td><td>QSO</td><td>--</td><td>{23}</td><td>set()</td><td>True</td><td>1.8024588199675569</td></tr>\n",
       "<tr><td>012229.93+034640.9</td><td>20.624711</td><td>3.778032</td><td>8762</td><td>57693</td><td>422</td><td>0</td><td>1</td><td>0.753252</td><td>PIPE</td><td>22.2912</td><td>20.9585</td><td>20.4040</td><td>20.2432</td><td>19.8185</td><td>0.18152</td><td>0.042632</td><td>0.033584</td><td>0.04113</td><td>0.088642</td><td>0.132629</td><td>0.103344</td><td>0.071493</td><td>0.053127</td><td>0.039516</td><td>0.0704</td><td>0.5806</td><td>--</td><td>--</td><td>--</td><td>--</td><td>941.97</td><td>0.938479</td><td>2783.9</td><td>0.947592</td><td>--</td><td>2562756923384798336</td><td>Sp</td><td>Simbad</td><td>QSO</td><td>--</td><td>{23}</td><td>set()</td><td>True</td><td>1.9362664542776298</td></tr>\n",
       "<tr><td>233417.15+234749.8</td><td>353.571469</td><td>23.797175</td><td>6519</td><td>56566</td><td>762</td><td>3</td><td>1</td><td>2.138000</td><td>VI</td><td>20.7238</td><td>20.3023</td><td>20.1882</td><td>20.1151</td><td>19.8984</td><td>0.078609</td><td>0.026198</td><td>0.025554</td><td>0.034357</td><td>0.099783</td><td>0.283021</td><td>0.220528</td><td>0.152560</td><td>0.113369</td><td>0.084326</td><td>0.0315</td><td>-0.0823</td><td>--</td><td>--</td><td>--</td><td>--</td><td>162.05</td><td>0.848546</td><td>564.28</td><td>0.896217</td><td>--</td><td>2828116667404972544</td><td>Sp</td><td>Simbad</td><td>QSO</td><td>BROADLINE</td><td>{16, 27, 19, 23}</td><td>set()</td><td>True</td><td>5.570203232655415</td></tr>\n",
       "<tr><td>111330.03+422145.9</td><td>168.375151</td><td>42.362771</td><td>8367</td><td>57429</td><td>718</td><td>0</td><td>1</td><td>1.096543</td><td>PIPE</td><td>20.2221</td><td>20.1188</td><td>19.9356</td><td>19.9753</td><td>19.9863</td><td>0.04438</td><td>0.032869</td><td>0.027115</td><td>0.028242</td><td>0.080515</td><td>0.062853</td><td>0.048974</td><td>0.033880</td><td>0.025177</td><td>0.018727</td><td>0.2686</td><td>10.0871</td><td>--</td><td>--</td><td>--</td><td>--</td><td>418.55</td><td>0.910030</td><td>1093.8</td><td>0.920668</td><td>--</td><td>777708561718804480</td><td>Sp</td><td>Simbad</td><td>QSO</td><td>BROADLINE</td><td>{16, 27, 19, 23}</td><td>set()</td><td>True</td><td>8.029967086527813</td></tr>\n",
       "<tr><td>001259.34+044039.7</td><td>3.247273</td><td>4.677710</td><td>8745</td><td>57391</td><td>558</td><td>0</td><td>1</td><td>1.371022</td><td>PIPE</td><td>20.6285</td><td>20.7014</td><td>20.4025</td><td>20.1729</td><td>20.2121</td><td>0.079597</td><td>0.033772</td><td>0.032263</td><td>0.037525</td><td>0.15699</td><td>0.094037</td><td>0.073273</td><td>0.050690</td><td>0.037668</td><td>0.028018</td><td>0.5370</td><td>0.9230</td><td>3.1814e-31</td><td>3.8788e-31</td><td>4.1991e-31</td><td>5.109e-31</td><td>317.43</td><td>0.883450</td><td>1160.3</td><td>0.918824</td><td>--</td><td>2741359427537140864</td><td>Sp</td><td>Simbad</td><td>QSO</td><td>BROADLINE</td><td>{27, 23}</td><td>set()</td><td>True</td><td>4.3811754098852465</td></tr>\n",
       "<tr><td>142016.78+422246.7</td><td>215.069941</td><td>42.379664</td><td>8504</td><td>57518</td><td>871</td><td>3</td><td>1</td><td>0.797000</td><td>VI</td><td>22.4498</td><td>21.9124</td><td>21.6639</td><td>21.5374</td><td>21.2625</td><td>0.19189</td><td>0.055765</td><td>0.060027</td><td>0.079433</td><td>0.23165</td><td>0.049589</td><td>0.038640</td><td>0.026731</td><td>0.019864</td><td>0.014775</td><td>-0.2323</td><td>0.7090</td><td>--</td><td>--</td><td>--</td><td>--</td><td>100.11</td><td>0.843825</td><td>131.22</td><td>0.857223</td><td>--</td><td>--</td><td>Sp</td><td>Simbad</td><td>QSO</td><td>--</td><td>{27, 23}</td><td>{2}</td><td>True</td><td>1.2109428115209888</td></tr>\n",
       "<tr><td>135244.57+463438.8</td><td>208.185720</td><td>46.577455</td><td>7428</td><td>56781</td><td>729</td><td>3</td><td>1</td><td>1.649000</td><td>VI</td><td>22.1786</td><td>21.9483</td><td>22.0205</td><td>21.6925</td><td>21.4764</td><td>0.15735</td><td>0.069863</td><td>0.088798</td><td>0.11299</td><td>0.35319</td><td>0.087797</td><td>0.068410</td><td>0.047326</td><td>0.035168</td><td>0.026159</td><td>-0.2691</td><td>1.0000</td><td>--</td><td>--</td><td>--</td><td>--</td><td>74.763</td><td>0.844095</td><td>141.65</td><td>0.858053</td><td>--</td><td>--</td><td>Sp</td><td>Simbad</td><td>QSO</td><td>BROADLINE</td><td>{16, 17, 18, 19, 23, 25, 27}</td><td>set()</td><td>True</td><td>1.7497339334534183</td></tr>\n",
       "</table></div>"
      ],
      "text/plain": [
       "<Table length=1000>\n",
       "       SDSS         RAJ2000    DEJ2000   ... zwarning good        snr        \n",
       "                      deg        deg     ...                                 \n",
       "      str18         float64    float64   ...   str6   bool      float64      \n",
       "------------------ ---------- ---------- ... -------- ---- ------------------\n",
       "011038.20-004750.2  17.659192  -0.797284 ...    set() True 3.5506450787574013\n",
       "074325.64+325500.5 115.856870  32.916821 ...      {2} True 1.1169608473719579\n",
       "144300.02+551002.3 220.750085  55.167310 ...    set() True 3.9312597494296577\n",
       "001506.86+021047.6   3.778608   2.179915 ...    set() True  9.415525186909598\n",
       "231212.46+312253.4 348.051944  31.381527 ...    set() True 10.432438984992652\n",
       "125650.85+574700.1 194.211891  57.783376 ...    set() True 2.8094791557669834\n",
       "102816.32+302945.9 157.068004  30.496086 ...    set() True 1.6567472481501833\n",
       "141907.66+350900.1 214.781948  35.150050 ...    set() True 11.524729690957919\n",
       "222452.89+081621.2 336.220402   8.272581 ...    set() True  7.254851393255419\n",
       "               ...        ...        ... ...      ...  ...                ...\n",
       "160838.30+205806.0 242.159610  20.968342 ...    set() True 2.0835626862177006\n",
       "140601.80+110038.6 211.507534  11.010734 ...    set() True  7.215752618494352\n",
       "163159.73+335113.1 247.998913  33.853662 ...    set() True 1.7001062078383926\n",
       "160000.50+454047.5 240.002097  45.679872 ...    set() True 1.8024588199675569\n",
       "012229.93+034640.9  20.624711   3.778032 ...    set() True 1.9362664542776298\n",
       "233417.15+234749.8 353.571469  23.797175 ...    set() True  5.570203232655415\n",
       "111330.03+422145.9 168.375151  42.362771 ...    set() True  8.029967086527813\n",
       "001259.34+044039.7   3.247273   4.677710 ...    set() True 4.3811754098852465\n",
       "142016.78+422246.7 215.069941  42.379664 ...      {2} True 1.2109428115209888\n",
       "135244.57+463438.8 208.185720  46.577455 ...    set() True 1.7497339334534183"
      ]
     },
     "execution_count": 6,
     "metadata": {},
     "output_type": "execute_result"
    }
   ],
   "source": [
    "DR16Q_1k_class=Table.read('tables/dr16q_1k_class.ecsv')\n",
    "DR16Q_1k_class\n"
   ]
  },
  {
   "cell_type": "code",
   "execution_count": 7,
   "metadata": {},
   "outputs": [],
   "source": [
    "def plotspecq(plate, mjd, fiber, direc, title, g, c, save=False):\n",
    "    filename = 'spec-'+str(plate).zfill(4)+'-'+str(mjd)+'-'+str(fiber).zfill(4)+'.fits'\n",
    "    hdul = fits.open(direc+filename)\n",
    "    flux = hdul[1].data['flux']*1e-17*units.FLAM\n",
    "    loglam = hdul[1].data['loglam']\n",
    "    wave = 10 ** loglam\n",
    "\n",
    "    sp = SourceSpectrum(Empirical1D, points=wave, lookup_table=flux, keep_neg=False)\n",
    "    spu = units.convert_flux(sp.waveset, sp(sp.waveset), units.FLAM)\n",
    "\n",
    "    plt.figure(figsize=(16,4))\n",
    "    plt.plot(sp.waveset.value, spu.value)\n",
    "    plt.xlabel('Wavelength [Ångströms]')\n",
    "    plt.ylabel('Flux [erg/cm²/s/Å]')\n",
    "    plt.title(title+' ; '+hdul[2].data['CLASS'][0]+' '+hdul[2].data['SUBCLASS'][0])\n",
    "    if save==True:\n",
    "        if g==False:\n",
    "            folderout='bad/'\n",
    "        else:\n",
    "            if c!='QSO':\n",
    "                folderout='other/'\n",
    "            else:\n",
    "                folderout='spec/'\n",
    "        plt.savefig(folderout+'spec-'+str(plate).zfill(4)+'-'+str(mjd)+'-'+str(fiber).zfill(4)+'.png', facecolor='white', edgecolor='none')\n",
    "    else:\n",
    "        plt.show()\n",
    "\n",
    "def plotspec_obqs(object, save=False):\n",
    "    p=object['Plate']\n",
    "    m=object['_tab1_5']\n",
    "    f=object['Fiber']\n",
    "    t=object['SDSS']\n",
    "    g=object['good']\n",
    "    c=str(object['class'])\n",
    "    plotspecq(p, m, f, 'dr16q_1k/', t+' ; '+str(p)+'-'+str(m)+'-'+str(f), g, c, save)\n"
   ]
  },
  {
   "cell_type": "code",
   "execution_count": 10,
   "metadata": {},
   "outputs": [],
   "source": [
    "%%capture\n",
    "# Plot (and save) spectrum loop\n",
    "for l in range(len(DR16Q_1k_class)):\n",
    "    plotspec_obqs(DR16Q_1k_class[l], save=True)\n"
   ]
  },
  {
   "cell_type": "code",
   "execution_count": 8,
   "metadata": {},
   "outputs": [
    {
     "name": "stderr",
     "output_type": "stream",
     "text": [
      "WARNING: 201 bin(s) contained negative flux or throughput; it/they will be set to zero.\n",
      "  points: [ 3610.7717  3619.9292  3627.439   3628.2734  3629.945   3630.78\n",
      "  3632.453   3633.2903  3635.8005  3637.4756  3639.9885  3640.826\n",
      "  3643.343   3644.1812  3645.0215  3649.2202  3655.1067  3655.9475\n",
      "  3661.003   3664.3748  3672.8235  3698.2825  3699.1333  3705.9548\n",
      "  3706.8074  3711.9329  3713.6409  3723.0593  3727.348   3753.1848\n",
      "  3754.9138  3757.508   3758.3745  3760.106   3760.971   3769.6401\n",
      "  3808.9043  3809.7805  3811.5356  3815.926   3816.806   3817.684\n",
      "  3818.5623  3821.2024  3825.604   3830.0105  3830.8938  3831.7751\n",
      "  3832.6565  3833.5403  3834.4224  3837.0735  3837.956   3838.839\n",
      "  3839.7244  3843.263   3846.803   3857.4463  3859.2234  3860.1135\n",
      "  3861.0015  4360.135   4817.26    5892.5044  5896.5786  5897.935\n",
      "  7277.798   7343.448   7362.0728  7372.2485  7629.568   7631.327\n",
      "  7638.356   7753.5376  7823.4795  7825.2837  7861.401   7883.152\n",
      "  7915.894   8186.5327  8346.415   8348.34    8402.337   8431.405\n",
      "  8433.35    8454.734   8625.813   8637.736   8655.655   8657.651\n",
      "  8661.636   8761.935   8763.95    8792.247   8828.765   8830.801\n",
      "  8832.833   8838.935   8851.156   8871.56    8889.964   8906.357\n",
      "  8908.406   8922.776   8924.829   8990.834   9003.266   9040.654\n",
      "  9341.145   9421.067   9440.606   9458.016   9460.191   9462.373\n",
      "  9477.637   9503.86    9506.046   9521.381   9523.576   9556.523\n",
      "  9569.738   9571.939   9574.146   9609.485   9611.695   9622.767\n",
      "  9624.986   9693.934   9720.755   9722.991   9747.65    9749.898\n",
      "  9790.388   9858.252   9876.432   9878.703   9917.452   9919.733\n",
      "  9926.587   9944.893   9947.18    9951.763   9958.638   9960.935\n",
      "  9963.226   9965.523   9970.109  10002.306  10004.602  10013.822\n",
      " 10016.131  10023.051  10029.976  10053.095  10064.681  10076.279\n",
      " 10085.555  10087.88   10097.178  10099.506  10106.483  10139.115\n",
      " 10146.119  10148.459  10164.83   10171.853  10174.197  10176.532\n",
      " 10181.227  10183.574  10188.261  10190.609  10197.65   10200.002\n",
      " 10207.048  10211.745  10214.1    10225.859  10256.523  10270.699\n",
      " 10273.067  10287.267  10289.64   10296.748  10299.122  10306.237\n",
      " 10308.603  10310.9795 10313.357  10329.994  10332.376  10341.888\n",
      " 10344.272  10349.043  10353.806  10360.958  10363.348  10372.898\n",
      " 10382.458  10384.841  10392.016 ]\n",
      "  lookup_table: [-7.54616276e-06 -2.86403454e-06 -5.80045612e-06 -7.71726581e-07\n",
      " -7.95623499e-06 -3.75558799e-06 -3.68624559e-06 -3.87859908e-06\n",
      " -4.07235554e-06 -2.58948824e-06 -1.29726679e-06 -2.84301764e-06\n",
      " -2.47225679e-06 -6.91534370e-06 -2.76971131e-06 -4.54912191e-07\n",
      " -5.21143053e-07 -4.59358899e-07 -1.03487055e-06 -6.03238831e-06\n",
      " -4.88823391e-07 -7.84797072e-07 -5.75092747e-07 -3.04476217e-06\n",
      " -2.92343088e-06 -1.45657755e-06 -2.70418427e-07 -2.40980586e-06\n",
      " -9.65840727e-07 -1.01808511e-06 -1.47040682e-07 -4.07448904e-06\n",
      " -1.04403353e-06 -5.67391734e-07 -2.40382005e-06 -7.33653561e-07\n",
      " -9.55175108e-07 -3.70825051e-08 -2.24140445e-07 -1.70113855e-06\n",
      " -1.43535044e-06 -3.60975415e-07 -6.20980160e-07 -9.17129286e-07\n",
      " -4.76536047e-07 -2.19353760e-06 -3.18784179e-06 -4.78101318e-07\n",
      " -2.57256830e-06 -1.45409290e-06 -2.76875736e-07 -5.03083512e-07\n",
      " -5.24731323e-07 -8.22954801e-07 -4.82980870e-07 -1.76236825e-06\n",
      " -1.11301873e-07 -8.50905297e-07 -1.13098435e-06 -1.91921013e-06\n",
      " -5.45687915e-08 -1.26382350e-07 -1.95629189e-07 -1.80332399e-06\n",
      " -1.47001583e-06 -1.13445694e-06 -8.27140363e-07 -2.45769583e-08\n",
      " -7.20752929e-07 -1.58941812e-07 -5.81654367e-07 -3.28682286e-07\n",
      " -8.98495828e-08 -7.69918639e-07 -4.22837336e-07 -2.62424386e-06\n",
      " -4.07048547e-07 -2.61632041e-06 -2.04277962e-06 -4.23366163e-07\n",
      " -1.04392716e-05 -2.86286984e-06 -2.88011226e-06 -1.89365766e-06\n",
      " -2.06937550e-06 -1.61212155e-06 -3.49078639e-06 -5.01338017e-07\n",
      " -3.26777660e-06 -2.24080938e-06 -1.15788969e-06 -2.67987826e-06\n",
      " -2.31841691e-06 -1.20750461e-07 -6.49979816e-06 -6.94912354e-06\n",
      " -1.31052987e-06 -7.73371358e-07 -1.30271421e-07 -5.37561159e-07\n",
      " -1.01364879e-05 -6.36261167e-06 -1.71271908e-06 -4.96832266e-06\n",
      " -1.19057175e-06 -2.06675196e-06 -1.84818933e-06 -3.37851801e-06\n",
      " -1.67083217e-06 -2.17145387e-06 -9.01172323e-06 -6.67844053e-08\n",
      " -1.86287338e-05 -3.63330125e-07 -1.31577793e-05 -9.33579026e-06\n",
      " -4.18611986e-06 -2.60648998e-06 -1.35702355e-05 -1.21354888e-06\n",
      " -1.37802996e-05 -7.87690079e-06 -1.97070545e-06 -2.79595743e-06\n",
      " -2.02163597e-06 -2.44170362e-06 -2.24800970e-06 -3.33889557e-06\n",
      " -1.76582474e-07 -7.91255820e-06 -8.43615029e-07 -2.66977146e-06\n",
      " -2.92688627e-06 -3.35152207e-07 -1.41672321e-06 -4.15506288e-06\n",
      " -1.12952940e-05 -1.86738913e-06 -1.95481801e-06 -2.48810895e-05\n",
      " -1.07125097e-05 -1.04671554e-05 -1.59229724e-05 -1.82732917e-06\n",
      " -1.71435553e-06 -2.73682788e-06 -2.89202822e-07 -3.43067597e-06\n",
      " -2.46132504e-06 -1.24636828e-05 -1.38138578e-05 -4.13935332e-06\n",
      " -2.26525046e-06 -9.53933014e-07 -2.34000966e-06 -8.01211230e-07\n",
      " -1.42953800e-05 -2.00688844e-05 -8.53786442e-07 -4.89967611e-07\n",
      " -8.50677577e-06 -1.56923976e-06 -1.07095634e-06 -4.56312085e-06\n",
      " -8.76007065e-07 -2.45421307e-05 -6.76136947e-05 -2.53037574e-05\n",
      " -1.60537449e-05 -2.07356669e-06 -7.70039707e-06 -1.78881830e-05\n",
      " -4.66340651e-06 -4.52025396e-06 -7.20940530e-06 -4.70174700e-05\n",
      " -3.51644094e-05 -7.00905150e-06 -2.95747737e-06 -1.27209682e-05\n",
      " -2.20825226e-05 -4.70258490e-05 -6.23365397e-05 -2.16248571e-05\n",
      " -2.36009288e-06 -4.08495859e-06 -5.26306687e-06 -1.90775760e-05\n",
      " -7.54462487e-06 -1.27427776e-05 -9.27325128e-06 -7.55722914e-06\n",
      " -3.21133945e-06 -9.60070926e-07 -1.47557381e-05 -1.05696691e-05\n",
      " -2.09772862e-05 -3.98999812e-06 -2.43617528e-05 -3.56239422e-06\n",
      " -5.43874573e-05] [synphot.models]\n"
     ]
    },
    {
     "data": {
      "image/png": "[encoded data removed]",
      "text/plain": [
       "<Figure size 1152x288 with 1 Axes>"
      ]
     },
     "metadata": {
      "needs_background": "light"
     },
     "output_type": "display_data"
    }
   ],
   "source": [
    "plotspec_obqs(DR16Q_1k_class[2], save=False)\n"
   ]
  }
 ],
 "metadata": {
  "interpreter": {
   "hash": "3df98a109a5cc23581108261c6c72118143224d8842a21ce60f5415bfb914c48"
  },
  "kernelspec": {
   "display_name": "Python 3.9.9 64-bit",
   "language": "python",
   "name": "python3"
  },
  "language_info": {
   "codemirror_mode": {
    "name": "ipython",
    "version": 3
   },
   "file_extension": ".py",
   "mimetype": "text/x-python",
   "name": "python",
   "nbconvert_exporter": "python",
   "pygments_lexer": "ipython3",
   "version": "3.9.10"
  },
  "orig_nbformat": 4
 },
 "nbformat": 4,
 "nbformat_minor": 2
}
