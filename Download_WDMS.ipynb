{
 "cells": [
  {
   "cell_type": "code",
   "execution_count": 1,
   "metadata": {},
   "outputs": [],
   "source": [
    "from astroquery.vizier import Vizier\n",
    "from astroquery.sdss import SDSS\n",
    "import astropy.units as u\n",
    "from astropy import coordinates as coords\n",
    "from astropy.table import Table, hstack, vstack\n",
    "from astropy.io import fits\n",
    "import matplotlib.pyplot as plt\n",
    "import numpy as np\n",
    "from synphot import SourceSpectrum\n",
    "from synphot.models import Empirical1D\n",
    "from synphot import units\n",
    "import random\n",
    "import os.path\n",
    "from collections import Counter\n",
    "from specutils import Spectrum1D, SpectralRegion\n",
    "from specutils.analysis import snr_derived\n"
   ]
  },
  {
   "cell_type": "code",
   "execution_count": 18,
   "metadata": {},
   "outputs": [
    {
     "name": "stdout",
     "output_type": "stream",
     "text": [
      "{'J/MNRAS/433/3398': 'White dwarf main-sequence binaries (Rebassa-Mansergas+, 2013)'}\n"
     ]
    }
   ],
   "source": [
    "# Search Vizier for White Dwarf Main Sequence binaries catalog\n",
    "catalog_list = Vizier.find_catalogs('J/MNRAS/433/3398')\n",
    "print({k:v.description for k,v in catalog_list.items()})\n"
   ]
  },
  {
   "cell_type": "code",
   "execution_count": 19,
   "metadata": {},
   "outputs": [
    {
     "name": "stdout",
     "output_type": "stream",
     "text": [
      "TableList with 3 tables:\n",
      "\t'0:J/MNRAS/433/3398/table2' with 19 column(s) and 3419 row(s) \n",
      "\t'1:J/MNRAS/433/3398/table5' with 8 column(s) and 45 row(s) \n",
      "\t'2:J/MNRAS/433/3398/rejected' with 8 column(s) and 304 row(s) \n"
     ]
    }
   ],
   "source": [
    "Vizier.ROW_LIMIT = -1\n",
    "catalogs = Vizier.get_catalogs(catalog_list.keys())\n",
    "print(catalogs)\n"
   ]
  },
  {
   "cell_type": "code",
   "execution_count": 20,
   "metadata": {},
   "outputs": [
    {
     "name": "stdout",
     "output_type": "stream",
     "text": [
      "3419\n"
     ]
    }
   ],
   "source": [
    "# Get 'WDMS catalog (3419 rows)'\n",
    "Vizier.ROW_LIMIT = -1\n",
    "WDMS = Vizier.get_catalogs('J/MNRAS/433/3398')[0]\n",
    "print(len(WDMS))\n"
   ]
  },
  {
   "cell_type": "code",
   "execution_count": 21,
   "metadata": {},
   "outputs": [
    {
     "data": {
      "text/html": [
       "<div><i>Table length=3419</i>\n",
       "<table id=\"table1725154088656\" class=\"table-striped table-bordered table-condensed\">\n",
       "<thead><tr><th>SDSS</th><th>RAJ2000</th><th>DEJ2000</th><th>umag</th><th>gmag</th><th>rmag</th><th>imag</th><th>zmag</th><th>Ymag</th><th>Jmag</th><th>Hmag</th><th>Kmag</th><th>Jmag2</th><th>Hmag2</th><th>Kmag2</th><th>W1mag</th><th>W2mag</th><th>SpType</th><th>Sloan</th></tr></thead>\n",
       "<thead><tr><th></th><th>deg</th><th>deg</th><th>mag</th><th>mag</th><th>mag</th><th>mag</th><th>mag</th><th>mag</th><th>mag</th><th>mag</th><th>mag</th><th>mag</th><th>mag</th><th>mag</th><th>mag</th><th>mag</th><th></th><th></th></tr></thead>\n",
       "<thead><tr><th>str19</th><th>float64</th><th>float64</th><th>float64</th><th>float64</th><th>float64</th><th>float64</th><th>float64</th><th>float64</th><th>float64</th><th>float64</th><th>float64</th><th>float64</th><th>float64</th><th>float64</th><th>float64</th><th>float64</th><th>str7</th><th>str5</th></tr></thead>\n",
       "<tr><td>J000116.50+000204.8</td><td>0.31874</td><td>0.03468</td><td>18.85992</td><td>18.80826</td><td>18.91353</td><td>19.04969</td><td>19.22025</td><td>18.90210</td><td>18.94797</td><td>--</td><td>--</td><td>--</td><td>--</td><td>--</td><td>--</td><td>--</td><td>unknown</td><td>Sloan</td></tr>\n",
       "<tr><td>J000152.09+000644.5</td><td>0.46703</td><td>0.11236</td><td>19.03607</td><td>18.57443</td><td>17.89913</td><td>17.48012</td><td>17.17712</td><td>16.51318</td><td>16.05914</td><td>15.40160</td><td>15.28913</td><td>--</td><td>--</td><td>--</td><td>--</td><td>--</td><td>WDMS</td><td>Sloan</td></tr>\n",
       "<tr><td>J000218.67-064850.1</td><td>0.57781</td><td>-6.81391</td><td>20.44414</td><td>18.96709</td><td>17.78290</td><td>17.19696</td><td>16.79658</td><td>--</td><td>--</td><td>--</td><td>--</td><td>15.65600</td><td>14.93500</td><td>14.74100</td><td>14.66700</td><td>14.73700</td><td></td><td>Sloan</td></tr>\n",
       "<tr><td>J000238.16+162756.7</td><td>0.65898</td><td>16.46576</td><td>19.13624</td><td>18.56328</td><td>17.84974</td><td>16.80977</td><td>16.13724</td><td>--</td><td>--</td><td>--</td><td>--</td><td>14.76700</td><td>14.16200</td><td>13.89300</td><td>13.79200</td><td>13.68400</td><td></td><td>Sloan</td></tr>\n",
       "<tr><td>J000356.94-050332.8</td><td>0.98723</td><td>-5.05910</td><td>18.53305</td><td>18.22061</td><td>18.15110</td><td>17.48996</td><td>16.88521</td><td>--</td><td>--</td><td>--</td><td>--</td><td>15.58200</td><td>14.98400</td><td>14.50900</td><td>14.48600</td><td>14.42800</td><td>WDMS</td><td>Sloan</td></tr>\n",
       "<tr><td>J000413.91+183616.4</td><td>1.05795</td><td>18.60455</td><td>18.71697</td><td>18.53066</td><td>18.57321</td><td>17.87642</td><td>17.23008</td><td>--</td><td>--</td><td>--</td><td>--</td><td>15.84700</td><td>15.16500</td><td>14.96200</td><td>14.79600</td><td>14.61400</td><td></td><td>Sloan</td></tr>\n",
       "<tr><td>J000504.91+243409.6</td><td>1.27047</td><td>24.56934</td><td>19.51332</td><td>18.89106</td><td>18.47674</td><td>17.48813</td><td>16.81468</td><td>--</td><td>--</td><td>--</td><td>--</td><td>15.36600</td><td>14.72600</td><td>14.40800</td><td>14.26700</td><td>14.11000</td><td>WDMS</td><td>Sloan</td></tr>\n",
       "<tr><td>J000541.94+133734.2</td><td>1.42474</td><td>13.62616</td><td>19.23387</td><td>18.77803</td><td>18.86764</td><td>19.05692</td><td>19.17796</td><td>18.87453</td><td>18.99693</td><td>--</td><td>--</td><td>--</td><td>--</td><td>--</td><td>--</td><td>--</td><td></td><td>Sloan</td></tr>\n",
       "<tr><td>J000553.76+113128.5</td><td>1.47402</td><td>11.52457</td><td>18.84084</td><td>18.83210</td><td>19.00487</td><td>19.23342</td><td>19.46325</td><td>19.13833</td><td>19.20020</td><td>--</td><td>--</td><td>--</td><td>--</td><td>--</td><td>--</td><td>--</td><td></td><td>Sloan</td></tr>\n",
       "<tr><td>...</td><td>...</td><td>...</td><td>...</td><td>...</td><td>...</td><td>...</td><td>...</td><td>...</td><td>...</td><td>...</td><td>...</td><td>...</td><td>...</td><td>...</td><td>...</td><td>...</td><td>...</td><td>...</td></tr>\n",
       "<tr><td>J235749.94-204023.8</td><td>359.45808</td><td>-20.67327</td><td>18.85429</td><td>18.44198</td><td>18.53427</td><td>18.14598</td><td>17.53985</td><td>--</td><td>--</td><td>--</td><td>--</td><td>--</td><td>--</td><td>--</td><td>15.05000</td><td>14.95300</td><td></td><td>Sloan</td></tr>\n",
       "<tr><td>J235813.53+131605.2</td><td>359.55636</td><td>13.26812</td><td>18.95208</td><td>18.77204</td><td>18.98944</td><td>19.20062</td><td>19.31259</td><td>19.17295</td><td>19.22220</td><td>--</td><td>--</td><td>--</td><td>--</td><td>--</td><td>--</td><td>--</td><td></td><td>Sloan</td></tr>\n",
       "<tr><td>J235844.57+013024.8</td><td>359.68572</td><td>1.50689</td><td>19.10650</td><td>18.66979</td><td>18.91022</td><td>19.10501</td><td>19.18900</td><td>18.94555</td><td>19.04117</td><td>--</td><td>--</td><td>--</td><td>--</td><td>--</td><td>--</td><td>--</td><td></td><td>Sloan</td></tr>\n",
       "<tr><td>J235845.60+255957.9</td><td>359.68999</td><td>25.99942</td><td>19.99962</td><td>18.80503</td><td>17.74191</td><td>16.89998</td><td>16.41355</td><td>--</td><td>--</td><td>--</td><td>--</td><td>15.30900</td><td>14.51600</td><td>14.39800</td><td>--</td><td>--</td><td></td><td>Sloan</td></tr>\n",
       "<tr><td>J235852.05+061349.7</td><td>359.71688</td><td>6.23046</td><td>19.07067</td><td>17.79303</td><td>16.65953</td><td>15.56763</td><td>14.92896</td><td>14.09257</td><td>13.56638</td><td>13.01696</td><td>12.74572</td><td>13.61500</td><td>13.04100</td><td>12.77600</td><td>12.59600</td><td>12.39200</td><td></td><td>Sloan</td></tr>\n",
       "<tr><td>J235858.00-092619.9</td><td>359.74167</td><td>-9.43887</td><td>19.54381</td><td>18.09660</td><td>16.94243</td><td>15.81222</td><td>15.15230</td><td>--</td><td>--</td><td>--</td><td>--</td><td>13.78000</td><td>13.13900</td><td>12.95600</td><td>12.80700</td><td>12.69600</td><td></td><td>Sloan</td></tr>\n",
       "<tr><td>J235906.31+014307.1</td><td>359.77630</td><td>1.71864</td><td>18.70634</td><td>18.73620</td><td>18.91791</td><td>19.07445</td><td>19.28966</td><td>19.02941</td><td>18.97726</td><td>--</td><td>--</td><td>--</td><td>--</td><td>--</td><td>--</td><td>--</td><td></td><td>Sloan</td></tr>\n",
       "<tr><td>J235919.04+062119.2</td><td>359.82934</td><td>6.35534</td><td>19.09311</td><td>18.96810</td><td>18.98513</td><td>19.15134</td><td>19.19974</td><td>18.81639</td><td>18.82688</td><td>--</td><td>--</td><td>--</td><td>--</td><td>--</td><td>--</td><td>--</td><td></td><td>Sloan</td></tr>\n",
       "<tr><td>J235950.35+013820.5</td><td>359.95978</td><td>1.63903</td><td>18.39834</td><td>18.53826</td><td>18.83280</td><td>19.08051</td><td>19.21368</td><td>19.00823</td><td>19.20384</td><td>--</td><td>--</td><td>--</td><td>--</td><td>--</td><td>--</td><td>--</td><td></td><td>Sloan</td></tr>\n",
       "<tr><td>J235958.32+124446.1</td><td>359.99302</td><td>12.74614</td><td>16.95528</td><td>17.20457</td><td>17.24384</td><td>16.77449</td><td>16.31041</td><td>15.47498</td><td>14.97635</td><td>--</td><td>14.12061</td><td>14.96000</td><td>14.40400</td><td>14.06600</td><td>13.97500</td><td>13.91500</td><td></td><td>Sloan</td></tr>\n",
       "</table></div>"
      ],
      "text/plain": [
       "<Table length=3419>\n",
       "        SDSS         RAJ2000   DEJ2000    umag   ...  W2mag    SpType Sloan\n",
       "                       deg       deg      mag    ...   mag                 \n",
       "       str19         float64   float64  float64  ... float64    str7   str5\n",
       "------------------- --------- --------- -------- ... -------- ------- -----\n",
       "J000116.50+000204.8   0.31874   0.03468 18.85992 ...       -- unknown Sloan\n",
       "J000152.09+000644.5   0.46703   0.11236 19.03607 ...       --    WDMS Sloan\n",
       "J000218.67-064850.1   0.57781  -6.81391 20.44414 ... 14.73700         Sloan\n",
       "J000238.16+162756.7   0.65898  16.46576 19.13624 ... 13.68400         Sloan\n",
       "J000356.94-050332.8   0.98723  -5.05910 18.53305 ... 14.42800    WDMS Sloan\n",
       "J000413.91+183616.4   1.05795  18.60455 18.71697 ... 14.61400         Sloan\n",
       "J000504.91+243409.6   1.27047  24.56934 19.51332 ... 14.11000    WDMS Sloan\n",
       "J000541.94+133734.2   1.42474  13.62616 19.23387 ...       --         Sloan\n",
       "J000553.76+113128.5   1.47402  11.52457 18.84084 ...       --         Sloan\n",
       "                ...       ...       ...      ... ...      ...     ...   ...\n",
       "J235749.94-204023.8 359.45808 -20.67327 18.85429 ... 14.95300         Sloan\n",
       "J235813.53+131605.2 359.55636  13.26812 18.95208 ...       --         Sloan\n",
       "J235844.57+013024.8 359.68572   1.50689 19.10650 ...       --         Sloan\n",
       "J235845.60+255957.9 359.68999  25.99942 19.99962 ...       --         Sloan\n",
       "J235852.05+061349.7 359.71688   6.23046 19.07067 ... 12.39200         Sloan\n",
       "J235858.00-092619.9 359.74167  -9.43887 19.54381 ... 12.69600         Sloan\n",
       "J235906.31+014307.1 359.77630   1.71864 18.70634 ...       --         Sloan\n",
       "J235919.04+062119.2 359.82934   6.35534 19.09311 ...       --         Sloan\n",
       "J235950.35+013820.5 359.95978   1.63903 18.39834 ...       --         Sloan\n",
       "J235958.32+124446.1 359.99302  12.74614 16.95528 ... 13.91500         Sloan"
      ]
     },
     "execution_count": 21,
     "metadata": {},
     "output_type": "execute_result"
    }
   ],
   "source": [
    "WDMS\n"
   ]
  },
  {
   "cell_type": "code",
   "execution_count": 22,
   "metadata": {},
   "outputs": [
    {
     "name": "stdout",
     "output_type": "stream",
     "text": [
      "{'J/MNRAS/458/3808': 'DR9-12 SDSS WDMS binaries (Rebassa-Mansergas+, 2016)'}\n"
     ]
    }
   ],
   "source": [
    "# Search Vizier for White Dwarf Main Sequence binaries catalog\n",
    "catalog_list = Vizier.find_catalogs('SDSS WDMS binaries')\n",
    "print({k:v.description for k,v in catalog_list.items()})\n"
   ]
  },
  {
   "cell_type": "code",
   "execution_count": 23,
   "metadata": {},
   "outputs": [
    {
     "name": "stdout",
     "output_type": "stream",
     "text": [
      "978\n"
     ]
    }
   ],
   "source": [
    "Vizier.ROW_LIMIT = -1\n",
    "WDMS2 = Vizier.get_catalogs('J/MNRAS/458/3808')[0]\n",
    "print(len(WDMS2))\n"
   ]
  },
  {
   "cell_type": "code",
   "execution_count": 24,
   "metadata": {},
   "outputs": [
    {
     "data": {
      "text/html": [
       "<div><i>Table length=978</i>\n",
       "<table id=\"table1725091231440\" class=\"table-striped table-bordered table-condensed\">\n",
       "<thead><tr><th>SDSS</th><th>RAJ2000</th><th>DEJ2000</th><th>umag</th><th>gmag</th><th>rmag</th><th>imag</th><th>zmag</th><th>Sloan</th></tr></thead>\n",
       "<thead><tr><th></th><th>deg</th><th>deg</th><th>mag</th><th>mag</th><th>mag</th><th>mag</th><th>mag</th><th></th></tr></thead>\n",
       "<thead><tr><th>str19</th><th>float64</th><th>float64</th><th>float64</th><th>float64</th><th>float64</th><th>float64</th><th>float64</th><th>str5</th></tr></thead>\n",
       "<tr><td>J000043.84+062106.3</td><td>0.182696</td><td>6.351754</td><td>21.893260</td><td>21.450380</td><td>21.672320</td><td>21.374130</td><td>20.894000</td><td>Sloan</td></tr>\n",
       "<tr><td>J000632.13-103743.8</td><td>1.633897</td><td>-10.628854</td><td>21.264060</td><td>20.810260</td><td>20.998770</td><td>20.927190</td><td>20.603420</td><td>Sloan</td></tr>\n",
       "<tr><td>J000756.03+055723.4</td><td>1.983487</td><td>5.956525</td><td>21.012110</td><td>20.514140</td><td>20.481390</td><td>20.043560</td><td>19.485020</td><td>Sloan</td></tr>\n",
       "<tr><td>J000957.20-013341.4</td><td>2.488339</td><td>-1.561506</td><td>20.936930</td><td>20.470100</td><td>20.587980</td><td>20.342690</td><td>20.042510</td><td>Sloan</td></tr>\n",
       "<tr><td>J001008.21-060553.4</td><td>2.534237</td><td>-6.098192</td><td>21.284090</td><td>21.082970</td><td>21.092230</td><td>21.119840</td><td>20.429440</td><td>Sloan</td></tr>\n",
       "<tr><td>J001022.87+280633.7</td><td>2.595294</td><td>28.109369</td><td>22.034550</td><td>21.505440</td><td>21.474310</td><td>20.413130</td><td>20.173570</td><td>Sloan</td></tr>\n",
       "<tr><td>J001331.01+120311.7</td><td>3.379221</td><td>12.053277</td><td>21.284560</td><td>20.614340</td><td>20.594140</td><td>20.305920</td><td>19.822510</td><td>Sloan</td></tr>\n",
       "<tr><td>J001645.29-043553.2</td><td>4.188729</td><td>-4.598121</td><td>22.403620</td><td>21.243390</td><td>20.869170</td><td>20.052840</td><td>19.508980</td><td>Sloan</td></tr>\n",
       "<tr><td>J001707.13+040145.3</td><td>4.279744</td><td>4.029260</td><td>21.652850</td><td>21.021540</td><td>21.152340</td><td>20.712400</td><td>20.311940</td><td>Sloan</td></tr>\n",
       "<tr><td>...</td><td>...</td><td>...</td><td>...</td><td>...</td><td>...</td><td>...</td><td>...</td><td>...</td></tr>\n",
       "<tr><td>J235348.05+181049.7</td><td>358.450250</td><td>18.180490</td><td>21.160180</td><td>20.442870</td><td>20.477670</td><td>20.055830</td><td>19.587920</td><td>Sloan</td></tr>\n",
       "<tr><td>J235524.29+044855.8</td><td>358.851240</td><td>4.815506</td><td>20.517450</td><td>19.616040</td><td>19.184260</td><td>18.795990</td><td>18.576120</td><td>Sloan</td></tr>\n",
       "<tr><td>J235529.17+263118.8</td><td>358.871570</td><td>26.521892</td><td>19.995800</td><td>19.492430</td><td>19.732360</td><td>19.647080</td><td>19.427280</td><td>Sloan</td></tr>\n",
       "<tr><td>J235529.98+310931.1</td><td>358.874950</td><td>31.158651</td><td>20.752490</td><td>20.044630</td><td>19.840340</td><td>19.772450</td><td>19.819220</td><td>Sloan</td></tr>\n",
       "<tr><td>J235623.88-095412.3</td><td>359.099520</td><td>-9.903429</td><td>20.943410</td><td>20.570860</td><td>20.822310</td><td>20.907840</td><td>20.019600</td><td>Sloan</td></tr>\n",
       "<tr><td>J235720.75-071139.7</td><td>359.336490</td><td>-7.194363</td><td>21.499740</td><td>21.252470</td><td>21.147320</td><td>20.068740</td><td>19.437920</td><td>Sloan</td></tr>\n",
       "<tr><td>J235727.33+041704.0</td><td>359.363880</td><td>4.284453</td><td>21.189140</td><td>20.552030</td><td>20.625150</td><td>20.484470</td><td>19.673080</td><td>Sloan</td></tr>\n",
       "<tr><td>J235922.02+194737.8</td><td>359.841770</td><td>19.793859</td><td>22.092540</td><td>21.633130</td><td>21.753150</td><td>21.555530</td><td>20.965800</td><td>Sloan</td></tr>\n",
       "<tr><td>J235945.72-052812.4</td><td>359.940520</td><td>-5.470126</td><td>18.477300</td><td>18.548220</td><td>18.725310</td><td>18.330750</td><td>17.804990</td><td>Sloan</td></tr>\n",
       "<tr><td>J235946.19+010649.0</td><td>359.942470</td><td>1.113623</td><td>22.193670</td><td>20.972110</td><td>19.816440</td><td>18.801030</td><td>18.284080</td><td>Sloan</td></tr>\n",
       "</table></div>"
      ],
      "text/plain": [
       "<Table length=978>\n",
       "        SDSS         RAJ2000    DEJ2000   ...    imag      zmag   Sloan\n",
       "                       deg        deg     ...    mag       mag         \n",
       "       str19         float64    float64   ...  float64   float64   str5\n",
       "------------------- ---------- ---------- ... --------- --------- -----\n",
       "J000043.84+062106.3   0.182696   6.351754 ... 21.374130 20.894000 Sloan\n",
       "J000632.13-103743.8   1.633897 -10.628854 ... 20.927190 20.603420 Sloan\n",
       "J000756.03+055723.4   1.983487   5.956525 ... 20.043560 19.485020 Sloan\n",
       "J000957.20-013341.4   2.488339  -1.561506 ... 20.342690 20.042510 Sloan\n",
       "J001008.21-060553.4   2.534237  -6.098192 ... 21.119840 20.429440 Sloan\n",
       "J001022.87+280633.7   2.595294  28.109369 ... 20.413130 20.173570 Sloan\n",
       "J001331.01+120311.7   3.379221  12.053277 ... 20.305920 19.822510 Sloan\n",
       "J001645.29-043553.2   4.188729  -4.598121 ... 20.052840 19.508980 Sloan\n",
       "J001707.13+040145.3   4.279744   4.029260 ... 20.712400 20.311940 Sloan\n",
       "                ...        ...        ... ...       ...       ...   ...\n",
       "J235348.05+181049.7 358.450250  18.180490 ... 20.055830 19.587920 Sloan\n",
       "J235524.29+044855.8 358.851240   4.815506 ... 18.795990 18.576120 Sloan\n",
       "J235529.17+263118.8 358.871570  26.521892 ... 19.647080 19.427280 Sloan\n",
       "J235529.98+310931.1 358.874950  31.158651 ... 19.772450 19.819220 Sloan\n",
       "J235623.88-095412.3 359.099520  -9.903429 ... 20.907840 20.019600 Sloan\n",
       "J235720.75-071139.7 359.336490  -7.194363 ... 20.068740 19.437920 Sloan\n",
       "J235727.33+041704.0 359.363880   4.284453 ... 20.484470 19.673080 Sloan\n",
       "J235922.02+194737.8 359.841770  19.793859 ... 21.555530 20.965800 Sloan\n",
       "J235945.72-052812.4 359.940520  -5.470126 ... 18.330750 17.804990 Sloan\n",
       "J235946.19+010649.0 359.942470   1.113623 ... 18.801030 18.284080 Sloan"
      ]
     },
     "execution_count": 24,
     "metadata": {},
     "output_type": "execute_result"
    }
   ],
   "source": [
    "WDMS2\n"
   ]
  },
  {
   "cell_type": "code",
   "execution_count": 36,
   "metadata": {},
   "outputs": [
    {
     "name": "stderr",
     "output_type": "stream",
     "text": [
      "WARNING: MergeConflictWarning: Cannot merge meta key 'width' types <class 'int'> and <class 'int'>, choosing width=10 [astropy.utils.metadata]\n",
      "WARNING: MergeConflictWarning: Cannot merge meta key 'precision' types <class 'str'> and <class 'str'>, choosing precision='6' [astropy.utils.metadata]\n",
      "WARNING: MergeConflictWarning: In merged column 'RAJ2000' the 'format' attribute does not match ({:9.5f} != {:10.6f}).  Using {:10.6f} for merged output [astropy.utils.metadata]\n",
      "WARNING: MergeConflictWarning: In merged column 'DEJ2000' the 'format' attribute does not match ({:9.5f} != {:10.6f}).  Using {:10.6f} for merged output [astropy.utils.metadata]\n",
      "WARNING: MergeConflictWarning: Cannot merge meta key 'width' types <class 'int'> and <class 'int'>, choosing width=9 [astropy.utils.metadata]\n",
      "WARNING: MergeConflictWarning: In merged column 'umag' the 'format' attribute does not match ({:8.5f} != {:9.6f}).  Using {:9.6f} for merged output [astropy.utils.metadata]\n",
      "WARNING: MergeConflictWarning: In merged column 'gmag' the 'format' attribute does not match ({:8.5f} != {:9.6f}).  Using {:9.6f} for merged output [astropy.utils.metadata]\n",
      "WARNING: MergeConflictWarning: In merged column 'rmag' the 'format' attribute does not match ({:8.5f} != {:9.6f}).  Using {:9.6f} for merged output [astropy.utils.metadata]\n",
      "WARNING: MergeConflictWarning: In merged column 'imag' the 'format' attribute does not match ({:8.5f} != {:9.6f}).  Using {:9.6f} for merged output [astropy.utils.metadata]\n",
      "WARNING: MergeConflictWarning: In merged column 'zmag' the 'format' attribute does not match ({:8.5f} != {:9.6f}).  Using {:9.6f} for merged output [astropy.utils.metadata]\n",
      "WARNING: MergeConflictWarning: In merged column 'Sloan' the 'description' attribute does not match (Display the SDSS data for this star != Display the online SDSS data for this star).  Using Display the online SDSS data for this star for merged output [astropy.utils.metadata]\n",
      "WARNING: MergeConflictWarning: Cannot merge meta key 'ID' types <class 'str'> and <class 'str'>, choosing ID='J_MNRAS_458_3808_tables1' [astropy.utils.metadata]\n",
      "WARNING: MergeConflictWarning: Cannot merge meta key 'name' types <class 'str'> and <class 'str'>, choosing name='J/MNRAS/458/3808/tables1' [astropy.utils.metadata]\n",
      "WARNING: MergeConflictWarning: Cannot merge meta key 'description' types <class 'str'> and <class 'str'>, choosing description='*Object name, coordinates and SDSS ugriz magnitudes of the 978 DR9-12 SDSS WDMS binaries found in this work' [astropy.utils.metadata]\n"
     ]
    }
   ],
   "source": [
    "WDMS_full = vstack([WDMS, WDMS2])\n",
    "from astropy import table\n",
    "WDMS_full = table.unique(WDMS_full, keys='SDSS')\n"
   ]
  },
  {
   "cell_type": "code",
   "execution_count": 38,
   "metadata": {},
   "outputs": [],
   "source": [
    "WDMS_full.write('tables/wdms.ecsv')\n"
   ]
  },
  {
   "cell_type": "code",
   "execution_count": 2,
   "metadata": {},
   "outputs": [
    {
     "data": {
      "text/html": [
       "<div><i>Table length=4395</i>\n",
       "<table id=\"table2017739433776\" class=\"table-striped table-bordered table-condensed\">\n",
       "<thead><tr><th>SDSS</th><th>RAJ2000</th><th>DEJ2000</th><th>umag</th><th>gmag</th><th>rmag</th><th>imag</th><th>zmag</th><th>Ymag</th><th>Jmag</th><th>Hmag</th><th>Kmag</th><th>Jmag2</th><th>Hmag2</th><th>Kmag2</th><th>W1mag</th><th>W2mag</th><th>SpType</th><th>Sloan</th></tr></thead>\n",
       "<thead><tr><th></th><th>deg</th><th>deg</th><th>mag</th><th>mag</th><th>mag</th><th>mag</th><th>mag</th><th>mag</th><th>mag</th><th>mag</th><th>mag</th><th>mag</th><th>mag</th><th>mag</th><th>mag</th><th>mag</th><th></th><th></th></tr></thead>\n",
       "<thead><tr><th>str19</th><th>float64</th><th>float64</th><th>float64</th><th>float64</th><th>float64</th><th>float64</th><th>float64</th><th>float64</th><th>float64</th><th>float64</th><th>float64</th><th>float64</th><th>float64</th><th>float64</th><th>float64</th><th>float64</th><th>str7</th><th>str5</th></tr></thead>\n",
       "<tr><td>J000043.84+062106.3</td><td>0.182696</td><td>6.351754</td><td>21.893260</td><td>21.450380</td><td>21.672320</td><td>21.374130</td><td>20.894000</td><td>--</td><td>--</td><td>--</td><td>--</td><td>--</td><td>--</td><td>--</td><td>--</td><td>--</td><td>--</td><td>Sloan</td></tr>\n",
       "<tr><td>J000116.50+000204.8</td><td>0.318740</td><td>0.034680</td><td>18.859920</td><td>18.808260</td><td>18.913530</td><td>19.049690</td><td>19.220250</td><td>18.90210</td><td>18.94797</td><td>--</td><td>--</td><td>--</td><td>--</td><td>--</td><td>--</td><td>--</td><td>unknown</td><td>Sloan</td></tr>\n",
       "<tr><td>J000152.09+000644.5</td><td>0.467030</td><td>0.112360</td><td>19.036070</td><td>18.574430</td><td>17.899130</td><td>17.480120</td><td>17.177120</td><td>16.51318</td><td>16.05914</td><td>15.40160</td><td>15.28913</td><td>--</td><td>--</td><td>--</td><td>--</td><td>--</td><td>WDMS</td><td>Sloan</td></tr>\n",
       "<tr><td>J000218.67-064850.1</td><td>0.577810</td><td>-6.813910</td><td>20.444140</td><td>18.967090</td><td>17.782900</td><td>17.196960</td><td>16.796580</td><td>--</td><td>--</td><td>--</td><td>--</td><td>15.65600</td><td>14.93500</td><td>14.74100</td><td>14.66700</td><td>14.73700</td><td>--</td><td>Sloan</td></tr>\n",
       "<tr><td>J000238.16+162756.7</td><td>0.658980</td><td>16.465760</td><td>19.136240</td><td>18.563280</td><td>17.849740</td><td>16.809770</td><td>16.137240</td><td>--</td><td>--</td><td>--</td><td>--</td><td>14.76700</td><td>14.16200</td><td>13.89300</td><td>13.79200</td><td>13.68400</td><td>--</td><td>Sloan</td></tr>\n",
       "<tr><td>J000356.94-050332.8</td><td>0.987230</td><td>-5.059100</td><td>18.533050</td><td>18.220610</td><td>18.151100</td><td>17.489960</td><td>16.885210</td><td>--</td><td>--</td><td>--</td><td>--</td><td>15.58200</td><td>14.98400</td><td>14.50900</td><td>14.48600</td><td>14.42800</td><td>WDMS</td><td>Sloan</td></tr>\n",
       "<tr><td>J000413.91+183616.4</td><td>1.057950</td><td>18.604550</td><td>18.716970</td><td>18.530660</td><td>18.573210</td><td>17.876420</td><td>17.230080</td><td>--</td><td>--</td><td>--</td><td>--</td><td>15.84700</td><td>15.16500</td><td>14.96200</td><td>14.79600</td><td>14.61400</td><td>--</td><td>Sloan</td></tr>\n",
       "<tr><td>J000504.91+243409.6</td><td>1.270470</td><td>24.569340</td><td>19.513320</td><td>18.891060</td><td>18.476740</td><td>17.488130</td><td>16.814680</td><td>--</td><td>--</td><td>--</td><td>--</td><td>15.36600</td><td>14.72600</td><td>14.40800</td><td>14.26700</td><td>14.11000</td><td>WDMS</td><td>Sloan</td></tr>\n",
       "<tr><td>J000541.94+133734.2</td><td>1.424740</td><td>13.626160</td><td>19.233870</td><td>18.778030</td><td>18.867640</td><td>19.056920</td><td>19.177960</td><td>18.87453</td><td>18.99693</td><td>--</td><td>--</td><td>--</td><td>--</td><td>--</td><td>--</td><td>--</td><td>--</td><td>Sloan</td></tr>\n",
       "<tr><td>...</td><td>...</td><td>...</td><td>...</td><td>...</td><td>...</td><td>...</td><td>...</td><td>...</td><td>...</td><td>...</td><td>...</td><td>...</td><td>...</td><td>...</td><td>...</td><td>...</td><td>...</td><td>...</td></tr>\n",
       "<tr><td>J235845.60+255957.9</td><td>359.689990</td><td>25.999420</td><td>19.999620</td><td>18.805030</td><td>17.741910</td><td>16.899980</td><td>16.413550</td><td>--</td><td>--</td><td>--</td><td>--</td><td>15.30900</td><td>14.51600</td><td>14.39800</td><td>--</td><td>--</td><td>--</td><td>Sloan</td></tr>\n",
       "<tr><td>J235852.05+061349.7</td><td>359.716880</td><td>6.230460</td><td>19.070670</td><td>17.793030</td><td>16.659530</td><td>15.567630</td><td>14.928960</td><td>14.09257</td><td>13.56638</td><td>13.01696</td><td>12.74572</td><td>13.61500</td><td>13.04100</td><td>12.77600</td><td>12.59600</td><td>12.39200</td><td>--</td><td>Sloan</td></tr>\n",
       "<tr><td>J235858.00-092619.9</td><td>359.741670</td><td>-9.438870</td><td>19.543810</td><td>18.096600</td><td>16.942430</td><td>15.812220</td><td>15.152300</td><td>--</td><td>--</td><td>--</td><td>--</td><td>13.78000</td><td>13.13900</td><td>12.95600</td><td>12.80700</td><td>12.69600</td><td>--</td><td>Sloan</td></tr>\n",
       "<tr><td>J235906.31+014307.1</td><td>359.776300</td><td>1.718640</td><td>18.706340</td><td>18.736200</td><td>18.917910</td><td>19.074450</td><td>19.289660</td><td>19.02941</td><td>18.97726</td><td>--</td><td>--</td><td>--</td><td>--</td><td>--</td><td>--</td><td>--</td><td>--</td><td>Sloan</td></tr>\n",
       "<tr><td>J235919.04+062119.2</td><td>359.829340</td><td>6.355340</td><td>19.093110</td><td>18.968100</td><td>18.985130</td><td>19.151340</td><td>19.199740</td><td>18.81639</td><td>18.82688</td><td>--</td><td>--</td><td>--</td><td>--</td><td>--</td><td>--</td><td>--</td><td>--</td><td>Sloan</td></tr>\n",
       "<tr><td>J235922.02+194737.8</td><td>359.841770</td><td>19.793859</td><td>22.092540</td><td>21.633130</td><td>21.753150</td><td>21.555530</td><td>20.965800</td><td>--</td><td>--</td><td>--</td><td>--</td><td>--</td><td>--</td><td>--</td><td>--</td><td>--</td><td>--</td><td>Sloan</td></tr>\n",
       "<tr><td>J235945.72-052812.4</td><td>359.940520</td><td>-5.470126</td><td>18.477300</td><td>18.548220</td><td>18.725310</td><td>18.330750</td><td>17.804990</td><td>--</td><td>--</td><td>--</td><td>--</td><td>--</td><td>--</td><td>--</td><td>--</td><td>--</td><td>--</td><td>Sloan</td></tr>\n",
       "<tr><td>J235946.19+010649.0</td><td>359.942470</td><td>1.113623</td><td>22.193670</td><td>20.972110</td><td>19.816440</td><td>18.801030</td><td>18.284080</td><td>--</td><td>--</td><td>--</td><td>--</td><td>--</td><td>--</td><td>--</td><td>--</td><td>--</td><td>--</td><td>Sloan</td></tr>\n",
       "<tr><td>J235950.35+013820.5</td><td>359.959780</td><td>1.639030</td><td>18.398340</td><td>18.538260</td><td>18.832800</td><td>19.080510</td><td>19.213680</td><td>19.00823</td><td>19.20384</td><td>--</td><td>--</td><td>--</td><td>--</td><td>--</td><td>--</td><td>--</td><td>--</td><td>Sloan</td></tr>\n",
       "<tr><td>J235958.32+124446.1</td><td>359.993020</td><td>12.746140</td><td>16.955280</td><td>17.204570</td><td>17.243840</td><td>16.774490</td><td>16.310410</td><td>15.47498</td><td>14.97635</td><td>--</td><td>14.12061</td><td>14.96000</td><td>14.40400</td><td>14.06600</td><td>13.97500</td><td>13.91500</td><td>--</td><td>Sloan</td></tr>\n",
       "</table></div>"
      ],
      "text/plain": [
       "<Table length=4395>\n",
       "        SDSS         RAJ2000    DEJ2000      umag   ...  W2mag    SpType Sloan\n",
       "                       deg        deg        mag    ...   mag                 \n",
       "       str19         float64    float64    float64  ... float64    str7   str5\n",
       "------------------- ---------- ---------- --------- ... -------- ------- -----\n",
       "J000043.84+062106.3   0.182696   6.351754 21.893260 ...       --      -- Sloan\n",
       "J000116.50+000204.8   0.318740   0.034680 18.859920 ...       -- unknown Sloan\n",
       "J000152.09+000644.5   0.467030   0.112360 19.036070 ...       --    WDMS Sloan\n",
       "J000218.67-064850.1   0.577810  -6.813910 20.444140 ... 14.73700      -- Sloan\n",
       "J000238.16+162756.7   0.658980  16.465760 19.136240 ... 13.68400      -- Sloan\n",
       "J000356.94-050332.8   0.987230  -5.059100 18.533050 ... 14.42800    WDMS Sloan\n",
       "J000413.91+183616.4   1.057950  18.604550 18.716970 ... 14.61400      -- Sloan\n",
       "J000504.91+243409.6   1.270470  24.569340 19.513320 ... 14.11000    WDMS Sloan\n",
       "J000541.94+133734.2   1.424740  13.626160 19.233870 ...       --      -- Sloan\n",
       "                ...        ...        ...       ... ...      ...     ...   ...\n",
       "J235845.60+255957.9 359.689990  25.999420 19.999620 ...       --      -- Sloan\n",
       "J235852.05+061349.7 359.716880   6.230460 19.070670 ... 12.39200      -- Sloan\n",
       "J235858.00-092619.9 359.741670  -9.438870 19.543810 ... 12.69600      -- Sloan\n",
       "J235906.31+014307.1 359.776300   1.718640 18.706340 ...       --      -- Sloan\n",
       "J235919.04+062119.2 359.829340   6.355340 19.093110 ...       --      -- Sloan\n",
       "J235922.02+194737.8 359.841770  19.793859 22.092540 ...       --      -- Sloan\n",
       "J235945.72-052812.4 359.940520  -5.470126 18.477300 ...       --      -- Sloan\n",
       "J235946.19+010649.0 359.942470   1.113623 22.193670 ...       --      -- Sloan\n",
       "J235950.35+013820.5 359.959780   1.639030 18.398340 ...       --      -- Sloan\n",
       "J235958.32+124446.1 359.993020  12.746140 16.955280 ... 13.91500      -- Sloan"
      ]
     },
     "execution_count": 2,
     "metadata": {},
     "output_type": "execute_result"
    }
   ],
   "source": [
    "WDMS_full=Table.read('tables/wdms.ecsv')\n",
    "WDMS_full\n"
   ]
  },
  {
   "cell_type": "code",
   "execution_count": 39,
   "metadata": {},
   "outputs": [],
   "source": [
    "# Pick 1000 random objects from the catalog\n",
    "WDMS_1k = WDMS_full[random.sample(range(len(WDMS_full)), 1000)]\n"
   ]
  },
  {
   "cell_type": "code",
   "execution_count": 41,
   "metadata": {},
   "outputs": [],
   "source": [
    "WDMS_1k.write('tables/wdms_1k.ecsv')\n"
   ]
  },
  {
   "cell_type": "code",
   "execution_count": 3,
   "metadata": {},
   "outputs": [
    {
     "data": {
      "text/html": [
       "<div><i>Table length=1000</i>\n",
       "<table id=\"table2017739466112\" class=\"table-striped table-bordered table-condensed\">\n",
       "<thead><tr><th>SDSS</th><th>RAJ2000</th><th>DEJ2000</th><th>umag</th><th>gmag</th><th>rmag</th><th>imag</th><th>zmag</th><th>Ymag</th><th>Jmag</th><th>Hmag</th><th>Kmag</th><th>Jmag2</th><th>Hmag2</th><th>Kmag2</th><th>W1mag</th><th>W2mag</th><th>SpType</th><th>Sloan</th></tr></thead>\n",
       "<thead><tr><th></th><th>deg</th><th>deg</th><th>mag</th><th>mag</th><th>mag</th><th>mag</th><th>mag</th><th>mag</th><th>mag</th><th>mag</th><th>mag</th><th>mag</th><th>mag</th><th>mag</th><th>mag</th><th>mag</th><th></th><th></th></tr></thead>\n",
       "<thead><tr><th>str19</th><th>float64</th><th>float64</th><th>float64</th><th>float64</th><th>float64</th><th>float64</th><th>float64</th><th>float64</th><th>float64</th><th>float64</th><th>float64</th><th>float64</th><th>float64</th><th>float64</th><th>float64</th><th>float64</th><th>str7</th><th>str5</th></tr></thead>\n",
       "<tr><td>J212642.05+005246.5</td><td>321.675190</td><td>0.879590</td><td>19.978810</td><td>18.457390</td><td>17.196300</td><td>16.136960</td><td>15.543930</td><td>14.71141</td><td>14.16797</td><td>13.54024</td><td>13.31250</td><td>14.24600</td><td>13.53800</td><td>13.32000</td><td>13.25000</td><td>13.13900</td><td>--</td><td>Sloan</td></tr>\n",
       "<tr><td>J090822.04+475144.7</td><td>137.091850</td><td>47.862420</td><td>20.532400</td><td>18.926280</td><td>17.641650</td><td>16.833600</td><td>16.421500</td><td>--</td><td>--</td><td>--</td><td>--</td><td>15.20700</td><td>14.47700</td><td>14.47800</td><td>14.23700</td><td>14.17200</td><td>--</td><td>Sloan</td></tr>\n",
       "<tr><td>J155904.62+035623.5</td><td>239.769270</td><td>3.939845</td><td>18.236220</td><td>18.399310</td><td>18.583660</td><td>18.685800</td><td>18.673540</td><td>--</td><td>--</td><td>--</td><td>--</td><td>--</td><td>--</td><td>--</td><td>--</td><td>--</td><td>--</td><td>Sloan</td></tr>\n",
       "<tr><td>J153040.12+010712.5</td><td>232.667180</td><td>1.120140</td><td>18.776590</td><td>18.390980</td><td>18.203420</td><td>17.340510</td><td>16.650700</td><td>15.80775</td><td>15.27345</td><td>--</td><td>14.55030</td><td>15.27500</td><td>14.83400</td><td>14.49100</td><td>14.39600</td><td>14.14900</td><td>--</td><td>Sloan</td></tr>\n",
       "<tr><td>J103934.17+494641.8</td><td>159.892400</td><td>49.778305</td><td>21.969250</td><td>21.442590</td><td>21.596780</td><td>21.304570</td><td>20.507120</td><td>--</td><td>--</td><td>--</td><td>--</td><td>--</td><td>--</td><td>--</td><td>--</td><td>--</td><td>--</td><td>Sloan</td></tr>\n",
       "<tr><td>J130608.49+012837.9</td><td>196.535390</td><td>1.477198</td><td>18.812610</td><td>19.020810</td><td>19.409940</td><td>19.450740</td><td>19.348210</td><td>--</td><td>--</td><td>--</td><td>--</td><td>--</td><td>--</td><td>--</td><td>--</td><td>--</td><td>--</td><td>Sloan</td></tr>\n",
       "<tr><td>J213419.30+013137.3</td><td>323.580410</td><td>1.527020</td><td>18.563730</td><td>18.260640</td><td>18.095710</td><td>17.213610</td><td>16.514200</td><td>--</td><td>--</td><td>--</td><td>--</td><td>15.19000</td><td>14.58100</td><td>14.49100</td><td>14.33800</td><td>14.13300</td><td>--</td><td>Sloan</td></tr>\n",
       "<tr><td>J130425.49-033232.4</td><td>196.106220</td><td>-3.542320</td><td>19.067790</td><td>18.666370</td><td>17.933700</td><td>17.296720</td><td>16.906390</td><td>--</td><td>--</td><td>--</td><td>--</td><td>--</td><td>--</td><td>--</td><td>14.78700</td><td>14.73100</td><td>--</td><td>Sloan</td></tr>\n",
       "<tr><td>J135756.51-021823.1</td><td>209.485470</td><td>-2.306420</td><td>19.126040</td><td>18.965860</td><td>18.930320</td><td>18.669380</td><td>18.626510</td><td>--</td><td>--</td><td>17.49608</td><td>16.79712</td><td>--</td><td>--</td><td>--</td><td>--</td><td>--</td><td>QSO</td><td>Sloan</td></tr>\n",
       "<tr><td>...</td><td>...</td><td>...</td><td>...</td><td>...</td><td>...</td><td>...</td><td>...</td><td>...</td><td>...</td><td>...</td><td>...</td><td>...</td><td>...</td><td>...</td><td>...</td><td>...</td><td>...</td><td>...</td></tr>\n",
       "<tr><td>J104616.52+352558.9</td><td>161.568860</td><td>35.433053</td><td>20.975000</td><td>20.437490</td><td>20.410740</td><td>20.080000</td><td>19.534570</td><td>--</td><td>--</td><td>--</td><td>--</td><td>--</td><td>--</td><td>--</td><td>--</td><td>--</td><td>--</td><td>Sloan</td></tr>\n",
       "<tr><td>J084454.81+110803.1</td><td>131.228400</td><td>11.134211</td><td>20.837180</td><td>20.380510</td><td>20.550910</td><td>20.457120</td><td>20.185510</td><td>--</td><td>--</td><td>--</td><td>--</td><td>--</td><td>--</td><td>--</td><td>--</td><td>--</td><td>--</td><td>Sloan</td></tr>\n",
       "<tr><td>J145214.26+602517.1</td><td>223.059420</td><td>60.421426</td><td>20.480650</td><td>20.025350</td><td>20.187310</td><td>20.049500</td><td>19.551720</td><td>--</td><td>--</td><td>--</td><td>--</td><td>--</td><td>--</td><td>--</td><td>--</td><td>--</td><td>--</td><td>Sloan</td></tr>\n",
       "<tr><td>J141322.26-161754.1</td><td>213.342770</td><td>-16.298360</td><td>19.462950</td><td>18.683600</td><td>17.577680</td><td>16.592570</td><td>15.938800</td><td>--</td><td>--</td><td>--</td><td>--</td><td>14.64200</td><td>13.95400</td><td>13.65400</td><td>13.55400</td><td>13.45800</td><td>--</td><td>Sloan</td></tr>\n",
       "<tr><td>J111046.29+612225.2</td><td>167.692900</td><td>61.373685</td><td>21.567220</td><td>19.664900</td><td>18.237700</td><td>16.788090</td><td>15.976770</td><td>--</td><td>--</td><td>--</td><td>--</td><td>--</td><td>--</td><td>--</td><td>--</td><td>--</td><td>--</td><td>Sloan</td></tr>\n",
       "<tr><td>J091549.39+671628.6</td><td>138.955810</td><td>67.274620</td><td>17.740960</td><td>17.566580</td><td>17.356240</td><td>16.440230</td><td>15.847480</td><td>--</td><td>--</td><td>--</td><td>--</td><td>14.43300</td><td>13.81200</td><td>13.52000</td><td>13.45000</td><td>13.28600</td><td>--</td><td>Sloan</td></tr>\n",
       "<tr><td>J040206.74+805357.8</td><td>60.528080</td><td>80.899400</td><td>17.767530</td><td>17.440010</td><td>17.179080</td><td>16.446700</td><td>16.001700</td><td>--</td><td>--</td><td>--</td><td>--</td><td>14.65900</td><td>14.12200</td><td>13.93300</td><td>13.81900</td><td>13.65800</td><td>--</td><td>Sloan</td></tr>\n",
       "<tr><td>J134507.21+064912.8</td><td>206.280030</td><td>6.820230</td><td>19.020010</td><td>18.891540</td><td>18.967020</td><td>19.140640</td><td>19.301290</td><td>18.95820</td><td>18.80446</td><td>--</td><td>--</td><td>--</td><td>--</td><td>--</td><td>--</td><td>--</td><td>--</td><td>Sloan</td></tr>\n",
       "<tr><td>J221609.25+255446.7</td><td>334.038560</td><td>25.912960</td><td>19.175930</td><td>18.289120</td><td>17.449840</td><td>16.210800</td><td>15.564350</td><td>--</td><td>--</td><td>--</td><td>--</td><td>14.13700</td><td>13.47800</td><td>13.23800</td><td>--</td><td>--</td><td>--</td><td>Sloan</td></tr>\n",
       "<tr><td>J011151.74+291143.3</td><td>17.965570</td><td>29.195350</td><td>18.851460</td><td>18.650620</td><td>18.729580</td><td>18.167460</td><td>17.526450</td><td>--</td><td>--</td><td>--</td><td>--</td><td>--</td><td>--</td><td>--</td><td>15.21800</td><td>15.09400</td><td>--</td><td>Sloan</td></tr>\n",
       "</table></div>"
      ],
      "text/plain": [
       "<Table length=1000>\n",
       "        SDSS         RAJ2000    DEJ2000      umag   ...  W2mag   SpType Sloan\n",
       "                       deg        deg        mag    ...   mag                \n",
       "       str19         float64    float64    float64  ... float64   str7   str5\n",
       "------------------- ---------- ---------- --------- ... -------- ------ -----\n",
       "J212642.05+005246.5 321.675190   0.879590 19.978810 ... 13.13900     -- Sloan\n",
       "J090822.04+475144.7 137.091850  47.862420 20.532400 ... 14.17200     -- Sloan\n",
       "J155904.62+035623.5 239.769270   3.939845 18.236220 ...       --     -- Sloan\n",
       "J153040.12+010712.5 232.667180   1.120140 18.776590 ... 14.14900     -- Sloan\n",
       "J103934.17+494641.8 159.892400  49.778305 21.969250 ...       --     -- Sloan\n",
       "J130608.49+012837.9 196.535390   1.477198 18.812610 ...       --     -- Sloan\n",
       "J213419.30+013137.3 323.580410   1.527020 18.563730 ... 14.13300     -- Sloan\n",
       "J130425.49-033232.4 196.106220  -3.542320 19.067790 ... 14.73100     -- Sloan\n",
       "J135756.51-021823.1 209.485470  -2.306420 19.126040 ...       --    QSO Sloan\n",
       "                ...        ...        ...       ... ...      ...    ...   ...\n",
       "J104616.52+352558.9 161.568860  35.433053 20.975000 ...       --     -- Sloan\n",
       "J084454.81+110803.1 131.228400  11.134211 20.837180 ...       --     -- Sloan\n",
       "J145214.26+602517.1 223.059420  60.421426 20.480650 ...       --     -- Sloan\n",
       "J141322.26-161754.1 213.342770 -16.298360 19.462950 ... 13.45800     -- Sloan\n",
       "J111046.29+612225.2 167.692900  61.373685 21.567220 ...       --     -- Sloan\n",
       "J091549.39+671628.6 138.955810  67.274620 17.740960 ... 13.28600     -- Sloan\n",
       "J040206.74+805357.8  60.528080  80.899400 17.767530 ... 13.65800     -- Sloan\n",
       "J134507.21+064912.8 206.280030   6.820230 19.020010 ...       --     -- Sloan\n",
       "J221609.25+255446.7 334.038560  25.912960 19.175930 ...       --     -- Sloan\n",
       "J011151.74+291143.3  17.965570  29.195350 18.851460 ... 15.09400     -- Sloan"
      ]
     },
     "execution_count": 3,
     "metadata": {},
     "output_type": "execute_result"
    }
   ],
   "source": [
    "WDMS_1k=Table.read('tables/wdms_1k.ecsv')\n",
    "WDMS_1k\n"
   ]
  },
  {
   "cell_type": "code",
   "execution_count": 44,
   "metadata": {},
   "outputs": [
    {
     "name": "stderr",
     "output_type": "stream",
     "text": [
      "C:\\Users\\AntonioOrtega\\AppData\\Local\\Programs\\Python\\Python39\\lib\\site-packages\\astroquery\\sdss\\core.py:867: VisibleDeprecationWarning: Reading unicode strings without specifying the encoding argument is deprecated. Set the encoding, use None for the system default.\n",
      "  arr = np.atleast_1d(np.genfromtxt(io.BytesIO(response.content),\n",
      "C:\\Users\\AntonioOrtega\\AppData\\Local\\Programs\\Python\\Python39\\lib\\site-packages\\astropy\\table\\table.py:3488: FutureWarning: elementwise == comparison failed and returning scalar instead; this will raise an error or perform elementwise comparison in the future.\n",
      "  result = self.as_array() == other\n"
     ]
    },
    {
     "name": "stdout",
     "output_type": "stream",
     "text": [
      "Objects with SDSS spectrum: 400\n"
     ]
    }
   ],
   "source": [
    "# Dictionary with objects with available SDSS spectrum\n",
    "WDMS_1k_spec = {}\n",
    "for i in range(len(WDMS_1k)):\n",
    "    coord = str(WDMS_1k[i]['RAJ2000'])+\" \"+str(WDMS_1k[i]['DEJ2000'])\n",
    "    pos = coords.SkyCoord(coord, unit=(u.deg, u.deg))\n",
    "    # Query SDSS, default 2 arcsec radio\n",
    "    xid = SDSS.query_region(pos, spectro=True, data_release=17)\n",
    "    if xid!=None:\n",
    "        WDMS_1k_spec[WDMS_1k[i]['SDSS']] = xid\n",
    "print(\"Objects with SDSS spectrum:\", len(WDMS_1k_spec))\n"
   ]
  },
  {
   "cell_type": "code",
   "execution_count": 54,
   "metadata": {},
   "outputs": [
    {
     "data": {
      "text/plain": [
       "400"
      ]
     },
     "execution_count": 54,
     "metadata": {},
     "output_type": "execute_result"
    }
   ],
   "source": [
    "len(WDMS_1k_spec)\n"
   ]
  },
  {
   "cell_type": "code",
   "execution_count": 51,
   "metadata": {},
   "outputs": [
    {
     "data": {
      "text/html": [
       "<div><i>Table length=3</i>\n",
       "<table id=\"table1721325760864\" class=\"table-striped table-bordered table-condensed\">\n",
       "<thead><tr><th>ra</th><th>dec</th><th>objid</th><th>run</th><th>rerun</th><th>camcol</th><th>field</th><th>z</th><th>plate</th><th>mjd</th><th>fiberID</th><th>specobjid</th><th>run2d</th></tr></thead>\n",
       "<thead><tr><th>float64</th><th>float64</th><th>int64</th><th>int32</th><th>int32</th><th>int32</th><th>int32</th><th>float64</th><th>int32</th><th>int32</th><th>int32</th><th>int64</th><th>bytes7</th></tr></thead>\n",
       "<tr><td>239.769266213072</td><td>3.93984454452779</td><td>1237655743488458979</td><td>2391</td><td>301</td><td>3</td><td>218</td><td>-0.001662432</td><td>1837</td><td>53494</td><td>283</td><td>2068355977937184768</td><td>26</td></tr>\n",
       "<tr><td>239.769266213072</td><td>3.93984454452779</td><td>1237655743488458979</td><td>2391</td><td>301</td><td>3</td><td>218</td><td>0.00183719</td><td>2951</td><td>54592</td><td>65</td><td>3322548569197537280</td><td>26</td></tr>\n",
       "<tr><td>239.769266213072</td><td>3.93984454452779</td><td>1237655743488458979</td><td>2391</td><td>301</td><td>3</td><td>218</td><td>-0.001886334</td><td>4808</td><td>55705</td><td>420</td><td>5413442296535603200</td><td>v5_13_2</td></tr>\n",
       "</table></div>"
      ],
      "text/plain": [
       "<Table length=3>\n",
       "       ra              dec        ...      specobjid       run2d \n",
       "    float64          float64      ...        int64         bytes7\n",
       "---------------- ---------------- ... ------------------- -------\n",
       "239.769266213072 3.93984454452779 ... 2068355977937184768      26\n",
       "239.769266213072 3.93984454452779 ... 3322548569197537280      26\n",
       "239.769266213072 3.93984454452779 ... 5413442296535603200 v5_13_2"
      ]
     },
     "execution_count": 51,
     "metadata": {},
     "output_type": "execute_result"
    }
   ],
   "source": [
    "WDMS_1k_spec['J155904.62+035623.5']\n"
   ]
  },
  {
   "cell_type": "code",
   "execution_count": 52,
   "metadata": {},
   "outputs": [
    {
     "name": "stderr",
     "output_type": "stream",
     "text": [
      "WARNING: MergeConflictWarning: Cannot merge meta key 'null' types <class 'float'> and <class 'float'>, choosing null=nan [astropy.utils.metadata]\n"
     ]
    }
   ],
   "source": [
    "# 1st round for joint table\n",
    "WDMS_1k_spec_t = Table()\n",
    "for i in range(len(list(WDMS_1k_spec))):\n",
    "    t1 = WDMS_1k[WDMS_1k['SDSS']==list(WDMS_1k_spec)[i]]\n",
    "    t2 = WDMS_1k_spec[list(WDMS_1k_spec)[i]]\n",
    "    t2p = Table()\n",
    "    t1p = Table()\n",
    "    for j in range(len(t2)):\n",
    "        t2t = Table(t2[j], copy=True, dtype=('float64', 'float64', 'int64', 'int32', 'int32', 'int32', 'int32', 'float64', 'int32', 'int32', 'int32', 'int64', 'S7'))\n",
    "        t2p = vstack([t2p, t2t])\n",
    "        t1p = vstack([t1p, t1])\n",
    "    o = hstack([t1p, t2p])\n",
    "    WDMS_1k_spec_t = vstack([WDMS_1k_spec_t, o])\n"
   ]
  },
  {
   "cell_type": "code",
   "execution_count": 55,
   "metadata": {},
   "outputs": [],
   "source": [
    "WDMS_1k_spec_t.write('tables/wdms_1k_w_spec.ecsv')\n"
   ]
  },
  {
   "cell_type": "code",
   "execution_count": 4,
   "metadata": {},
   "outputs": [],
   "source": [
    "WDMS_1k_spec_t=Table.read('tables/wdms_1k_w_spec.ecsv')\n"
   ]
  },
  {
   "cell_type": "code",
   "execution_count": 5,
   "metadata": {},
   "outputs": [
    {
     "data": {
      "text/html": [
       "<div><i>Table length=545</i>\n",
       "<table id=\"table2017739598384\" class=\"table-striped table-bordered table-condensed\">\n",
       "<thead><tr><th>SDSS</th><th>RAJ2000</th><th>DEJ2000</th><th>umag</th><th>gmag</th><th>rmag</th><th>imag</th><th>zmag</th><th>Ymag</th><th>Jmag</th><th>Hmag</th><th>Kmag</th><th>Jmag2</th><th>Hmag2</th><th>Kmag2</th><th>W1mag</th><th>W2mag</th><th>SpType</th><th>Sloan</th><th>ra</th><th>dec</th><th>objid</th><th>run</th><th>rerun</th><th>camcol</th><th>field</th><th>z</th><th>plate</th><th>mjd</th><th>fiberID</th><th>specobjid</th><th>run2d</th></tr></thead>\n",
       "<thead><tr><th></th><th>deg</th><th>deg</th><th>mag</th><th>mag</th><th>mag</th><th>mag</th><th>mag</th><th>mag</th><th>mag</th><th>mag</th><th>mag</th><th>mag</th><th>mag</th><th>mag</th><th>mag</th><th>mag</th><th></th><th></th><th></th><th></th><th></th><th></th><th></th><th></th><th></th><th></th><th></th><th></th><th></th><th></th><th></th></tr></thead>\n",
       "<thead><tr><th>str19</th><th>float64</th><th>float64</th><th>float64</th><th>float64</th><th>float64</th><th>float64</th><th>float64</th><th>float64</th><th>float64</th><th>float64</th><th>float64</th><th>float64</th><th>float64</th><th>float64</th><th>float64</th><th>float64</th><th>str7</th><th>str5</th><th>float64</th><th>float64</th><th>int64</th><th>int32</th><th>int32</th><th>int32</th><th>int32</th><th>float64</th><th>int32</th><th>int32</th><th>int32</th><th>int64</th><th>str7</th></tr></thead>\n",
       "<tr><td>J155904.62+035623.5</td><td>239.769270</td><td>3.939845</td><td>18.236220</td><td>18.399310</td><td>18.583660</td><td>18.685800</td><td>18.673540</td><td>--</td><td>--</td><td>--</td><td>--</td><td>--</td><td>--</td><td>--</td><td>--</td><td>--</td><td>--</td><td>Sloan</td><td>239.769266213072</td><td>3.93984454452779</td><td>1237655743488458979</td><td>2391</td><td>301</td><td>3</td><td>218</td><td>-0.001662432</td><td>1837</td><td>53494</td><td>283</td><td>2068355977937184768</td><td>26</td></tr>\n",
       "<tr><td>J155904.62+035623.5</td><td>239.769270</td><td>3.939845</td><td>18.236220</td><td>18.399310</td><td>18.583660</td><td>18.685800</td><td>18.673540</td><td>--</td><td>--</td><td>--</td><td>--</td><td>--</td><td>--</td><td>--</td><td>--</td><td>--</td><td>--</td><td>Sloan</td><td>239.769266213072</td><td>3.93984454452779</td><td>1237655743488458979</td><td>2391</td><td>301</td><td>3</td><td>218</td><td>0.00183719</td><td>2951</td><td>54592</td><td>65</td><td>3322548569197537280</td><td>26</td></tr>\n",
       "<tr><td>J155904.62+035623.5</td><td>239.769270</td><td>3.939845</td><td>18.236220</td><td>18.399310</td><td>18.583660</td><td>18.685800</td><td>18.673540</td><td>--</td><td>--</td><td>--</td><td>--</td><td>--</td><td>--</td><td>--</td><td>--</td><td>--</td><td>--</td><td>Sloan</td><td>239.769266213072</td><td>3.93984454452779</td><td>1237655743488458979</td><td>2391</td><td>301</td><td>3</td><td>218</td><td>-0.001886334</td><td>4808</td><td>55705</td><td>420</td><td>5413442296535603200</td><td>v5_13_2</td></tr>\n",
       "<tr><td>J103934.17+494641.8</td><td>159.892400</td><td>49.778305</td><td>21.969250</td><td>21.442590</td><td>21.596780</td><td>21.304570</td><td>20.507120</td><td>--</td><td>--</td><td>--</td><td>--</td><td>--</td><td>--</td><td>--</td><td>--</td><td>--</td><td>--</td><td>Sloan</td><td>159.89240236338</td><td>49.7782875061721</td><td>1237657629522264375</td><td>2830</td><td>301</td><td>4</td><td>314</td><td>-5.025144e-05</td><td>6694</td><td>56386</td><td>5</td><td>7536775457934694400</td><td>v5_13_2</td></tr>\n",
       "<tr><td>J130608.49+012837.9</td><td>196.535390</td><td>1.477198</td><td>18.812610</td><td>19.020810</td><td>19.409940</td><td>19.450740</td><td>19.348210</td><td>--</td><td>--</td><td>--</td><td>--</td><td>--</td><td>--</td><td>--</td><td>--</td><td>--</td><td>--</td><td>Sloan</td><td>196.535383314416</td><td>1.47724903703652</td><td>1237651735227334665</td><td>1458</td><td>301</td><td>1</td><td>479</td><td>0.0003650358</td><td>4052</td><td>55600</td><td>746</td><td>4562351575398635520</td><td>v5_13_2</td></tr>\n",
       "<tr><td>J130608.49+012837.9</td><td>196.535390</td><td>1.477198</td><td>18.812610</td><td>19.020810</td><td>19.409940</td><td>19.450740</td><td>19.348210</td><td>--</td><td>--</td><td>--</td><td>--</td><td>--</td><td>--</td><td>--</td><td>--</td><td>--</td><td>--</td><td>Sloan</td><td>196.535383314416</td><td>1.47724903703652</td><td>1237651735227334665</td><td>1458</td><td>301</td><td>1</td><td>479</td><td>0.000194866</td><td>4052</td><td>55589</td><td>744</td><td>4562351025458272256</td><td>v5_13_2</td></tr>\n",
       "<tr><td>J135756.51-021823.1</td><td>209.485470</td><td>-2.306420</td><td>19.126040</td><td>18.965860</td><td>18.930320</td><td>18.669380</td><td>18.626510</td><td>--</td><td>--</td><td>17.49608</td><td>16.79712</td><td>--</td><td>--</td><td>--</td><td>--</td><td>--</td><td>QSO</td><td>Sloan</td><td>209.485467061802</td><td>-2.30642462393141</td><td>1237655498667000037</td><td>2334</td><td>301</td><td>3</td><td>91</td><td>1.75841</td><td>915</td><td>52443</td><td>312</td><td>1030284217654732800</td><td>26</td></tr>\n",
       "<tr><td>J094259.54+015637.6</td><td>145.748120</td><td>1.943802</td><td>21.279500</td><td>20.743590</td><td>20.704330</td><td>20.516010</td><td>20.001490</td><td>--</td><td>--</td><td>--</td><td>--</td><td>--</td><td>--</td><td>--</td><td>--</td><td>--</td><td>--</td><td>Sloan</td><td>145.748114873087</td><td>1.94379827809914</td><td>1237651753995338054</td><td>1462</td><td>301</td><td>4</td><td>136</td><td>0.0001393152</td><td>4736</td><td>55631</td><td>148</td><td>5332302735210731520</td><td>v5_13_2</td></tr>\n",
       "<tr><td>J121318.15+510247.7</td><td>183.325620</td><td>51.046580</td><td>18.873160</td><td>18.460570</td><td>18.309210</td><td>17.582150</td><td>17.056990</td><td>--</td><td>--</td><td>--</td><td>--</td><td>15.69500</td><td>15.26200</td><td>14.86900</td><td>14.78900</td><td>14.68400</td><td>WDMS</td><td>Sloan</td><td>183.32561534504</td><td>51.0465215342475</td><td>1237658206121689098</td><td>2964</td><td>301</td><td>6</td><td>315</td><td>3.842381e-05</td><td>2919</td><td>54537</td><td>609</td><td>3286669304837203968</td><td>26</td></tr>\n",
       "<tr><td>...</td><td>...</td><td>...</td><td>...</td><td>...</td><td>...</td><td>...</td><td>...</td><td>...</td><td>...</td><td>...</td><td>...</td><td>...</td><td>...</td><td>...</td><td>...</td><td>...</td><td>...</td><td>...</td><td>...</td><td>...</td><td>...</td><td>...</td><td>...</td><td>...</td><td>...</td><td>...</td><td>...</td><td>...</td><td>...</td><td>...</td><td>...</td></tr>\n",
       "<tr><td>J014302.22+153707.3</td><td>25.759274</td><td>15.618705</td><td>22.267460</td><td>21.722170</td><td>21.614180</td><td>21.307730</td><td>20.704840</td><td>--</td><td>--</td><td>--</td><td>--</td><td>--</td><td>--</td><td>--</td><td>--</td><td>--</td><td>--</td><td>Sloan</td><td>25.7592745266949</td><td>15.6187043259373</td><td>1237679167696405096</td><td>7845</td><td>301</td><td>2</td><td>114</td><td>0.000159495</td><td>5130</td><td>55835</td><td>152</td><td>5775908401440905216</td><td>v5_13_2</td></tr>\n",
       "<tr><td>J132248.59+464733.1</td><td>200.702450</td><td>46.792530</td><td>19.370750</td><td>18.741850</td><td>18.448270</td><td>17.808280</td><td>17.298700</td><td>--</td><td>--</td><td>--</td><td>--</td><td>--</td><td>--</td><td>--</td><td>15.07300</td><td>14.98200</td><td>--</td><td>Sloan</td><td>200.702451388358</td><td>46.7925256576152</td><td>1237661434849919074</td><td>3716</td><td>301</td><td>4</td><td>110</td><td>8.40572e-05</td><td>7408</td><td>56780</td><td>849</td><td>8340899994984011776</td><td>v5_13_2</td></tr>\n",
       "<tr><td>J150234.39+372114.4</td><td>225.643310</td><td>37.354013</td><td>20.964210</td><td>20.586090</td><td>20.666950</td><td>20.607920</td><td>20.308530</td><td>--</td><td>--</td><td>--</td><td>--</td><td>--</td><td>--</td><td>--</td><td>--</td><td>--</td><td>--</td><td>Sloan</td><td>225.643312776958</td><td>37.3540134219976</td><td>1237661872954081638</td><td>3818</td><td>301</td><td>4</td><td>377</td><td>0.0002191573</td><td>5168</td><td>56035</td><td>316</td><td>5818737681233106944</td><td>v5_13_2</td></tr>\n",
       "<tr><td>J225203.75+141854.2</td><td>343.015660</td><td>14.315063</td><td>20.237990</td><td>19.780630</td><td>19.939130</td><td>19.688750</td><td>19.142140</td><td>--</td><td>--</td><td>--</td><td>--</td><td>--</td><td>--</td><td>--</td><td>--</td><td>--</td><td>--</td><td>Sloan</td><td>343.015657974941</td><td>14.3150618255285</td><td>1237652943705014543</td><td>1739</td><td>301</td><td>4</td><td>193</td><td>8.318912e-05</td><td>5040</td><td>56243</td><td>296</td><td>5674616999088773120</td><td>v5_13_2</td></tr>\n",
       "<tr><td>J010428.86-000907.3</td><td>16.120286</td><td>-0.152053</td><td>22.155690</td><td>20.828190</td><td>19.751250</td><td>18.356240</td><td>17.467750</td><td>--</td><td>--</td><td>--</td><td>--</td><td>--</td><td>--</td><td>--</td><td>--</td><td>--</td><td>--</td><td>Sloan</td><td>16.1202887072844</td><td>-0.152049404101327</td><td>1237666339188768982</td><td>4858</td><td>301</td><td>3</td><td>462</td><td>8.110181e-06</td><td>3735</td><td>55209</td><td>280</td><td>4205313205264996352</td><td>v5_13_2</td></tr>\n",
       "<tr><td>J010428.86-000907.3</td><td>16.120286</td><td>-0.152053</td><td>22.155690</td><td>20.828190</td><td>19.751250</td><td>18.356240</td><td>17.467750</td><td>--</td><td>--</td><td>--</td><td>--</td><td>--</td><td>--</td><td>--</td><td>--</td><td>--</td><td>--</td><td>Sloan</td><td>16.1202887072844</td><td>-0.152049404101327</td><td>1237666339188768982</td><td>4858</td><td>301</td><td>3</td><td>462</td><td>0.000309105</td><td>3736</td><td>55214</td><td>480</td><td>4206494080837113856</td><td>v5_13_2</td></tr>\n",
       "<tr><td>J104616.52+352558.9</td><td>161.568860</td><td>35.433053</td><td>20.975000</td><td>20.437490</td><td>20.410740</td><td>20.080000</td><td>19.534570</td><td>--</td><td>--</td><td>--</td><td>--</td><td>--</td><td>--</td><td>--</td><td>--</td><td>--</td><td>--</td><td>Sloan</td><td>161.568872559847</td><td>35.4330461173415</td><td>1237664819279888701</td><td>4504</td><td>301</td><td>4</td><td>45</td><td>2.626553e-05</td><td>4635</td><td>55615</td><td>236</td><td>5218611033607002112</td><td>v5_13_2</td></tr>\n",
       "<tr><td>J084454.81+110803.1</td><td>131.228400</td><td>11.134211</td><td>20.837180</td><td>20.380510</td><td>20.550910</td><td>20.457120</td><td>20.185510</td><td>--</td><td>--</td><td>--</td><td>--</td><td>--</td><td>--</td><td>--</td><td>--</td><td>--</td><td>--</td><td>Sloan</td><td>131.228405708588</td><td>11.1342111611727</td><td>1237671124832747990</td><td>5972</td><td>301</td><td>5</td><td>106</td><td>0.0003571814</td><td>5287</td><td>55952</td><td>772</td><td>5952845113080436736</td><td>v5_13_2</td></tr>\n",
       "<tr><td>J145214.26+602517.1</td><td>223.059420</td><td>60.421426</td><td>20.480650</td><td>20.025350</td><td>20.187310</td><td>20.049500</td><td>19.551720</td><td>--</td><td>--</td><td>--</td><td>--</td><td>--</td><td>--</td><td>--</td><td>--</td><td>--</td><td>--</td><td>Sloan</td><td>223.059416727042</td><td>60.4213487945367</td><td>1237654400774504589</td><td>2078</td><td>301</td><td>6</td><td>221</td><td>7.320824e-05</td><td>6982</td><td>56444</td><td>406</td><td>7861144858119133184</td><td>v5_13_2</td></tr>\n",
       "<tr><td>J111046.29+612225.2</td><td>167.692900</td><td>61.373685</td><td>21.567220</td><td>19.664900</td><td>18.237700</td><td>16.788090</td><td>15.976770</td><td>--</td><td>--</td><td>--</td><td>--</td><td>--</td><td>--</td><td>--</td><td>--</td><td>--</td><td>--</td><td>Sloan</td><td>167.692855728936</td><td>61.3736918234637</td><td>1237655369821388942</td><td>2304</td><td>301</td><td>3</td><td>143</td><td>-3.798692e-05</td><td>7103</td><td>56661</td><td>950</td><td>7997528284069124096</td><td>v5_13_2</td></tr>\n",
       "</table></div>"
      ],
      "text/plain": [
       "<Table length=545>\n",
       "        SDSS         RAJ2000    DEJ2000   ...      specobjid       run2d \n",
       "                       deg        deg     ...                            \n",
       "       str19         float64    float64   ...        int64          str7 \n",
       "------------------- ---------- ---------- ... ------------------- -------\n",
       "J155904.62+035623.5 239.769270   3.939845 ... 2068355977937184768      26\n",
       "J155904.62+035623.5 239.769270   3.939845 ... 3322548569197537280      26\n",
       "J155904.62+035623.5 239.769270   3.939845 ... 5413442296535603200 v5_13_2\n",
       "J103934.17+494641.8 159.892400  49.778305 ... 7536775457934694400 v5_13_2\n",
       "J130608.49+012837.9 196.535390   1.477198 ... 4562351575398635520 v5_13_2\n",
       "J130608.49+012837.9 196.535390   1.477198 ... 4562351025458272256 v5_13_2\n",
       "J135756.51-021823.1 209.485470  -2.306420 ... 1030284217654732800      26\n",
       "J094259.54+015637.6 145.748120   1.943802 ... 5332302735210731520 v5_13_2\n",
       "J121318.15+510247.7 183.325620  51.046580 ... 3286669304837203968      26\n",
       "                ...        ...        ... ...                 ...     ...\n",
       "J014302.22+153707.3  25.759274  15.618705 ... 5775908401440905216 v5_13_2\n",
       "J132248.59+464733.1 200.702450  46.792530 ... 8340899994984011776 v5_13_2\n",
       "J150234.39+372114.4 225.643310  37.354013 ... 5818737681233106944 v5_13_2\n",
       "J225203.75+141854.2 343.015660  14.315063 ... 5674616999088773120 v5_13_2\n",
       "J010428.86-000907.3  16.120286  -0.152053 ... 4205313205264996352 v5_13_2\n",
       "J010428.86-000907.3  16.120286  -0.152053 ... 4206494080837113856 v5_13_2\n",
       "J104616.52+352558.9 161.568860  35.433053 ... 5218611033607002112 v5_13_2\n",
       "J084454.81+110803.1 131.228400  11.134211 ... 5952845113080436736 v5_13_2\n",
       "J145214.26+602517.1 223.059420  60.421426 ... 7861144858119133184 v5_13_2\n",
       "J111046.29+612225.2 167.692900  61.373685 ... 7997528284069124096 v5_13_2"
      ]
     },
     "execution_count": 5,
     "metadata": {},
     "output_type": "execute_result"
    }
   ],
   "source": [
    "WDMS_1k_spec_t\n"
   ]
  },
  {
   "cell_type": "code",
   "execution_count": 56,
   "metadata": {},
   "outputs": [
    {
     "name": "stderr",
     "output_type": "stream",
     "text": [
      "C:\\Users\\AntonioOrtega\\AppData\\Local\\Programs\\Python\\Python39\\lib\\site-packages\\astroquery\\sdss\\core.py:867: VisibleDeprecationWarning: Reading unicode strings without specifying the encoding argument is deprecated. Set the encoding, use None for the system default.\n",
      "  arr = np.atleast_1d(np.genfromtxt(io.BytesIO(response.content),\n"
     ]
    }
   ],
   "source": [
    "# Download spectrum files:\n",
    "error = []\n",
    "for l in range(len(WDMS_1k_spec_t)):\n",
    "    plate = WDMS_1k_spec_t[l]['plate']\n",
    "    mjd = WDMS_1k_spec_t[l]['mjd']\n",
    "    fiber = WDMS_1k_spec_t[l]['fiberID']\n",
    "    filename = 'spec-'+str(plate).zfill(4)+'-'+str(mjd)+'-'+str(fiber).zfill(4)+'.fits'\n",
    "    if not os.path.exists('SDSSspec/'+filename):\n",
    "        try:\n",
    "            spec = SDSS.get_spectra(plate=plate, mjd=mjd, fiberID=fiber, data_release=17)\n",
    "            spec[0].writeto('SDSSspec/'+filename)\n",
    "        except:\n",
    "            csv_row = str(plate).zfill(4)+', '+str(mjd)+', '+str(fiber).zfill(4)\n",
    "            error.append(csv_row)\n",
    "\n",
    "with open('SDSSspec/error.txt', 'w') as f:\n",
    "    for element in error:\n",
    "        f.write(element + \"\\n\")\n"
   ]
  },
  {
   "cell_type": "code",
   "execution_count": 68,
   "metadata": {},
   "outputs": [
    {
     "name": "stderr",
     "output_type": "stream",
     "text": [
      "WARNING: MergeConflictWarning: Cannot merge meta key 'null' types <class 'float'> and <class 'float'>, choosing null=nan [astropy.utils.metadata]\n"
     ]
    }
   ],
   "source": [
    "# Checking duplicates\n",
    "# 5465\t55988\t396\n",
    "# 5385\t55960\t741\n",
    "# 5384\t55984\t56\n",
    "# 4225\t55455\t702\n",
    "# 3679\t55209\t542\n",
    "# 3674\t55182\t298\n",
    "a = WDMS_1k_spec_t[WDMS_1k_spec_t['plate']==5465]\n",
    "b = WDMS_1k_spec_t[WDMS_1k_spec_t['plate']==5385]\n",
    "c = WDMS_1k_spec_t[WDMS_1k_spec_t['plate']==5384]\n",
    "d = WDMS_1k_spec_t[WDMS_1k_spec_t['plate']==4225]\n",
    "e = WDMS_1k_spec_t[WDMS_1k_spec_t['plate']==3679]\n",
    "f = WDMS_1k_spec_t[WDMS_1k_spec_t['plate']==3674]\n",
    "g = vstack([a, vstack([b,c])])\n",
    "h = vstack([e, vstack([f,g])])\n"
   ]
  },
  {
   "cell_type": "code",
   "execution_count": 69,
   "metadata": {},
   "outputs": [
    {
     "data": {
      "text/html": [
       "<div><i>Table length=17</i>\n",
       "<table id=\"table1721116111440\" class=\"table-striped table-bordered table-condensed\">\n",
       "<thead><tr><th>SDSS</th><th>RAJ2000</th><th>DEJ2000</th><th>umag</th><th>gmag</th><th>rmag</th><th>imag</th><th>zmag</th><th>Ymag</th><th>Jmag</th><th>Hmag</th><th>Kmag</th><th>Jmag2</th><th>Hmag2</th><th>Kmag2</th><th>W1mag</th><th>W2mag</th><th>SpType</th><th>Sloan</th><th>ra</th><th>dec</th><th>objid</th><th>run</th><th>rerun</th><th>camcol</th><th>field</th><th>z</th><th>plate</th><th>mjd</th><th>fiberID</th><th>specobjid</th><th>run2d</th></tr></thead>\n",
       "<thead><tr><th></th><th>deg</th><th>deg</th><th>mag</th><th>mag</th><th>mag</th><th>mag</th><th>mag</th><th>mag</th><th>mag</th><th>mag</th><th>mag</th><th>mag</th><th>mag</th><th>mag</th><th>mag</th><th>mag</th><th></th><th></th><th></th><th></th><th></th><th></th><th></th><th></th><th></th><th></th><th></th><th></th><th></th><th></th><th></th></tr></thead>\n",
       "<thead><tr><th>str19</th><th>float64</th><th>float64</th><th>float64</th><th>float64</th><th>float64</th><th>float64</th><th>float64</th><th>float64</th><th>float64</th><th>float64</th><th>float64</th><th>float64</th><th>float64</th><th>float64</th><th>float64</th><th>float64</th><th>str7</th><th>str5</th><th>float64</th><th>float64</th><th>int64</th><th>int32</th><th>int32</th><th>int32</th><th>int32</th><th>float64</th><th>int32</th><th>int32</th><th>int32</th><th>int64</th><th>bytes7</th></tr></thead>\n",
       "<tr><td>J142855.46+103313.8</td><td>217.231080</td><td>10.553820</td><td>18.597020</td><td>18.545800</td><td>18.474290</td><td>17.416320</td><td>16.638400</td><td>15.71925</td><td>15.15977</td><td>14.65579</td><td>14.38598</td><td>15.20100</td><td>14.62500</td><td>14.38100</td><td>14.26200</td><td>14.11300</td><td>--</td><td>Sloan</td><td>217.231083075448</td><td>10.553824422506</td><td>1237661949731536941</td><td>3836</td><td>301</td><td>3</td><td>452</td><td>1.371523e-05</td><td>5465</td><td>55988</td><td>396</td><td>6153151943009392640</td><td>v5_13_2</td></tr>\n",
       "<tr><td>J142855.43+103313.6</td><td>217.230960</td><td>10.553778</td><td>18.597020</td><td>18.545800</td><td>18.474290</td><td>17.416320</td><td>16.638400</td><td>--</td><td>--</td><td>--</td><td>--</td><td>--</td><td>--</td><td>--</td><td>--</td><td>--</td><td>--</td><td>Sloan</td><td>217.231083075448</td><td>10.553824422506</td><td>1237661949731536941</td><td>3836</td><td>301</td><td>3</td><td>452</td><td>1.371523e-05</td><td>5465</td><td>55988</td><td>396</td><td>6153151943009392640</td><td>v5_13_2</td></tr>\n",
       "<tr><td>J115553.94+105255.2</td><td>178.974770</td><td>10.882003</td><td>16.748830</td><td>16.858730</td><td>16.794950</td><td>16.159850</td><td>15.624820</td><td>--</td><td>--</td><td>--</td><td>--</td><td>--</td><td>--</td><td>--</td><td>--</td><td>--</td><td>--</td><td>Sloan</td><td>178.974861778108</td><td>10.8819820481296</td><td>1237658493889544228</td><td>3031</td><td>301</td><td>6</td><td>392</td><td>0.000106374</td><td>5385</td><td>55960</td><td>741</td><td>6063174782870116352</td><td>v5_13_2</td></tr>\n",
       "<tr><td>J115553.97+105255.1</td><td>178.974870</td><td>10.881980</td><td>16.748830</td><td>16.858730</td><td>16.794950</td><td>16.159850</td><td>15.624820</td><td>14.74880</td><td>14.27843</td><td>13.70400</td><td>13.45491</td><td>14.32800</td><td>13.70200</td><td>13.46200</td><td>13.35600</td><td>13.23500</td><td>--</td><td>Sloan</td><td>178.974861778108</td><td>10.8819820481296</td><td>1237658493889544228</td><td>3031</td><td>301</td><td>6</td><td>392</td><td>0.000106374</td><td>5385</td><td>55960</td><td>741</td><td>6063174782870116352</td><td>v5_13_2</td></tr>\n",
       "<tr><td>J115553.94+105255.2</td><td>178.974770</td><td>10.882003</td><td>16.748830</td><td>16.858730</td><td>16.794950</td><td>16.159850</td><td>15.624820</td><td>--</td><td>--</td><td>--</td><td>--</td><td>--</td><td>--</td><td>--</td><td>--</td><td>--</td><td>--</td><td>Sloan</td><td>178.974861778108</td><td>10.8819820481296</td><td>1237658493889544228</td><td>3031</td><td>301</td><td>6</td><td>392</td><td>0.0001114073</td><td>5384</td><td>55984</td><td>56</td><td>6061860591999670272</td><td>v5_13_2</td></tr>\n",
       "<tr><td>J115553.97+105255.1</td><td>178.974870</td><td>10.881980</td><td>16.748830</td><td>16.858730</td><td>16.794950</td><td>16.159850</td><td>15.624820</td><td>14.74880</td><td>14.27843</td><td>13.70400</td><td>13.45491</td><td>14.32800</td><td>13.70200</td><td>13.46200</td><td>13.35600</td><td>13.23500</td><td>--</td><td>Sloan</td><td>178.974861778108</td><td>10.8819820481296</td><td>1237658493889544228</td><td>3031</td><td>301</td><td>6</td><td>392</td><td>0.0001114073</td><td>5384</td><td>55984</td><td>56</td><td>6061860591999670272</td><td>v5_13_2</td></tr>\n",
       "<tr><td>J074935.41+521928.4</td><td>117.397580</td><td>52.324570</td><td>20.024360</td><td>18.585810</td><td>17.367520</td><td>16.371030</td><td>15.826150</td><td>--</td><td>--</td><td>--</td><td>--</td><td>--</td><td>--</td><td>--</td><td>--</td><td>--</td><td>--</td><td>Sloan</td><td>117.39762489263</td><td>52.3244941936556</td><td>1237663918413119869</td><td>4294</td><td>301</td><td>6</td><td>85</td><td>-0.0001480132</td><td>3679</td><td>55209</td><td>542</td><td>4142334828493428736</td><td>v5_13_2</td></tr>\n",
       "<tr><td>J074935.42+521928.5</td><td>117.397580</td><td>52.324570</td><td>20.024360</td><td>18.585810</td><td>17.367520</td><td>16.371030</td><td>15.826150</td><td>--</td><td>--</td><td>--</td><td>--</td><td>14.53300</td><td>13.85400</td><td>13.65600</td><td>13.57000</td><td>13.43700</td><td>--</td><td>Sloan</td><td>117.39762489263</td><td>52.3244941936556</td><td>1237663918413119869</td><td>4294</td><td>301</td><td>6</td><td>85</td><td>-0.0001480132</td><td>3679</td><td>55209</td><td>542</td><td>4142334828493428736</td><td>v5_13_2</td></tr>\n",
       "<tr><td>J075335.00+510605.2</td><td>118.395860</td><td>51.101470</td><td>18.295450</td><td>17.931120</td><td>17.852290</td><td>17.146490</td><td>16.470480</td><td>--</td><td>--</td><td>--</td><td>--</td><td>--</td><td>--</td><td>--</td><td>--</td><td>--</td><td>--</td><td>Sloan</td><td>118.395865046706</td><td>51.1014039869591</td><td>1237663916802179186</td><td>4294</td><td>301</td><td>3</td><td>80</td><td>5.806516e-05</td><td>3679</td><td>55209</td><td>374</td><td>4142288649005062144</td><td>v5_13_2</td></tr>\n",
       "<tr><td>J074849.81+412352.9</td><td>117.207540</td><td>41.398020</td><td>19.419810</td><td>18.447150</td><td>17.367090</td><td>16.197800</td><td>15.544380</td><td>--</td><td>--</td><td>--</td><td>--</td><td>14.26200</td><td>13.75200</td><td>13.58800</td><td>13.35300</td><td>13.14800</td><td>--</td><td>Sloan</td><td>117.207548141163</td><td>41.3980246109863</td><td>1237651495218970853</td><td>1402</td><td>301</td><td>2</td><td>66</td><td>-0.0002702887</td><td>3674</td><td>55182</td><td>298</td><td>4136638258296936448</td><td>v5_13_2</td></tr>\n",
       "<tr><td>J074849.80+412352.8</td><td>117.207540</td><td>41.398024</td><td>19.419810</td><td>18.447150</td><td>17.367090</td><td>16.197800</td><td>15.544380</td><td>--</td><td>--</td><td>--</td><td>--</td><td>--</td><td>--</td><td>--</td><td>--</td><td>--</td><td>--</td><td>Sloan</td><td>117.207548141163</td><td>41.3980246109863</td><td>1237651495218970853</td><td>1402</td><td>301</td><td>2</td><td>66</td><td>-0.0002702887</td><td>3674</td><td>55182</td><td>298</td><td>4136638258296936448</td><td>v5_13_2</td></tr>\n",
       "<tr><td>J142855.46+103313.8</td><td>217.231080</td><td>10.553820</td><td>18.597020</td><td>18.545800</td><td>18.474290</td><td>17.416320</td><td>16.638400</td><td>15.71925</td><td>15.15977</td><td>14.65579</td><td>14.38598</td><td>15.20100</td><td>14.62500</td><td>14.38100</td><td>14.26200</td><td>14.11300</td><td>--</td><td>Sloan</td><td>217.231083075448</td><td>10.553824422506</td><td>1237661949731536941</td><td>3836</td><td>301</td><td>3</td><td>452</td><td>1.371523e-05</td><td>5465</td><td>55988</td><td>396</td><td>6153151943009392640</td><td>v5_13_2</td></tr>\n",
       "<tr><td>J142855.43+103313.6</td><td>217.230960</td><td>10.553778</td><td>18.597020</td><td>18.545800</td><td>18.474290</td><td>17.416320</td><td>16.638400</td><td>--</td><td>--</td><td>--</td><td>--</td><td>--</td><td>--</td><td>--</td><td>--</td><td>--</td><td>--</td><td>Sloan</td><td>217.231083075448</td><td>10.553824422506</td><td>1237661949731536941</td><td>3836</td><td>301</td><td>3</td><td>452</td><td>1.371523e-05</td><td>5465</td><td>55988</td><td>396</td><td>6153151943009392640</td><td>v5_13_2</td></tr>\n",
       "<tr><td>J115553.94+105255.2</td><td>178.974770</td><td>10.882003</td><td>16.748830</td><td>16.858730</td><td>16.794950</td><td>16.159850</td><td>15.624820</td><td>--</td><td>--</td><td>--</td><td>--</td><td>--</td><td>--</td><td>--</td><td>--</td><td>--</td><td>--</td><td>Sloan</td><td>178.974861778108</td><td>10.8819820481296</td><td>1237658493889544228</td><td>3031</td><td>301</td><td>6</td><td>392</td><td>0.000106374</td><td>5385</td><td>55960</td><td>741</td><td>6063174782870116352</td><td>v5_13_2</td></tr>\n",
       "<tr><td>J115553.97+105255.1</td><td>178.974870</td><td>10.881980</td><td>16.748830</td><td>16.858730</td><td>16.794950</td><td>16.159850</td><td>15.624820</td><td>14.74880</td><td>14.27843</td><td>13.70400</td><td>13.45491</td><td>14.32800</td><td>13.70200</td><td>13.46200</td><td>13.35600</td><td>13.23500</td><td>--</td><td>Sloan</td><td>178.974861778108</td><td>10.8819820481296</td><td>1237658493889544228</td><td>3031</td><td>301</td><td>6</td><td>392</td><td>0.000106374</td><td>5385</td><td>55960</td><td>741</td><td>6063174782870116352</td><td>v5_13_2</td></tr>\n",
       "<tr><td>J115553.94+105255.2</td><td>178.974770</td><td>10.882003</td><td>16.748830</td><td>16.858730</td><td>16.794950</td><td>16.159850</td><td>15.624820</td><td>--</td><td>--</td><td>--</td><td>--</td><td>--</td><td>--</td><td>--</td><td>--</td><td>--</td><td>--</td><td>Sloan</td><td>178.974861778108</td><td>10.8819820481296</td><td>1237658493889544228</td><td>3031</td><td>301</td><td>6</td><td>392</td><td>0.0001114073</td><td>5384</td><td>55984</td><td>56</td><td>6061860591999670272</td><td>v5_13_2</td></tr>\n",
       "<tr><td>J115553.97+105255.1</td><td>178.974870</td><td>10.881980</td><td>16.748830</td><td>16.858730</td><td>16.794950</td><td>16.159850</td><td>15.624820</td><td>14.74880</td><td>14.27843</td><td>13.70400</td><td>13.45491</td><td>14.32800</td><td>13.70200</td><td>13.46200</td><td>13.35600</td><td>13.23500</td><td>--</td><td>Sloan</td><td>178.974861778108</td><td>10.8819820481296</td><td>1237658493889544228</td><td>3031</td><td>301</td><td>6</td><td>392</td><td>0.0001114073</td><td>5384</td><td>55984</td><td>56</td><td>6061860591999670272</td><td>v5_13_2</td></tr>\n",
       "</table></div>"
      ],
      "text/plain": [
       "<Table length=17>\n",
       "        SDSS         RAJ2000    DEJ2000   ...      specobjid       run2d \n",
       "                       deg        deg     ...                            \n",
       "       str19         float64    float64   ...        int64         bytes7\n",
       "------------------- ---------- ---------- ... ------------------- -------\n",
       "J142855.46+103313.8 217.231080  10.553820 ... 6153151943009392640 v5_13_2\n",
       "J142855.43+103313.6 217.230960  10.553778 ... 6153151943009392640 v5_13_2\n",
       "J115553.94+105255.2 178.974770  10.882003 ... 6063174782870116352 v5_13_2\n",
       "J115553.97+105255.1 178.974870  10.881980 ... 6063174782870116352 v5_13_2\n",
       "J115553.94+105255.2 178.974770  10.882003 ... 6061860591999670272 v5_13_2\n",
       "J115553.97+105255.1 178.974870  10.881980 ... 6061860591999670272 v5_13_2\n",
       "J074935.41+521928.4 117.397580  52.324570 ... 4142334828493428736 v5_13_2\n",
       "J074935.42+521928.5 117.397580  52.324570 ... 4142334828493428736 v5_13_2\n",
       "J075335.00+510605.2 118.395860  51.101470 ... 4142288649005062144 v5_13_2\n",
       "J074849.81+412352.9 117.207540  41.398020 ... 4136638258296936448 v5_13_2\n",
       "J074849.80+412352.8 117.207540  41.398024 ... 4136638258296936448 v5_13_2\n",
       "J142855.46+103313.8 217.231080  10.553820 ... 6153151943009392640 v5_13_2\n",
       "J142855.43+103313.6 217.230960  10.553778 ... 6153151943009392640 v5_13_2\n",
       "J115553.94+105255.2 178.974770  10.882003 ... 6063174782870116352 v5_13_2\n",
       "J115553.97+105255.1 178.974870  10.881980 ... 6063174782870116352 v5_13_2\n",
       "J115553.94+105255.2 178.974770  10.882003 ... 6061860591999670272 v5_13_2\n",
       "J115553.97+105255.1 178.974870  10.881980 ... 6061860591999670272 v5_13_2"
      ]
     },
     "execution_count": 69,
     "metadata": {},
     "output_type": "execute_result"
    }
   ],
   "source": [
    "# by the way: different DR have different run2d (pipeline reduction #), spectrum may vary a bit\n",
    "# 26, 103, 104, v5_10_0 DR15, v5_13_0 DR16, v5_13_2 DR17\n",
    "vstack([g,h])\n"
   ]
  },
  {
   "cell_type": "code",
   "execution_count": 6,
   "metadata": {},
   "outputs": [
    {
     "name": "stderr",
     "output_type": "stream",
     "text": [
      "WARNING: UnitsWarning: '1E-17 erg/cm^2/s/Angstrom' contains multiple slashes, which is discouraged by the FITS standard [astropy.units.format.generic]\n"
     ]
    }
   ],
   "source": [
    "# Joint table, with class and subclass\n",
    "WDMS_1k_spec_t_class = Table()\n",
    "obtyp = Table(names=('class', 'subclass', 'sppixmask', 'zwarning', 'good', 'snr'), dtype=('S10', 'S10', 'S100', 'S100', 'bool', 'f8'))\n",
    "for i in range(len(WDMS_1k_spec_t)):\n",
    "    bitset_m = set()\n",
    "    bitset_z = set()\n",
    "    p = WDMS_1k_spec_t[i]['plate']\n",
    "    m = WDMS_1k_spec_t[i]['mjd']\n",
    "    f = WDMS_1k_spec_t[i]['fiberID']\n",
    "    filename = 'spec-'+str(p).zfill(4)+'-'+str(m)+'-'+str(f).zfill(4)+'.fits'\n",
    "    spec1d = Spectrum1D.read('wdms_1k/'+filename)\n",
    "    snrval = snr_derived(spec1d, SpectralRegion(4000*u.AA, 9000*u.AA))\n",
    "    hdul = fits.open('wdms_1k/'+filename)\n",
    "    andmk = hdul[1].data['and_mask']\n",
    "    zwarn = hdul[2].data['ZWARNING']\n",
    "    counter = 0\n",
    "    for v in range(len(zwarn)):\n",
    "        bits = [bit for bit in range(0, 32) if (zwarn[v] & 1 << bit) > 0]\n",
    "        if bits!=[]:\n",
    "            bitset_z.update(bits)\n",
    "    for v in range(len(andmk)):\n",
    "        bits = [bit for bit in range(0, 32) if (andmk[v] & 1 << bit) > 0]\n",
    "        if bits!=[]:\n",
    "            if bits!=[]: counter=counter+1\n",
    "            bitset_m.update(bits)\n",
    "    badpct = counter/len(andmk)\n",
    "    goodfl = True\n",
    "    if badpct>0.1:\n",
    "        goodfl = False\n",
    "    obtyp.add_row((hdul[2].data['CLASS'][0], hdul[2].data['SUBCLASS'][0], str(bitset_m), str(bitset_z), goodfl, snrval))\n",
    "WDMS_1k_spec_t_class = hstack([WDMS_1k_spec_t, obtyp])\n"
   ]
  },
  {
   "cell_type": "code",
   "execution_count": 8,
   "metadata": {},
   "outputs": [],
   "source": [
    "WDMS_1k_spec_t_class.write('tables/wdms_1k_w_spec_class.ecsv', overwrite=True)\n"
   ]
  },
  {
   "cell_type": "code",
   "execution_count": 9,
   "metadata": {},
   "outputs": [
    {
     "data": {
      "text/html": [
       "<div><i>Table length=545</i>\n",
       "<table id=\"table2017739465344\" class=\"table-striped table-bordered table-condensed\">\n",
       "<thead><tr><th>SDSS</th><th>RAJ2000</th><th>DEJ2000</th><th>umag</th><th>gmag</th><th>rmag</th><th>imag</th><th>zmag</th><th>Ymag</th><th>Jmag</th><th>Hmag</th><th>Kmag</th><th>Jmag2</th><th>Hmag2</th><th>Kmag2</th><th>W1mag</th><th>W2mag</th><th>SpType</th><th>Sloan</th><th>ra</th><th>dec</th><th>objid</th><th>run</th><th>rerun</th><th>camcol</th><th>field</th><th>z</th><th>plate</th><th>mjd</th><th>fiberID</th><th>specobjid</th><th>run2d</th><th>class</th><th>subclass</th><th>sppixmask</th><th>zwarning</th><th>good</th><th>snr</th></tr></thead>\n",
       "<thead><tr><th></th><th>deg</th><th>deg</th><th>mag</th><th>mag</th><th>mag</th><th>mag</th><th>mag</th><th>mag</th><th>mag</th><th>mag</th><th>mag</th><th>mag</th><th>mag</th><th>mag</th><th>mag</th><th>mag</th><th></th><th></th><th></th><th></th><th></th><th></th><th></th><th></th><th></th><th></th><th></th><th></th><th></th><th></th><th></th><th></th><th></th><th></th><th></th><th></th><th></th></tr></thead>\n",
       "<thead><tr><th>str19</th><th>float64</th><th>float64</th><th>float64</th><th>float64</th><th>float64</th><th>float64</th><th>float64</th><th>float64</th><th>float64</th><th>float64</th><th>float64</th><th>float64</th><th>float64</th><th>float64</th><th>float64</th><th>float64</th><th>str7</th><th>str5</th><th>float64</th><th>float64</th><th>int64</th><th>int32</th><th>int32</th><th>int32</th><th>int32</th><th>float64</th><th>int32</th><th>int32</th><th>int32</th><th>int64</th><th>str7</th><th>str6</th><th>str19</th><th>str28</th><th>str5</th><th>bool</th><th>float64</th></tr></thead>\n",
       "<tr><td>J155904.62+035623.5</td><td>239.769270</td><td>3.939845</td><td>18.236220</td><td>18.399310</td><td>18.583660</td><td>18.685800</td><td>18.673540</td><td>--</td><td>--</td><td>--</td><td>--</td><td>--</td><td>--</td><td>--</td><td>--</td><td>--</td><td>--</td><td>Sloan</td><td>239.769266213072</td><td>3.93984454452779</td><td>1237655743488458979</td><td>2391</td><td>301</td><td>3</td><td>218</td><td>-0.001662432</td><td>1837</td><td>53494</td><td>283</td><td>2068355977937184768</td><td>26</td><td>STAR</td><td>WD</td><td>{23}</td><td>set()</td><td>True</td><td>12.511028601934864</td></tr>\n",
       "<tr><td>J155904.62+035623.5</td><td>239.769270</td><td>3.939845</td><td>18.236220</td><td>18.399310</td><td>18.583660</td><td>18.685800</td><td>18.673540</td><td>--</td><td>--</td><td>--</td><td>--</td><td>--</td><td>--</td><td>--</td><td>--</td><td>--</td><td>--</td><td>Sloan</td><td>239.769266213072</td><td>3.93984454452779</td><td>1237655743488458979</td><td>2391</td><td>301</td><td>3</td><td>218</td><td>0.00183719</td><td>2951</td><td>54592</td><td>65</td><td>3322548569197537280</td><td>26</td><td>STAR</td><td>WD</td><td>{16, 27, 23}</td><td>set()</td><td>True</td><td>14.648762736467816</td></tr>\n",
       "<tr><td>J155904.62+035623.5</td><td>239.769270</td><td>3.939845</td><td>18.236220</td><td>18.399310</td><td>18.583660</td><td>18.685800</td><td>18.673540</td><td>--</td><td>--</td><td>--</td><td>--</td><td>--</td><td>--</td><td>--</td><td>--</td><td>--</td><td>--</td><td>Sloan</td><td>239.769266213072</td><td>3.93984454452779</td><td>1237655743488458979</td><td>2391</td><td>301</td><td>3</td><td>218</td><td>-0.001886334</td><td>4808</td><td>55705</td><td>420</td><td>5413442296535603200</td><td>v5_13_2</td><td>STAR</td><td>WDhotter</td><td>{23}</td><td>set()</td><td>True</td><td>24.932542516051733</td></tr>\n",
       "<tr><td>J103934.17+494641.8</td><td>159.892400</td><td>49.778305</td><td>21.969250</td><td>21.442590</td><td>21.596780</td><td>21.304570</td><td>20.507120</td><td>--</td><td>--</td><td>--</td><td>--</td><td>--</td><td>--</td><td>--</td><td>--</td><td>--</td><td>--</td><td>Sloan</td><td>159.89240236338</td><td>49.7782875061721</td><td>1237657629522264375</td><td>2830</td><td>301</td><td>4</td><td>314</td><td>-5.025144e-05</td><td>6694</td><td>56386</td><td>5</td><td>7536775457934694400</td><td>v5_13_2</td><td>STAR</td><td>WDhotter</td><td>{18, 27, 23}</td><td>set()</td><td>True</td><td>2.314343621138151</td></tr>\n",
       "<tr><td>J130608.49+012837.9</td><td>196.535390</td><td>1.477198</td><td>18.812610</td><td>19.020810</td><td>19.409940</td><td>19.450740</td><td>19.348210</td><td>--</td><td>--</td><td>--</td><td>--</td><td>--</td><td>--</td><td>--</td><td>--</td><td>--</td><td>--</td><td>Sloan</td><td>196.535383314416</td><td>1.47724903703652</td><td>1237651735227334665</td><td>1458</td><td>301</td><td>1</td><td>479</td><td>0.0003650358</td><td>4052</td><td>55600</td><td>746</td><td>4562351575398635520</td><td>v5_13_2</td><td>STAR</td><td>WDcooler</td><td>{16, 27, 19, 23}</td><td>set()</td><td>True</td><td>10.852818389472036</td></tr>\n",
       "<tr><td>J130608.49+012837.9</td><td>196.535390</td><td>1.477198</td><td>18.812610</td><td>19.020810</td><td>19.409940</td><td>19.450740</td><td>19.348210</td><td>--</td><td>--</td><td>--</td><td>--</td><td>--</td><td>--</td><td>--</td><td>--</td><td>--</td><td>--</td><td>Sloan</td><td>196.535383314416</td><td>1.47724903703652</td><td>1237651735227334665</td><td>1458</td><td>301</td><td>1</td><td>479</td><td>0.000194866</td><td>4052</td><td>55589</td><td>744</td><td>4562351025458272256</td><td>v5_13_2</td><td>STAR</td><td>WDcooler</td><td>{23}</td><td>set()</td><td>True</td><td>13.059929197487001</td></tr>\n",
       "<tr><td>J135756.51-021823.1</td><td>209.485470</td><td>-2.306420</td><td>19.126040</td><td>18.965860</td><td>18.930320</td><td>18.669380</td><td>18.626510</td><td>--</td><td>--</td><td>17.49608</td><td>16.79712</td><td>--</td><td>--</td><td>--</td><td>--</td><td>--</td><td>QSO</td><td>Sloan</td><td>209.485467061802</td><td>-2.30642462393141</td><td>1237655498667000037</td><td>2334</td><td>301</td><td>3</td><td>91</td><td>1.75841</td><td>915</td><td>52443</td><td>312</td><td>1030284217654732800</td><td>26</td><td>QSO</td><td>BROADLINE</td><td>{16, 27, 23}</td><td>set()</td><td>True</td><td>8.345302478357796</td></tr>\n",
       "<tr><td>J094259.54+015637.6</td><td>145.748120</td><td>1.943802</td><td>21.279500</td><td>20.743590</td><td>20.704330</td><td>20.516010</td><td>20.001490</td><td>--</td><td>--</td><td>--</td><td>--</td><td>--</td><td>--</td><td>--</td><td>--</td><td>--</td><td>--</td><td>Sloan</td><td>145.748114873087</td><td>1.94379827809914</td><td>1237651753995338054</td><td>1462</td><td>301</td><td>4</td><td>136</td><td>0.0001393152</td><td>4736</td><td>55631</td><td>148</td><td>5332302735210731520</td><td>v5_13_2</td><td>STAR</td><td>WDhotter</td><td>{23}</td><td>set()</td><td>True</td><td>5.226483219335478</td></tr>\n",
       "<tr><td>J121318.15+510247.7</td><td>183.325620</td><td>51.046580</td><td>18.873160</td><td>18.460570</td><td>18.309210</td><td>17.582150</td><td>17.056990</td><td>--</td><td>--</td><td>--</td><td>--</td><td>15.69500</td><td>15.26200</td><td>14.86900</td><td>14.78900</td><td>14.68400</td><td>WDMS</td><td>Sloan</td><td>183.32561534504</td><td>51.0465215342475</td><td>1237658206121689098</td><td>2964</td><td>301</td><td>6</td><td>315</td><td>3.842381e-05</td><td>2919</td><td>54537</td><td>609</td><td>3286669304837203968</td><td>26</td><td>STAR</td><td>M3</td><td>{23}</td><td>{4}</td><td>True</td><td>33.0803041620724</td></tr>\n",
       "<tr><td>...</td><td>...</td><td>...</td><td>...</td><td>...</td><td>...</td><td>...</td><td>...</td><td>...</td><td>...</td><td>...</td><td>...</td><td>...</td><td>...</td><td>...</td><td>...</td><td>...</td><td>...</td><td>...</td><td>...</td><td>...</td><td>...</td><td>...</td><td>...</td><td>...</td><td>...</td><td>...</td><td>...</td><td>...</td><td>...</td><td>...</td><td>...</td><td>...</td><td>...</td><td>...</td><td>...</td><td>...</td><td>...</td></tr>\n",
       "<tr><td>J014302.22+153707.3</td><td>25.759274</td><td>15.618705</td><td>22.267460</td><td>21.722170</td><td>21.614180</td><td>21.307730</td><td>20.704840</td><td>--</td><td>--</td><td>--</td><td>--</td><td>--</td><td>--</td><td>--</td><td>--</td><td>--</td><td>--</td><td>Sloan</td><td>25.7592745266949</td><td>15.6187043259373</td><td>1237679167696405096</td><td>7845</td><td>301</td><td>2</td><td>114</td><td>0.000159495</td><td>5130</td><td>55835</td><td>152</td><td>5775908401440905216</td><td>v5_13_2</td><td>STAR</td><td>WDhotter</td><td>{18, 23}</td><td>set()</td><td>True</td><td>2.166964996305018</td></tr>\n",
       "<tr><td>J132248.59+464733.1</td><td>200.702450</td><td>46.792530</td><td>19.370750</td><td>18.741850</td><td>18.448270</td><td>17.808280</td><td>17.298700</td><td>--</td><td>--</td><td>--</td><td>--</td><td>--</td><td>--</td><td>--</td><td>15.07300</td><td>14.98200</td><td>--</td><td>Sloan</td><td>200.702451388358</td><td>46.7925256576152</td><td>1237661434849919074</td><td>3716</td><td>301</td><td>4</td><td>110</td><td>8.40572e-05</td><td>7408</td><td>56780</td><td>849</td><td>8340899994984011776</td><td>v5_13_2</td><td>STAR</td><td>M4.5:III (123657)</td><td>{27, 23}</td><td>set()</td><td>True</td><td>26.477990615512084</td></tr>\n",
       "<tr><td>J150234.39+372114.4</td><td>225.643310</td><td>37.354013</td><td>20.964210</td><td>20.586090</td><td>20.666950</td><td>20.607920</td><td>20.308530</td><td>--</td><td>--</td><td>--</td><td>--</td><td>--</td><td>--</td><td>--</td><td>--</td><td>--</td><td>--</td><td>Sloan</td><td>225.643312776958</td><td>37.3540134219976</td><td>1237661872954081638</td><td>3818</td><td>301</td><td>4</td><td>377</td><td>0.0002191573</td><td>5168</td><td>56035</td><td>316</td><td>5818737681233106944</td><td>v5_13_2</td><td>STAR</td><td>WDhotter</td><td>{27, 23}</td><td>set()</td><td>True</td><td>4.186547786847933</td></tr>\n",
       "<tr><td>J225203.75+141854.2</td><td>343.015660</td><td>14.315063</td><td>20.237990</td><td>19.780630</td><td>19.939130</td><td>19.688750</td><td>19.142140</td><td>--</td><td>--</td><td>--</td><td>--</td><td>--</td><td>--</td><td>--</td><td>--</td><td>--</td><td>--</td><td>Sloan</td><td>343.015657974941</td><td>14.3150618255285</td><td>1237652943705014543</td><td>1739</td><td>301</td><td>4</td><td>193</td><td>8.318912e-05</td><td>5040</td><td>56243</td><td>296</td><td>5674616999088773120</td><td>v5_13_2</td><td>STAR</td><td>WDhotter</td><td>{23}</td><td>set()</td><td>True</td><td>8.006742093672445</td></tr>\n",
       "<tr><td>J010428.86-000907.3</td><td>16.120286</td><td>-0.152053</td><td>22.155690</td><td>20.828190</td><td>19.751250</td><td>18.356240</td><td>17.467750</td><td>--</td><td>--</td><td>--</td><td>--</td><td>--</td><td>--</td><td>--</td><td>--</td><td>--</td><td>--</td><td>Sloan</td><td>16.1202887072844</td><td>-0.152049404101327</td><td>1237666339188768982</td><td>4858</td><td>301</td><td>3</td><td>462</td><td>8.110181e-06</td><td>3735</td><td>55209</td><td>280</td><td>4205313205264996352</td><td>v5_13_2</td><td>STAR</td><td>M5III (221615)</td><td>{23}</td><td>set()</td><td>True</td><td>8.704183413090936</td></tr>\n",
       "<tr><td>J010428.86-000907.3</td><td>16.120286</td><td>-0.152053</td><td>22.155690</td><td>20.828190</td><td>19.751250</td><td>18.356240</td><td>17.467750</td><td>--</td><td>--</td><td>--</td><td>--</td><td>--</td><td>--</td><td>--</td><td>--</td><td>--</td><td>--</td><td>Sloan</td><td>16.1202887072844</td><td>-0.152049404101327</td><td>1237666339188768982</td><td>4858</td><td>301</td><td>3</td><td>462</td><td>0.000309105</td><td>3736</td><td>55214</td><td>480</td><td>4206494080837113856</td><td>v5_13_2</td><td>STAR</td><td>M5III (221615)</td><td>{23}</td><td>set()</td><td>True</td><td>5.078417126588697</td></tr>\n",
       "<tr><td>J104616.52+352558.9</td><td>161.568860</td><td>35.433053</td><td>20.975000</td><td>20.437490</td><td>20.410740</td><td>20.080000</td><td>19.534570</td><td>--</td><td>--</td><td>--</td><td>--</td><td>--</td><td>--</td><td>--</td><td>--</td><td>--</td><td>--</td><td>Sloan</td><td>161.568872559847</td><td>35.4330461173415</td><td>1237664819279888701</td><td>4504</td><td>301</td><td>4</td><td>45</td><td>2.626553e-05</td><td>4635</td><td>55615</td><td>236</td><td>5218611033607002112</td><td>v5_13_2</td><td>STAR</td><td>WDcooler</td><td>{27, 23}</td><td>set()</td><td>True</td><td>6.175627372174015</td></tr>\n",
       "<tr><td>J084454.81+110803.1</td><td>131.228400</td><td>11.134211</td><td>20.837180</td><td>20.380510</td><td>20.550910</td><td>20.457120</td><td>20.185510</td><td>--</td><td>--</td><td>--</td><td>--</td><td>--</td><td>--</td><td>--</td><td>--</td><td>--</td><td>--</td><td>Sloan</td><td>131.228405708588</td><td>11.1342111611727</td><td>1237671124832747990</td><td>5972</td><td>301</td><td>5</td><td>106</td><td>0.0003571814</td><td>5287</td><td>55952</td><td>772</td><td>5952845113080436736</td><td>v5_13_2</td><td>STAR</td><td>WDhotter</td><td>{16, 27, 19, 23}</td><td>set()</td><td>True</td><td>4.265267189025063</td></tr>\n",
       "<tr><td>J145214.26+602517.1</td><td>223.059420</td><td>60.421426</td><td>20.480650</td><td>20.025350</td><td>20.187310</td><td>20.049500</td><td>19.551720</td><td>--</td><td>--</td><td>--</td><td>--</td><td>--</td><td>--</td><td>--</td><td>--</td><td>--</td><td>--</td><td>Sloan</td><td>223.059416727042</td><td>60.4213487945367</td><td>1237654400774504589</td><td>2078</td><td>301</td><td>6</td><td>221</td><td>7.320824e-05</td><td>6982</td><td>56444</td><td>406</td><td>7861144858119133184</td><td>v5_13_2</td><td>STAR</td><td>WDhotter</td><td>{27, 23}</td><td>set()</td><td>True</td><td>8.185329179782705</td></tr>\n",
       "<tr><td>J111046.29+612225.2</td><td>167.692900</td><td>61.373685</td><td>21.567220</td><td>19.664900</td><td>18.237700</td><td>16.788090</td><td>15.976770</td><td>--</td><td>--</td><td>--</td><td>--</td><td>--</td><td>--</td><td>--</td><td>--</td><td>--</td><td>--</td><td>Sloan</td><td>167.692855728936</td><td>61.3736918234637</td><td>1237655369821388942</td><td>2304</td><td>301</td><td>3</td><td>143</td><td>-3.798692e-05</td><td>7103</td><td>56661</td><td>950</td><td>7997528284069124096</td><td>v5_13_2</td><td>STAR</td><td>M5III (221615)</td><td>{16, 27, 19, 23}</td><td>set()</td><td>True</td><td>14.869794127265218</td></tr>\n",
       "</table></div>"
      ],
      "text/plain": [
       "<Table length=545>\n",
       "        SDSS         RAJ2000    DEJ2000   ... zwarning good        snr        \n",
       "                       deg        deg     ...                                 \n",
       "       str19         float64    float64   ...   str5   bool      float64      \n",
       "------------------- ---------- ---------- ... -------- ---- ------------------\n",
       "J155904.62+035623.5 239.769270   3.939845 ...    set() True 12.511028601934864\n",
       "J155904.62+035623.5 239.769270   3.939845 ...    set() True 14.648762736467816\n",
       "J155904.62+035623.5 239.769270   3.939845 ...    set() True 24.932542516051733\n",
       "J103934.17+494641.8 159.892400  49.778305 ...    set() True  2.314343621138151\n",
       "J130608.49+012837.9 196.535390   1.477198 ...    set() True 10.852818389472036\n",
       "J130608.49+012837.9 196.535390   1.477198 ...    set() True 13.059929197487001\n",
       "J135756.51-021823.1 209.485470  -2.306420 ...    set() True  8.345302478357796\n",
       "J094259.54+015637.6 145.748120   1.943802 ...    set() True  5.226483219335478\n",
       "J121318.15+510247.7 183.325620  51.046580 ...      {4} True   33.0803041620724\n",
       "                ...        ...        ... ...      ...  ...                ...\n",
       "J014302.22+153707.3  25.759274  15.618705 ...    set() True  2.166964996305018\n",
       "J132248.59+464733.1 200.702450  46.792530 ...    set() True 26.477990615512084\n",
       "J150234.39+372114.4 225.643310  37.354013 ...    set() True  4.186547786847933\n",
       "J225203.75+141854.2 343.015660  14.315063 ...    set() True  8.006742093672445\n",
       "J010428.86-000907.3  16.120286  -0.152053 ...    set() True  8.704183413090936\n",
       "J010428.86-000907.3  16.120286  -0.152053 ...    set() True  5.078417126588697\n",
       "J104616.52+352558.9 161.568860  35.433053 ...    set() True  6.175627372174015\n",
       "J084454.81+110803.1 131.228400  11.134211 ...    set() True  4.265267189025063\n",
       "J145214.26+602517.1 223.059420  60.421426 ...    set() True  8.185329179782705\n",
       "J111046.29+612225.2 167.692900  61.373685 ...    set() True 14.869794127265218"
      ]
     },
     "execution_count": 9,
     "metadata": {},
     "output_type": "execute_result"
    }
   ],
   "source": [
    "WDMS_1k_spec_t_class=Table.read('tables/wdms_1k_w_spec_class.ecsv')\n",
    "WDMS_1k_spec_t_class\n"
   ]
  },
  {
   "cell_type": "code",
   "execution_count": 10,
   "metadata": {},
   "outputs": [],
   "source": [
    "def plotspecwd(plate, mjd, fiber, direc, title, g, c, save=False):\n",
    "    filename = 'spec-'+str(plate).zfill(4)+'-'+str(mjd)+'-'+str(fiber).zfill(4)+'.fits'\n",
    "    hdul = fits.open(direc+filename)\n",
    "    flux = hdul[1].data['flux']*1e-17*units.FLAM\n",
    "    loglam = hdul[1].data['loglam']\n",
    "    wave = 10 ** loglam\n",
    "\n",
    "    sp = SourceSpectrum(Empirical1D, points=wave, lookup_table=flux, keep_neg=False)\n",
    "    spu = units.convert_flux(sp.waveset, sp(sp.waveset), units.FLAM)\n",
    "\n",
    "    plt.figure(figsize=(16,4))\n",
    "    plt.plot(sp.waveset.value, spu.value)\n",
    "    plt.xlabel('Wavelength [Ångströms]')\n",
    "    plt.ylabel('Flux [erg/cm²/s/Å]')\n",
    "    plt.title(title+' ; '+hdul[2].data['CLASS'][0]+' '+hdul[2].data['SUBCLASS'][0])\n",
    "    if save==True:\n",
    "        if g==False:\n",
    "            folderout='bad/'\n",
    "        else:\n",
    "            if c!='STAR':\n",
    "                folderout='other/'\n",
    "            else:\n",
    "                folderout='spec/'\n",
    "        plt.savefig(folderout+'spec-'+str(plate).zfill(4)+'-'+str(mjd)+'-'+str(fiber).zfill(4)+'.png', facecolor='white', edgecolor='none')\n",
    "    else:\n",
    "        plt.show()\n",
    "\n",
    "def plotspec_obwd(object, save=False):\n",
    "    p=object['plate']\n",
    "    m=object['mjd']\n",
    "    f=object['fiberID']\n",
    "    t=object['SDSS']\n",
    "    g=object['good']\n",
    "    c=str(object['class'])\n",
    "    print(t+' ; '+str(p)+'-'+str(m)+'-'+str(f))\n",
    "    plotspecwd(p, m, f, 'wdms_1k/', t+' ; '+str(p)+'-'+str(m)+'-'+str(f), g, c, save)\n"
   ]
  },
  {
   "cell_type": "code",
   "execution_count": null,
   "metadata": {},
   "outputs": [],
   "source": [
    "# Plot (and save) spectrum loop\n",
    "for l in range(len(WDMS_1k_spec_t_class)):\n",
    "    plotspec_obwd(WDMS_1k_spec_t_class[l], save=True)\n"
   ]
  },
  {
   "cell_type": "code",
   "execution_count": 11,
   "metadata": {},
   "outputs": [
    {
     "name": "stdout",
     "output_type": "stream",
     "text": [
      "J155904.62+035623.5 ; 1837-53494-283\n"
     ]
    },
    {
     "name": "stderr",
     "output_type": "stream",
     "text": [
      "WARNING: 8 bin(s) contained negative flux or throughput; it/they will be set to zero.\n",
      "  points: [5579.5596 8348.34   8404.27   8431.405  8832.833  8892.009  8963.964\n",
      " 9055.238 ]\n",
      "  lookup_table: [-1.62689801e-05 -4.35171610e-06 -3.16962573e-07 -7.61885429e-07\n",
      " -1.07132794e-05 -1.91649621e-05 -9.45517787e-07 -1.14114073e-06] [synphot.models]\n"
     ]
    },
    {
     "data": {
      "image/png": "[encoded data removed]",
      "text/plain": [
       "<Figure size 1152x288 with 1 Axes>"
      ]
     },
     "metadata": {
      "needs_background": "light"
     },
     "output_type": "display_data"
    }
   ],
   "source": [
    "plotspec_obwd(WDMS_1k_spec_t_class[0])\n"
   ]
  }
 ],
 "metadata": {
  "interpreter": {
   "hash": "3df98a109a5cc23581108261c6c72118143224d8842a21ce60f5415bfb914c48"
  },
  "kernelspec": {
   "display_name": "Python 3.9.9 64-bit",
   "language": "python",
   "name": "python3"
  },
  "language_info": {
   "codemirror_mode": {
    "name": "ipython",
    "version": 3
   },
   "file_extension": ".py",
   "mimetype": "text/x-python",
   "name": "python",
   "nbconvert_exporter": "python",
   "pygments_lexer": "ipython3",
   "version": "3.9.10"
  },
  "orig_nbformat": 4
 },
 "nbformat": 4,
 "nbformat_minor": 2
}
